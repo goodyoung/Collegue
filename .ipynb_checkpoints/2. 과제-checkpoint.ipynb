{
 "cells": [
  {
   "cell_type": "code",
   "execution_count": 1,
   "id": "934d7998-510e-4bc1-97fa-c3fe036f526a",
   "metadata": {
    "tags": []
   },
   "outputs": [
    {
     "name": "stdout",
     "output_type": "stream",
     "text": [
      "123\n",
      "  123\n",
      "00123\n",
      "123.450000\n",
      "  123.5\n",
      "123.450\n",
      "Python\n",
      "    Python\n"
     ]
    }
   ],
   "source": [
    "#1\n",
    "print(\"%d\" % 123)\n",
    "print(\"%5d\" % 123)\n",
    "print(\"%05d\" % 123)\n",
    "print(\"%f\" % 123.45)\n",
    "print(\"%7.1f\" % 123.45)\n",
    "print(\"%7.3f\" % 123.45)\n",
    "print(\"%s\" % \"Python\")\n",
    "print(\"%10s\" % \"Python\")"
   ]
  },
  {
   "cell_type": "code",
   "execution_count": 2,
   "id": "aa9add9e-ddef-433d-8b3c-aa9e3a3c4796",
   "metadata": {
    "tags": []
   },
   "outputs": [
    {
     "name": "stdout",
     "output_type": "stream",
     "text": [
      "\n",
      "줄 바꿈\n",
      "연습 \n",
      "\t탭 키\t연습\n",
      "글자가 \"강조\"되는 효과1\n",
      "글자가 '강조'되는 효과2\n",
      "\\\\\\ 역슬래시 세 개 출력\n",
      "\\n \\t \\\" \\\\를 그대로 출력\n"
     ]
    }
   ],
   "source": [
    "#2\n",
    "print(\"\\n줄 바꿈\\n연습 \")\n",
    "print(\"\\t탭 키\\t연습\")\n",
    "print(\"글자가 \\\"강조\\\"되는 효과1\")\n",
    "print(\"글자가 \\'강조\\'되는 효과2\")\n",
    "print(\"\\\\\\\\\\\\ 역슬래시 세 개 출력\")\n",
    "print(r\"\\n \\t \\\" \\\\를 그대로 출력\")"
   ]
  },
  {
   "cell_type": "code",
   "execution_count": 3,
   "id": "ae72689b-0125-4949-9902-550accc00562",
   "metadata": {
    "tags": []
   },
   "outputs": [
    {
     "name": "stdout",
     "output_type": "stream",
     "text": [
      "    *    \n",
      "   ***   \n",
      "  *****  \n",
      " ******* \n",
      "*********\n",
      " ******* \n",
      "  *****  \n",
      "   ***   \n",
      "    *    \n"
     ]
    }
   ],
   "source": [
    "#3\n",
    "print('    *    ')\n",
    "print('   ***   ')\n",
    "print('  *****  ')\n",
    "print(' ******* ')\n",
    "print('*********')\n",
    "print(' ******* ')\n",
    "print('  *****  ')\n",
    "print('   ***   ')\n",
    "print('    *    ')"
   ]
  },
  {
   "cell_type": "code",
   "execution_count": 4,
   "id": "2308f7fd-6fd8-48a2-bd71-b27989115313",
   "metadata": {
    "tags": []
   },
   "outputs": [
    {
     "name": "stdout",
     "output_type": "stream",
     "text": [
      "*********\n",
      " ******* \n",
      "  *****  \n",
      "   ***   \n",
      "    *    \n",
      "   ***   \n",
      "  *****  \n",
      " ******* \n",
      "*********\n"
     ]
    }
   ],
   "source": [
    "#3 self study\n",
    "print('*********')\n",
    "print(' ******* ')\n",
    "print('  *****  ')\n",
    "print('   ***   ')\n",
    "print('    *    ')\n",
    "print('   ***   ')\n",
    "print('  *****  ')\n",
    "print(' ******* ')\n",
    "print('*********')"
   ]
  },
  {
   "cell_type": "code",
   "execution_count": 5,
   "id": "1cc16c87-a9ef-4a0c-947e-be1aee6619c9",
   "metadata": {
    "tags": []
   },
   "outputs": [
    {
     "name": "stdin",
     "output_type": "stream",
     "text": [
      "입력 진수 결정(16/10/8/2) :  16\n",
      "값 입력 :  FF\n"
     ]
    },
    {
     "name": "stdout",
     "output_type": "stream",
     "text": [
      "16진수 ==> 0xff\n",
      "10진수 ==> 255\n",
      "8진수 ==> 0o377\n",
      "2진수 ==> 0b11111111\n"
     ]
    }
   ],
   "source": [
    "#4\n",
    "sel = int(input('입력 진수 결정(16/10/8/2) : '))\n",
    "num = input('값 입력 : ')\n",
    "if sel ==16 :\n",
    "    num10 = int(num,16)\n",
    "if sel ==10 :\n",
    "    num10 = int(num,10)\n",
    "if sel ==8 :\n",
    "    num10 = int(num,8)\n",
    "if sel ==2 :\n",
    "    num10 = int(num,2)\n",
    "print('16진수 ==>', hex(num10))\n",
    "print('10진수 ==>', num10)\n",
    "print('8진수 ==>', oct(num10))\n",
    "print('2진수 ==>', bin(num10))"
   ]
  },
  {
   "cell_type": "code",
   "execution_count": 17,
   "id": "7b3879b5-1ad1-4831-abdf-21af98ac5f75",
   "metadata": {
    "tags": []
   },
   "outputs": [
    {
     "name": "stdin",
     "output_type": "stream",
     "text": [
      "입력 진수 결정(16/10/8/2) :  125\n",
      "값 입력 :  dsg\n"
     ]
    },
    {
     "name": "stdout",
     "output_type": "stream",
     "text": [
      "16진수 ==> 0xff\n",
      "10진수 ==> 255\n",
      "8진수 ==> 0o377\n",
      "2진수 ==> 0b11111111\n"
     ]
    }
   ],
   "source": [
    "#4 self study\n",
    "sel = int(input('입력 진수 결정(16/10/8/2) : '))\n",
    "num = input('값 입력 : ')\n",
    "# if sel not in [16,10,8,2]:\n",
    "if (sel != 16) & (sel != 10) & (sel != 8) & (sel != 2):\n",
    "    # exit(0)\n",
    "    # quit()\n",
    "    ## 프로그램 종류 만들기\n",
    "if sel ==16 :\n",
    "    num10 = int(num,16)\n",
    "if sel ==10 :\n",
    "    num10 = int(num,10)\n",
    "if sel ==8 :\n",
    "    num10 = int(num,8)\n",
    "if sel ==2 :\n",
    "    num10 = int(num,2)\n",
    "print('16진수 ==>', hex(num10))\n",
    "print('10진수 ==>', num10)\n",
    "print('8진수 ==>', oct(num10))\n",
    "print('2진수 ==>', bin(num10))"
   ]
  },
  {
   "cell_type": "code",
   "execution_count": 6,
   "id": "8eb09bf9-e734-4e9c-bc98-44ea6163def7",
   "metadata": {
    "tags": []
   },
   "outputs": [
    {
     "name": "stdout",
     "output_type": "stream",
     "text": [
      "메인 함수 부분이 실행됩니다.\n",
      "함수를 호출함.\n",
      "전역 변수 값: 100\n"
     ]
    }
   ],
   "source": [
    "#5\n",
    "def myFunc() :\n",
    "    print('함수를 호출함.')\n",
    "gVar = 100\n",
    "if __name__ == '__main__' :\n",
    "    print('메인 함수 부분이 실행됩니다.')\n",
    "    myFunc()\n",
    "    print('전역 변수 값:', gVar)"
   ]
  },
  {
   "cell_type": "code",
   "execution_count": 7,
   "id": "550a5e90-ea8d-43df-aba2-f1581c1e678c",
   "metadata": {
    "tags": []
   },
   "outputs": [
    {
     "name": "stdin",
     "output_type": "stream",
     "text": [
      "교환할 돈은 얼마? 7777\n"
     ]
    },
    {
     "name": "stdout",
     "output_type": "stream",
     "text": [
      "500원 짜리 ==> 15개\n",
      "100원 짜리 ==> 2개\n",
      "50원 짜리 ==> 1개\n",
      "10원 짜리 ==> 0개\n",
      "바꾸지 못한 잔돈 ==> 7원\n"
     ]
    }
   ],
   "source": [
    "#6\n",
    "money, c500, c100, c50, c10 = 0,0,0,0,0\n",
    "money = int(input(\"교환할 돈은 얼마?\"))\n",
    "c500 = money // 500\n",
    "money %= 500\n",
    "c100 = money // 100\n",
    "money %= 100\n",
    "c50 = money // 50\n",
    "money %= 50\n",
    "c10 = money // 50\n",
    "money %= 10\n",
    "\n",
    "print(f'500원 짜리 ==> {c500}개')\n",
    "print(f'100원 짜리 ==> {c100}개')\n",
    "print(f'50원 짜리 ==> {c50}개')\n",
    "print(f'10원 짜리 ==> {c10}개')\n",
    "print(f'바꾸지 못한 잔돈 ==> {money}원')"
   ]
  },
  {
   "cell_type": "code",
   "execution_count": 8,
   "id": "3aba0fcb-12db-46c0-8772-ebb52adaa853",
   "metadata": {
    "tags": []
   },
   "outputs": [
    {
     "name": "stdin",
     "output_type": "stream",
     "text": [
      "교환할 돈은 얼마? 777777\n"
     ]
    },
    {
     "name": "stdout",
     "output_type": "stream",
     "text": [
      "50000원 짜리 ==> 15개\n",
      "10000원 짜리 ==> 2개\n",
      "5000원 짜리 ==> 1개\n",
      "1000원 짜리 ==> 2개\n",
      "바꾸지 못한 잔돈 ==> 777원\n"
     ]
    }
   ],
   "source": [
    "#7 self study\n",
    "ret = 0\n",
    "money = int(input(\"교환할 돈은 얼마?\"))\n",
    "for i in [50000, 10000, 5000, 1000]:\n",
    "    ret = money // i\n",
    "    money %= i\n",
    "    print(f'{i}원 짜리 ==> {ret}개')\n",
    "print(f'바꾸지 못한 잔돈 ==> {money}원')"
   ]
  },
  {
   "cell_type": "code",
   "execution_count": null,
   "id": "0a2049ed-e11c-4951-8d8f-f41ee251d7e9",
   "metadata": {},
   "outputs": [],
   "source": [
    "#8\n",
    "import turtle\n",
    "import random\n",
    "swidth, sheight, pSize, exitCount = 300, 300, 3, 0\n",
    "r, g, b, angle, dist, curX, curY = [0] * 7\n",
    "turtle.title('거북이가 맘대로 다니기')\n",
    "turtle.shape('turtle')\n",
    "turtle.pensize(pSize)\n",
    "turtle.setup(width=swidth+30, height=sheight+30)\n",
    "turtle.screensize(swidth, sheight)\n",
    "while True :\n",
    "    r = random.random()\n",
    "    g = random.random()\n",
    "    b = random.random()\n",
    "    turtle.pencolor((r, g, b))\n",
    "    angle =  random.randrange(0,360)\n",
    "    dist = random.randrange(1,100)\n",
    "    turtle.left(angle)\n",
    "    turtle.forward(dist)\n",
    "    curX = turtle.xcor()\n",
    "    curY = turtle.ycor()\n",
    "    if (-swidth / 2 <= curX and curX <= swidth / 2) and (-sheight / 2<= curY and curY <= sheight / 2) :\n",
    "        pass\n",
    "    else :\n",
    "        turtle.penup()\n",
    "        turtle.goto( 0, 0 )\n",
    "        turtle.pendown()\n",
    "        exitCount += 1\n",
    "        if exitCount >= 5 :\n",
    "            break\n",
    "turtle.done()"
   ]
  },
  {
   "cell_type": "code",
   "execution_count": 9,
   "id": "459e08f0-d1e4-4329-8ce6-f8d1f5dc3fbd",
   "metadata": {
    "tags": []
   },
   "outputs": [
    {
     "name": "stdout",
     "output_type": "stream",
     "text": [
      "41 & f = 1\n",
      "41 & F = 4F\n",
      "A & 32 = a\n",
      "a & 32 = A\n"
     ]
    }
   ],
   "source": [
    "#9\n",
    "a = ord('A')\n",
    "mask = 0x0F\n",
    "print(\"%x & %x = %x\" % (a,mask, a&mask))\n",
    "print(\"%X & %X = %X\" % (a,mask, a|mask))\n",
    "mask = ord('a') - ord('A')\n",
    "b = a ^ mask\n",
    "print(\"%c & %d = %c\" % (a,mask,b))\n",
    "a = b ^ mask\n",
    "print(\"%c & %d = %c\" % (b,mask,a))"
   ]
  },
  {
   "cell_type": "code",
   "execution_count": 10,
   "id": "13bf4883-ee91-43f0-967a-a3bf4aedd9d1",
   "metadata": {
    "tags": []
   },
   "outputs": [
    {
     "name": "stdout",
     "output_type": "stream",
     "text": [
      "100 << 1 = 200\n",
      "100 << 2 = 400\n",
      "100 << 3 = 800\n",
      "100 << 4 = 1600\n",
      "100 >> 1 = 50\n",
      "100 >> 2 = 25\n",
      "100 >> 3 = 12\n",
      "100 >> 4 = 6\n"
     ]
    }
   ],
   "source": [
    "#10\n",
    "a = 100\n",
    "result = 0\n",
    "i = 0\n",
    "for i in range(1,5):\n",
    "    result = a << i\n",
    "    print(\"%d << %d = %d\" % (a,i,result))\n",
    "for i in range(1,5):\n",
    "    result = a >> i \n",
    "    print(\"%d >> %d = %d\" % (a, i ,result))"
   ]
  },
  {
   "cell_type": "code",
   "execution_count": 11,
   "id": "1e8be834-4976-43cf-8f88-d63ade00eef7",
   "metadata": {},
   "outputs": [
    {
     "name": "stdout",
     "output_type": "stream",
     "text": [
      "세 정수의 최댓값을 구합니다.\n"
     ]
    },
    {
     "name": "stdin",
     "output_type": "stream",
     "text": [
      "정수 a의 값을 입력하세요.:  1\n",
      "정수 b의 값을 입력하세요.:  3\n",
      "정수 c의 값을 입력하세요.:  2\n"
     ]
    },
    {
     "name": "stdout",
     "output_type": "stream",
     "text": [
      "최댓값은 3입니다.\n"
     ]
    }
   ],
   "source": [
    "#알고리즘 실습 예제 1\n",
    "print('세 정수의 최댓값을 구합니다.')\n",
    "a = int(input('정수 a의 값을 입력하세요.: '))\n",
    "b = int(input('정수 b의 값을 입력하세요.: '))\n",
    "c = int(input('정수 c의 값을 입력하세요.: '))\n",
    "\n",
    "maximum = a\n",
    "if b > maximum: maximum = b\n",
    "if c > maximum: maximum = c\n",
    "\n",
    "print(f'최댓값은 {maximum}입니다.')"
   ]
  },
  {
   "cell_type": "code",
   "execution_count": 13,
   "id": "b07bc800-2770-4b36-ab4b-573500373b74",
   "metadata": {
    "tags": []
   },
   "outputs": [
    {
     "name": "stdin",
     "output_type": "stream",
     "text": [
      "정수를 입력하세요.:  -5\n"
     ]
    },
    {
     "name": "stdout",
     "output_type": "stream",
     "text": [
      "이 수는 음수입니다.\n"
     ]
    }
   ],
   "source": [
    "#알고리즘 실습 예제 2\n",
    "n = int(input('정수를 입력하세요.: '))\n",
    "if n > 0:\n",
    "    print('이 수는 양수입니다.')\n",
    "elif n < 0:\n",
    "    print('이 수는 음수입니다.')\n",
    "else:\n",
    "    print('이 수는 0입니다.')"
   ]
  },
  {
   "cell_type": "code",
   "execution_count": 15,
   "id": "e100fe39-c6fb-4873-a607-00a72e3b8f13",
   "metadata": {
    "tags": []
   },
   "outputs": [
    {
     "name": "stdin",
     "output_type": "stream",
     "text": [
      "정수를 입력하세요.:  2\n"
     ]
    },
    {
     "name": "stdout",
     "output_type": "stream",
     "text": [
      "B\n"
     ]
    }
   ],
   "source": [
    "#알고리즘 실습 예제 3\n",
    "n = int(input('정수를 입력하세요.: '))\n",
    "if n == 1:\n",
    "    print('A')\n",
    "elif n == 2:\n",
    "    print('B')\n",
    "else:\n",
    "    print('C')"
   ]
  },
  {
   "cell_type": "code",
   "execution_count": 16,
   "id": "74825b99-8fd1-494d-8841-1727947c5db1",
   "metadata": {
    "tags": []
   },
   "outputs": [
    {
     "name": "stdin",
     "output_type": "stream",
     "text": [
      "정수를 입력하세요.:  3\n"
     ]
    },
    {
     "name": "stdout",
     "output_type": "stream",
     "text": [
      "C\n"
     ]
    }
   ],
   "source": [
    "#알고리즘 실습 예제 4\n",
    "n = int(input('정수를 입력하세요.: '))\n",
    "if n == 1:\n",
    "    print('A')\n",
    "elif n == 2:\n",
    "    print('B')\n",
    "elif n == 3:\n",
    "    print('C')"
   ]
  },
  {
   "cell_type": "code",
   "execution_count": null,
   "id": "79fefefc-7ff0-44d5-93b8-aeb5f4b96646",
   "metadata": {},
   "outputs": [],
   "source": [
    "#알고리즘 실습 예제 5\n",
    "n = int(input('정수를 입력하세요.: '))\n",
    "if n == 1:\n",
    "    print('A')\n",
    "elif n == 2:\n",
    "    print('B')\n",
    "elif n == 3:\n",
    "    print('C')\n",
    "else :\n",
    "    pass"
   ]
  },
  {
   "cell_type": "code",
   "execution_count": 17,
   "id": "b8be011b-152e-48d0-8f27-e63668ac1ba5",
   "metadata": {
    "tags": []
   },
   "outputs": [
    {
     "name": "stdout",
     "output_type": "stream",
     "text": [
      "1부터 n까지 정수의 합을 구합니다.\n"
     ]
    },
    {
     "name": "stdin",
     "output_type": "stream",
     "text": [
      "n값을 입력하세요.:  5\n"
     ]
    },
    {
     "name": "stdout",
     "output_type": "stream",
     "text": [
      "1부터 5까지 정수의 합은 15입니다.\n"
     ]
    }
   ],
   "source": [
    "#알고리즘 실습 예제 6\n",
    "print('1부터 n까지 정수의 합을 구합니다.')\n",
    "n = int(input('n값을 입력하세요.: '))\n",
    "sum = 0\n",
    "i = 1\n",
    "while i <= n:  \n",
    "    sum += i   \n",
    "    i += 1     \n",
    "print(f'1부터 {n}까지 정수의 합은 {sum}입니다.')"
   ]
  },
  {
   "cell_type": "code",
   "execution_count": 19,
   "id": "bb4b28f6-c75c-4b38-996c-b73c72af3e77",
   "metadata": {
    "tags": []
   },
   "outputs": [
    {
     "name": "stdout",
     "output_type": "stream",
     "text": [
      "1부터 n까지의 합을 구합니다.\n"
     ]
    },
    {
     "name": "stdin",
     "output_type": "stream",
     "text": [
      "n값을 입력하세요.:  5\n"
     ]
    },
    {
     "name": "stdout",
     "output_type": "stream",
     "text": [
      "1부터 5까지 정수의 합은 15입니다.\n"
     ]
    }
   ],
   "source": [
    "#알고리즘 실습 예제 7\n",
    "print('1부터 n까지의 합을 구합니다.')\n",
    "n = int(input('n값을 입력하세요.: '))\n",
    "sum = 0\n",
    "for i in range(1, n + 1):\n",
    "    sum += i\n",
    "print(f'1부터 {n}까지 정수의 합은 {sum}입니다.')"
   ]
  },
  {
   "cell_type": "code",
   "execution_count": 20,
   "id": "8c78f7af-d97f-4ed9-aee9-7fdc576a23bd",
   "metadata": {
    "tags": []
   },
   "outputs": [
    {
     "name": "stdout",
     "output_type": "stream",
     "text": [
      "a부터 b까지의 합을 구합니다.\n"
     ]
    },
    {
     "name": "stdin",
     "output_type": "stream",
     "text": [
      "정수 a를 입력하세요.:  3\n",
      "정수 b를 입력하세요.:  8\n"
     ]
    },
    {
     "name": "stdout",
     "output_type": "stream",
     "text": [
      "3부터 8까지 정수의 합은 33입니다.\n"
     ]
    }
   ],
   "source": [
    "#알고리즘 실습 예제 8\n",
    "print('a부터 b까지의 합을 구합니다.')\n",
    "a = int(input('정수 a를 입력하세요.: '))\n",
    "b = int(input('정수 b를 입력하세요.: '))\n",
    "if a > b:\n",
    "    a, b = b, a  \n",
    "sum = 0\n",
    "for i in range(a, b + 1):\n",
    "    sum += i  \n",
    "print(f'{a}부터 {b}까지 정수의 합은 {sum}입니다.')"
   ]
  },
  {
   "cell_type": "code",
   "execution_count": 22,
   "id": "572eca22-09b8-4999-8ce3-7a9bd3f16e38",
   "metadata": {
    "tags": []
   },
   "outputs": [
    {
     "name": "stdout",
     "output_type": "stream",
     "text": [
      "a부터 b까지의 합을 구합니다.\n"
     ]
    },
    {
     "name": "stdin",
     "output_type": "stream",
     "text": [
      "정수 a를 입력하세요.:  5\n",
      "정수 b를 입력하세요.:  7\n"
     ]
    },
    {
     "name": "stdout",
     "output_type": "stream",
     "text": [
      "5 + 6 + 7 = 18\n"
     ]
    }
   ],
   "source": [
    "#알고리즘 실습 예제 9\n",
    "print('a부터 b까지의 합을 구합니다.')\n",
    "a = int(input('정수 a를 입력하세요.: '))\n",
    "b = int(input('정수 b를 입력하세요.: '))\n",
    "if a > b:\n",
    "    a, b = b, a\n",
    "sum = 0\n",
    "for i in range(a, b + 1):  \n",
    "    if i < b:              \n",
    "        print(f'{i} + ', end='')\n",
    "    else:                  \n",
    "        print(f'{i} = ', end='')\n",
    "    sum += i               \n",
    "print(sum)"
   ]
  },
  {
   "cell_type": "code",
   "execution_count": 23,
   "id": "1bc5c65b-5280-4d5d-adbe-87b145adb123",
   "metadata": {
    "tags": []
   },
   "outputs": [
    {
     "name": "stdout",
     "output_type": "stream",
     "text": [
      "a부터 b까지 정수의 합을 구합니다.\n"
     ]
    },
    {
     "name": "stdin",
     "output_type": "stream",
     "text": [
      "정수 a를 입력하세요.:  5\n",
      "정수 b를 입력하세요.:  7\n"
     ]
    },
    {
     "name": "stdout",
     "output_type": "stream",
     "text": [
      "5 + 6 + 7 = 18\n"
     ]
    }
   ],
   "source": [
    "#알고리즘 실습 예제 10\n",
    "print('a부터 b까지 정수의 합을 구합니다.')\n",
    "a = int(input('정수 a를 입력하세요.: '))\n",
    "b = int(input('정수 b를 입력하세요.: '))\n",
    "if a > b :\n",
    "    a, b = b, a\n",
    "sum = 0\n",
    "for i in range(a, b):\n",
    "    print(f'{i} + ', end='')\n",
    "    sum += i  \n",
    "print(f'{b} = ', end ='')\n",
    "sum += b      \n",
    "print(sum)"
   ]
  },
  {
   "cell_type": "code",
   "execution_count": 24,
   "id": "a3f213a9-f160-4149-8096-e027b06231e0",
   "metadata": {
    "tags": []
   },
   "outputs": [
    {
     "name": "stdout",
     "output_type": "stream",
     "text": [
      "+와 -를 번갈아 출력합니다.\n"
     ]
    },
    {
     "name": "stdin",
     "output_type": "stream",
     "text": [
      "몇 개를 출력할까요?:  12\n"
     ]
    },
    {
     "name": "stdout",
     "output_type": "stream",
     "text": [
      "+-+-+-+-+-+-"
     ]
    }
   ],
   "source": [
    "#알고리즘 실습 예제 11\n",
    "print('+와 -를 번갈아 출력합니다.')\n",
    "n = int(input('몇 개를 출력할까요?: '))\n",
    "for i in range(n):          \n",
    "    if i % 2:                 \n",
    "        print('-', end='')  \n",
    "    else:\n",
    "        print('+', end='')"
   ]
  },
  {
   "cell_type": "code",
   "execution_count": 26,
   "id": "011c88cc-bcf1-4eec-aecf-d10df87ac01b",
   "metadata": {
    "tags": []
   },
   "outputs": [
    {
     "name": "stdout",
     "output_type": "stream",
     "text": [
      "+와 -를 번갈아 출력합니다.\n"
     ]
    },
    {
     "name": "stdin",
     "output_type": "stream",
     "text": [
      "몇 개를 출력할까요?:  12\n"
     ]
    },
    {
     "name": "stdout",
     "output_type": "stream",
     "text": [
      "+-+-+-+-+-+-"
     ]
    }
   ],
   "source": [
    "#알고리즘 실습 예제 12\n",
    "print('+와 -를 번갈아 출력합니다.')\n",
    "n = int(input('몇 개를 출력할까요?: '))\n",
    "for _ in range(n // 2):\n",
    "    print('+-', end='')  \n",
    "if n % 2:\n",
    "    print('+', end='')  "
   ]
  },
  {
   "cell_type": "code",
   "execution_count": 27,
   "id": "5131f0a2-3727-4e39-8019-f37dfcd5c6b4",
   "metadata": {
    "tags": []
   },
   "outputs": [
    {
     "name": "stdout",
     "output_type": "stream",
     "text": [
      "*를 출력합니다.\n"
     ]
    },
    {
     "name": "stdin",
     "output_type": "stream",
     "text": [
      "몇 개를 출력할까요? :  14\n",
      "몇 개마다 줄바꿈할까요? :  5\n"
     ]
    },
    {
     "name": "stdout",
     "output_type": "stream",
     "text": [
      "*****\n",
      "*****\n",
      "****\n"
     ]
    }
   ],
   "source": [
    "#알고리즘 실습 예제 13\n",
    "print('*를 출력합니다.')\n",
    "n = int(input('몇 개를 출력할까요? : '))\n",
    "w = int(input('몇 개마다 줄바꿈할까요? : '))\n",
    "for i in range(n):      \n",
    "    print('*', end='')\n",
    "    if i % w == w - 1:  \n",
    "        print()         \n",
    "if n % w:\n",
    "    print()             "
   ]
  },
  {
   "cell_type": "code",
   "execution_count": 30,
   "id": "df9f3066-48a6-419f-9f89-439f7c74b78f",
   "metadata": {},
   "outputs": [
    {
     "name": "stdout",
     "output_type": "stream",
     "text": [
      "1부터 n까지 정수의 합을 구합니다.\n"
     ]
    },
    {
     "name": "stdin",
     "output_type": "stream",
     "text": [
      "n값을 입력하세요.:  -6\n",
      "n값을 입력하세요.:  0\n",
      "n값을 입력하세요.:  10\n"
     ]
    },
    {
     "name": "stdout",
     "output_type": "stream",
     "text": [
      "1부터 10까지 정수의 합은 55입니다.\n"
     ]
    }
   ],
   "source": [
    "#알고리즘 실습 예제 14\n",
    "print('1부터 n까지 정수의 합을 구합니다.')\n",
    "while True:\n",
    "    n = int(input('n값을 입력하세요.: '))\n",
    "    if n > 0:\n",
    "        break  \n",
    "sum = 0\n",
    "i = 1\n",
    "for i in range(1, n + 1):\n",
    "    sum += i  \n",
    "    i += 1    \n",
    "print(f'1부터 {n}까지 정수의 합은 {sum}입니다.')"
   ]
  },
  {
   "cell_type": "code",
   "execution_count": 31,
   "id": "4131881a-7e3c-4101-9015-9a64e67becee",
   "metadata": {
    "tags": []
   },
   "outputs": [
    {
     "name": "stdin",
     "output_type": "stream",
     "text": [
      "직사각형의 넓이를 입력하세요.:  32\n"
     ]
    },
    {
     "name": "stdout",
     "output_type": "stream",
     "text": [
      "1 × 32\n",
      "2 × 16\n",
      "4 × 8\n"
     ]
    }
   ],
   "source": [
    "#알고리즘 실습 예제 15\n",
    "area = int(input('직사각형의 넓이를 입력하세요.: '))\n",
    "for i in range(1, area + 1):  \n",
    "    if i * i > area: break\n",
    "    if area % i: continue\n",
    "    print(f'{i} × {area // i}')"
   ]
  },
  {
   "cell_type": "code",
   "execution_count": 32,
   "id": "59ffd3db-733e-4bb3-9950-c6dbcf45fe3f",
   "metadata": {
    "tags": []
   },
   "outputs": [
    {
     "name": "stdout",
     "output_type": "stream",
     "text": [
      "1 2 3 4 5 6 7 9 10 11 12 "
     ]
    }
   ],
   "source": [
    "#알고리즘 실습 예제 16\n",
    "for i in range(1, 13):\n",
    "    if i == 8:\n",
    "        continue\n",
    "    print(i, end=' ')    "
   ]
  },
  {
   "cell_type": "code",
   "execution_count": 33,
   "id": "58cdea0b-75c3-46a2-a902-9a04a66c9a74",
   "metadata": {
    "tags": []
   },
   "outputs": [
    {
     "name": "stdout",
     "output_type": "stream",
     "text": [
      "1 2 3 4 5 6 7 9 10 11 12 \n"
     ]
    }
   ],
   "source": [
    "#알고리즘 실습 예제 17\n",
    "for i in list(range(1, 8)) + list(range(9, 13)):\n",
    "    print(i, end=' ')\n",
    "print()"
   ]
  },
  {
   "cell_type": "code",
   "execution_count": 34,
   "id": "7578f570-0a79-4551-a8f3-61c9ebfdb041",
   "metadata": {
    "tags": []
   },
   "outputs": [
    {
     "name": "stdout",
     "output_type": "stream",
     "text": [
      "---------------------------\n",
      "  1  2  3  4  5  6  7  8  9\n",
      "  2  4  6  8 10 12 14 16 18\n",
      "  3  6  9 12 15 18 21 24 27\n",
      "  4  8 12 16 20 24 28 32 36\n",
      "  5 10 15 20 25 30 35 40 45\n",
      "  6 12 18 24 30 36 42 48 54\n",
      "  7 14 21 28 35 42 49 56 63\n",
      "  8 16 24 32 40 48 56 64 72\n",
      "  9 18 27 36 45 54 63 72 81\n",
      "---------------------------\n"
     ]
    }
   ],
   "source": [
    "#알고리즘 실습 예제 18\n",
    "print('-' * 27)\n",
    "for i in range(1, 10):      \n",
    "    for j in range(1, 10):  \n",
    "        print(f'{i * j : 3}', end='')\n",
    "    print()                 \n",
    "print('-' * 27)"
   ]
  },
  {
   "cell_type": "code",
   "execution_count": 35,
   "id": "fd49c0bf-8da1-4642-b2c9-7f8bc0461d3c",
   "metadata": {
    "tags": []
   },
   "outputs": [
    {
     "name": "stdout",
     "output_type": "stream",
     "text": [
      "왼쪽 아래가 직각인 이등변 삼각형을 출력합니다.\n"
     ]
    },
    {
     "name": "stdin",
     "output_type": "stream",
     "text": [
      "짧은 변의 길이를 입력하세요.:  5\n"
     ]
    },
    {
     "name": "stdout",
     "output_type": "stream",
     "text": [
      "*\n",
      "**\n",
      "***\n",
      "****\n",
      "*****\n"
     ]
    }
   ],
   "source": [
    "#알고리즘 실습 예제 19\n",
    "print('왼쪽 아래가 직각인 이등변 삼각형을 출력합니다.')\n",
    "n = int(input('짧은 변의 길이를 입력하세요.: '))\n",
    "for i in range(n):          \n",
    "    for j in range(i + 1):  \n",
    "        print('*', end='')\n",
    "    print()"
   ]
  },
  {
   "cell_type": "code",
   "execution_count": null,
   "id": "513e8713-28e0-45db-ba70-45031614dace",
   "metadata": {},
   "outputs": [],
   "source": []
  }
 ],
 "metadata": {
  "kernelspec": {
   "display_name": "Python 3 (ipykernel)",
   "language": "python",
   "name": "python3"
  },
  "language_info": {
   "codemirror_mode": {
    "name": "ipython",
    "version": 3
   },
   "file_extension": ".py",
   "mimetype": "text/x-python",
   "name": "python",
   "nbconvert_exporter": "python",
   "pygments_lexer": "ipython3",
   "version": "3.11.2"
  }
 },
 "nbformat": 4,
 "nbformat_minor": 5
}

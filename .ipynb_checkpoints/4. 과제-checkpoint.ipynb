{
 "cells": [
  {
   "cell_type": "code",
   "execution_count": 17,
   "id": "b36042f5-6999-4bba-8294-01b3aafffb03",
   "metadata": {
    "tags": []
   },
   "outputs": [
    {
     "name": "stdout",
     "output_type": "stream",
     "text": [
      "/Users/goodyoung/Desktop/대학교/Python_Basic\n"
     ]
    }
   ],
   "source": [
    "!pwd"
   ]
  },
  {
   "cell_type": "code",
   "execution_count": 1,
   "id": "79006c05-2cce-421e-8762-d40ac1bd682b",
   "metadata": {
    "tags": []
   },
   "outputs": [
    {
     "name": "stdin",
     "output_type": "stream",
     "text": [
      "1번째 숫자 :  10\n",
      "2번째 숫자 :  20\n",
      "3번째 숫자 :  30\n",
      "4번째 숫자 :  40\n"
     ]
    },
    {
     "name": "stdout",
     "output_type": "stream",
     "text": [
      " 합계 ==> 100\n"
     ]
    }
   ],
   "source": [
    "#1\n",
    "a, b, c, d = 0, 0, 0, 0\n",
    "hap = 0\n",
    "\n",
    "a = int(input(\"1번째 숫자 : \"))\n",
    "b = int(input(\"2번째 숫자 : \"))\n",
    "c = int(input(\"3번째 숫자 : \"))\n",
    "d = int(input(\"4번째 숫자 : \"))\n",
    "\n",
    "hap = a + b + c + d\n",
    "\n",
    "print(\" 합계 ==> %d\" % hap)"
   ]
  },
  {
   "cell_type": "code",
   "execution_count": 2,
   "id": "d8e8055f-9858-427b-8c9a-8c42c43f8c65",
   "metadata": {
    "tags": []
   },
   "outputs": [
    {
     "name": "stdin",
     "output_type": "stream",
     "text": [
      "1번째 숫자 :  10\n",
      "2번째 숫자 :  20\n",
      "3번째 숫자 :  30\n",
      "4번째 숫자 :  40\n"
     ]
    },
    {
     "name": "stdout",
     "output_type": "stream",
     "text": [
      "합계 ==> 100\n"
     ]
    }
   ],
   "source": [
    "#2\n",
    "aa = [0, 0, 0, 0]\n",
    "hap = 0\n",
    "aa[0] = int(input(\"1번째 숫자 : \"))\n",
    "aa[1] = int(input(\"2번째 숫자 : \"))\n",
    "aa[2] = int(input(\"3번째 숫자 : \"))\n",
    "aa[3] = int(input(\"4번째 숫자 : \"))\n",
    "hap = aa[0] + aa[1] + aa[2] + aa[3]\n",
    "print(\"합계 ==> %d\" % hap)"
   ]
  },
  {
   "cell_type": "code",
   "execution_count": 4,
   "id": "7bbdccdb-b686-4ecc-b0ba-a0447d0a63d9",
   "metadata": {
    "tags": []
   },
   "outputs": [
    {
     "name": "stdin",
     "output_type": "stream",
     "text": [
      "1번째 숫자 :  10\n",
      "2번째 숫자 :  20\n",
      "3번째 숫자 :  30\n",
      "4번째 숫자 :  40\n"
     ]
    },
    {
     "name": "stdout",
     "output_type": "stream",
     "text": [
      "합계 ==> 100\n"
     ]
    }
   ],
   "source": [
    "#3\n",
    "aa = []\n",
    "for i in range(0, 4) :\n",
    "    aa.append(0)\n",
    "hap = 0\n",
    "for i in range(0, 4) :\n",
    "    aa[i] = int(input(str(i+1) + \"번째 숫자 : \" ))\n",
    "hap = aa[0] + aa[1] + aa[2] + aa[3]\n",
    "print(\"합계 ==> %d\" % hap)"
   ]
  },
  {
   "cell_type": "code",
   "execution_count": 5,
   "id": "af87e6e1-26f2-4782-a6db-e21064167f34",
   "metadata": {
    "tags": []
   },
   "outputs": [
    {
     "name": "stdout",
     "output_type": "stream",
     "text": [
      "bb[0]에는 198이, bb[99]에는 0이 입력됩니다.\n"
     ]
    }
   ],
   "source": [
    "#4\n",
    "aa = []\n",
    "bb = []\n",
    "value = 0\n",
    "for i in range(0, 100) :\n",
    "    aa.append(value)\n",
    "    value += 2\n",
    "for i in range(0, 100) :\n",
    "    bb.append(aa[99 - i])\n",
    "print(\"bb[0]에는 %d이, bb[99]에는 %d이 입력됩니다.\" % (bb[0], bb[99]))"
   ]
  },
  {
   "cell_type": "code",
   "execution_count": 6,
   "id": "545e45df-2603-4c67-82e4-645b4f8da0ed",
   "metadata": {
    "tags": []
   },
   "outputs": [
    {
     "name": "stdout",
     "output_type": "stream",
     "text": [
      "현재 리스트 : [30, 10, 20]\n",
      "append(40) 후의 리스트 : [30, 10, 20, 40]\n",
      "pop()으로 추출한 값 : 40\n",
      "pop() 후의 리스트 : [30, 10, 20]\n",
      "sort() 후의 리스트 : [10, 20, 30]\n",
      "reverse() 후의 리스트 : [30, 20, 10]\n",
      "20값의 위치 : 1\n",
      "insert(2, 222) 후의 리스트 : [30, 20, 222, 10]\n",
      "remove(222) 후의 리스트 : [30, 20, 10]\n",
      "extend([77, 88, 77]) 후의 리스트 : [30, 20, 10, 77, 88, 77]\n",
      "77값의 개수 : 2\n"
     ]
    }
   ],
   "source": [
    "#5\n",
    "myList = [30, 10, 20]\n",
    "print(\"현재 리스트 : %s\" % myList)\n",
    "myList.append(40)\n",
    "print(\"append(40) 후의 리스트 : %s\" % myList)\n",
    "print(\"pop()으로 추출한 값 : %s\" % myList.pop())\n",
    "print(\"pop() 후의 리스트 : %s\" % myList)\n",
    "myList.sort()\n",
    "print(\"sort() 후의 리스트 : %s\" % myList)\n",
    "myList.reverse()\n",
    "print(\"reverse() 후의 리스트 : %s\" % myList)\n",
    "print(\"20값의 위치 : %d\" % myList.index(20))\n",
    "myList.insert(2, 222)\n",
    "print(\"insert(2, 222) 후의 리스트 : %s\" % myList)\n",
    "myList.remove(222)\n",
    "print(\"remove(222) 후의 리스트 : %s\" % myList)\n",
    "myList.extend( [77, 88, 77] )\n",
    "print(\"extend([77, 88, 77]) 후의 리스트 : %s\" % myList)\n",
    "print(\"77값의 개수 : %d\" % myList.count(77))"
   ]
  },
  {
   "cell_type": "code",
   "execution_count": 7,
   "id": "35b08ea8-1558-4d98-93e0-2b41f05a7afc",
   "metadata": {
    "tags": []
   },
   "outputs": [
    {
     "name": "stdout",
     "output_type": "stream",
     "text": [
      "  1   2   3   4 \n",
      "  5   6   7   8 \n",
      "  9  10  11  12 \n"
     ]
    }
   ],
   "source": [
    "#6\n",
    "list1 = []\n",
    "list2 = []\n",
    "value=1\n",
    "for i in range(0, 3) :\n",
    "    for k in range(0, 4) :\n",
    "        list1.append(value)\n",
    "        value += 1\n",
    "    list2.append(list1)\n",
    "    list1 = []\n",
    "for i in range(0, 3) :\n",
    "    for k in range(0, 4) :\n",
    "        print(\"%3d\" % list2[i][k], end = \" \")\n",
    "    print(\"\")"
   ]
  },
  {
   "cell_type": "code",
   "execution_count": null,
   "id": "60e7aca5-30b2-4404-a97c-f3a3b805431c",
   "metadata": {},
   "outputs": [],
   "source": [
    "#7\n",
    "import turtle\n",
    "import random\n",
    "myTurtle , tX, tY, tColor, tSize, tShape= [None] * 6\n",
    "shapeList = []\n",
    "playerTurtles = []      \n",
    "swidth, sheight=500, 500\n",
    "if __name__ == \"__main__\" :\n",
    "\tturtle.title('거북 리스트 활용')\n",
    "\tturtle.setup(width = swidth + 50, height = sheight + 50)\n",
    "\tturtle.screensize(swidth, sheight)\n",
    "\tshapeList = turtle.getshapes()\n",
    "\tfor i in range(0, 100) :\n",
    "\t\trandom.shuffle(shapeList)\n",
    "\t\tmyTurtle = turtle.Turtle(shapeList[0])\n",
    "\t\ttX = random.randrange(-swidth / 2, swidth / 2)\n",
    "\t\ttY = random.randrange(-sheight / 2, sheight / 2)\n",
    "\t\tr = random.random(); g = random.random(); b = random.random()\n",
    "\t\ttSize = random.randrange(1, 3)\n",
    "\t\tplayerTurtles.append([myTurtle, tX, tY, tSize, r, g, b])\n",
    "\tfor tList in playerTurtles :\n",
    "\t\tmyTurtle = tList[0]\n",
    "\t\tmyTurtle.color((tList[4], tList[5], tList[6]))\n",
    "\t\tmyTurtle.pencolor((tList[4], tList[5], tList[6]))\n",
    "\t\tmyTurtle.turtlesize(tList[3])\n",
    "\t\tmyTurtle.goto(tList[1], tList[2])\n",
    "\tturtle.done()"
   ]
  },
  {
   "cell_type": "code",
   "execution_count": 8,
   "id": "2acc8aad-cad1-4740-93ba-ebbbb869d90f",
   "metadata": {
    "tags": []
   },
   "outputs": [
    {
     "name": "stdout",
     "output_type": "stream",
     "text": [
      "이름 --> 트와이스\n",
      "구성원수 --> 9\n",
      "데뷰 --> 서바이벌 식스틴\n",
      "대표곡 --> SIGNAL\n"
     ]
    }
   ],
   "source": [
    "#8\n",
    "singer = {}\n",
    "singer['이름'] = '트와이스'\n",
    "singer['구성원수'] = 9\n",
    "singer['데뷰'] = '서바이벌 식스틴'\n",
    "singer['대표곡'] = 'SIGNAL'\n",
    "for k in singer.keys() :\n",
    "    print('%s --> %s' % (k, singer[k]))"
   ]
  },
  {
   "cell_type": "code",
   "execution_count": 9,
   "id": "d90545bb-96d0-4c98-a1c7-58f20aae59f6",
   "metadata": {
    "tags": []
   },
   "outputs": [
    {
     "name": "stdout",
     "output_type": "stream",
     "text": [
      "[('Edward', '에드워드'), ('Gothen', '고든'), ('Henry', '헨리'), ('James', '제임스'), ('Thomas', '토마스')]\n"
     ]
    }
   ],
   "source": [
    "#9\n",
    "import operator\n",
    "trainDic, trainList = {}, []\n",
    "trainDic = {'Thomas':'토마스', 'Edward':'에드워드', 'Henry':'헨리', 'Gothen':'고든', 'James':'제임스'}\n",
    "trainList = sorted(trainDic.items(), key=operator.itemgetter(0))\n",
    "print(trainList)"
   ]
  },
  {
   "cell_type": "code",
   "execution_count": 10,
   "id": "afd2063a-9c7d-434a-8490-3a68e2bc833d",
   "metadata": {
    "tags": []
   },
   "outputs": [
    {
     "name": "stdin",
     "output_type": "stream",
     "text": [
      "['떡볶이', '짜장면', '라면', '피자', '맥주', '치킨', '삼겹살'] 중 좋아하는 음식은? 치킨\n"
     ]
    },
    {
     "name": "stdout",
     "output_type": "stream",
     "text": [
      "<치킨> 궁합 음식은 <치킨무>입니다.\n"
     ]
    },
    {
     "name": "stdin",
     "output_type": "stream",
     "text": [
      "['떡볶이', '짜장면', '라면', '피자', '맥주', '치킨', '삼겹살'] 중 좋아하는 음식은? 끝\n"
     ]
    }
   ],
   "source": [
    "#10\n",
    "foods = {\"떡볶이\":\"오뎅\", \n",
    "            \"짜장면\":\"단무지\",\n",
    "            \"라면\":\"김치\",\n",
    "            \"피자\":\"피클\",\n",
    "            \"맥주\":\"땅콩\",\n",
    "            \"치킨\":\"치킨무\",\n",
    "            \"삼겹살\":\"상추\" };\n",
    "while (True) :\n",
    "    myfood = input(str(list(foods.keys())) + \" 중 좋아하는 음식은?\")\n",
    "    if myfood in foods :\n",
    "        print(\"<%s> 궁합 음식은 <%s>입니다.\" % (myfood, foods.get(myfood)))\n",
    "    elif myfood == \"끝\" :\n",
    "        break\n",
    "    else :\n",
    "        print(\"그런 음식이 없습니다. 확인해 보세요.\")"
   ]
  },
  {
   "cell_type": "code",
   "execution_count": 11,
   "id": "815e6d5f-1b6e-4e60-be29-d888d7f3ffc3",
   "metadata": {
    "tags": []
   },
   "outputs": [
    {
     "name": "stdout",
     "output_type": "stream",
     "text": [
      "파$이$썬$짱$!$"
     ]
    }
   ],
   "source": [
    "#11\n",
    "ss = '파이썬짱!'\n",
    "sslen = len(ss)\n",
    "for i in range(0, sslen) :\n",
    "     print(ss[i] + '$', end = '')"
   ]
  },
  {
   "cell_type": "code",
   "execution_count": 12,
   "id": "00aed326-8e31-4ecc-b487-8876303feb6e",
   "metadata": {
    "tags": []
   },
   "outputs": [
    {
     "name": "stdin",
     "output_type": "stream",
     "text": [
      "문자열을 입력하세요 :  즐거운 파이썬\n"
     ]
    },
    {
     "name": "stdout",
     "output_type": "stream",
     "text": [
      "내용을 거꾸로 출력 --> 썬이파 운거즐\n"
     ]
    }
   ],
   "source": [
    "#12\n",
    "inStr, outStr = \"\", \"\"\n",
    "count, i = 0, 0\n",
    "inStr = input(\"문자열을 입력하세요 : \")\n",
    "count = len(inStr)\n",
    "for i in range(0, count) :\n",
    "     outStr += inStr[count - (i + 1)]\n",
    "print(\"내용을 거꾸로 출력 --> %s\" % outStr)"
   ]
  },
  {
   "cell_type": "code",
   "execution_count": 13,
   "id": "d641c30d-d732-480e-810d-4e69eaae2e50",
   "metadata": {
    "tags": []
   },
   "outputs": [
    {
     "name": "stdin",
     "output_type": "stream",
     "text": [
      "입력 문자열 ==>  파이썬 열공 중\u0010~~\n"
     ]
    },
    {
     "name": "stdout",
     "output_type": "stream",
     "text": [
      "출력 문자열 ==> (파이썬 열공 중\u0010~~)"
     ]
    }
   ],
   "source": [
    "#13\n",
    "ss = input(\"입력 문자열 ==> \")\n",
    "print(\"출력 문자열 ==> \", end = '')\n",
    "if ss.startswith('(') == False :\n",
    "     print(\"(\", end = '')\n",
    "print(ss, end = '')\n",
    "if ss.endswith(')') == False :\n",
    "     print(\")\", end = '')"
   ]
  },
  {
   "cell_type": "code",
   "execution_count": 14,
   "id": "33ea03ed-a2ae-4aef-ac83-df916345b318",
   "metadata": {
    "tags": []
   },
   "outputs": [
    {
     "name": "stdout",
     "output_type": "stream",
     "text": [
      "원래 문자열 ==> [   한글 Python 프로그래밍   ]\n",
      "공백 삭제 문자열 ==> [한글Python프로그래밍]\n"
     ]
    }
   ],
   "source": [
    "#14\n",
    "inStr = \"   한글 Python 프로그래밍   \"\n",
    "outStr = \"\"\n",
    "\n",
    "for i in range(0, len(inStr)) :\n",
    "     if inStr[i] != ' ' :\n",
    "            outStr += inStr[i]\n",
    "print(\"원래 문자열 ==> \" + '[' + inStr + ']')\n",
    "print(\"공백 삭제 문자열 ==> \" + '[' + outStr + ']')"
   ]
  },
  {
   "cell_type": "code",
   "execution_count": 15,
   "id": "5653de94-3dbf-46fc-9c1b-2a1210bab1e3",
   "metadata": {},
   "outputs": [
    {
     "name": "stdin",
     "output_type": "stream",
     "text": [
      "입력 문자열 ==>  IT CookBook\n"
     ]
    },
    {
     "name": "stdout",
     "output_type": "stream",
     "text": [
      "출력 문자열 ==> IT C$$kB$$k"
     ]
    }
   ],
   "source": [
    "#15\n",
    "ss = input(\"입력 문자열 ==> \")\n",
    "print(\"출력 문자열 ==> \", end = '')\n",
    "for i in range(0, len(ss)) :\n",
    "    if ss[i] != 'o' :\n",
    "            print(ss[i], end = '')\n",
    "    else :\n",
    "          print('$', end = '')"
   ]
  },
  {
   "cell_type": "code",
   "execution_count": 16,
   "id": "fd23c3fe-f78e-436d-9995-0602326a19a6",
   "metadata": {
    "tags": []
   },
   "outputs": [
    {
     "name": "stdin",
     "output_type": "stream",
     "text": [
      "날짜(연/월/일) 입력 ==>  2019/12/31\n"
     ]
    },
    {
     "name": "stdout",
     "output_type": "stream",
     "text": [
      "입력한 날짜의 10년 후 ==> 2029년12월31일\n"
     ]
    }
   ],
   "source": [
    "#16\n",
    "ss = input(\"날짜(연/월/일) 입력 ==> \")\n",
    "ssList = ss.split('/')\n",
    "print(\"입력한 날짜의 10년 후 ==> \", end = '')\n",
    "print(str(int(ssList[0]) + 10) + \"년\", end = '')\n",
    "print(ssList[1] + \"월\", end = '')\n",
    "print(ssList[2] + \"일\")"
   ]
  },
  {
   "cell_type": "code",
   "execution_count": 18,
   "id": "4ab11cf7-e5ed-4f98-831a-9978e0fe0238",
   "metadata": {
    "collapsed": true,
    "jupyter": {
     "outputs_hidden": true
    },
    "tags": []
   },
   "outputs": [
    {
     "name": "stdin",
     "output_type": "stream",
     "text": [
      "시작값을 입력하세요 :  2\n",
      "끝값을 입력하세요 :  300\n",
      "증가값을 입력하세요 :  3\n"
     ]
    },
    {
     "name": "stdout",
     "output_type": "stream",
     "text": [
      "2에서 300까지 3씩 증가시킨 값의 합계 : 15050\n"
     ]
    }
   ],
   "source": [
    "#17\n",
    "import turtle\n",
    "import random\n",
    "from tkinter.simpledialog import * \n",
    "inStr = ''\n",
    "swidth, sheight = 300, 300\n",
    "tX, tY, txtSize = [0] * 3\n",
    "turtle.title('거북 글자쓰기')\n",
    "turtle.shape('turtle')\n",
    "turtle.setup(width = swidth + 50, height = sheight + 50)\n",
    "turtle.screensize(swidth, sheight)\t \n",
    "turtle.penup()\n",
    "inStr = askstring('문자열 입력', '거북이 쓸 문자열을 입력')\n",
    "for ch in inStr :\n",
    "    tX = random.randrange(-swidth/2, swidth/2)\n",
    "    tY = random.randrange(-sheight/2, sheight/2)\n",
    "    r = random.random(); g = random.random(); b = random.random()\n",
    "    txtSize = random.randrange(10, 50)\n",
    "    turtle.goto(tX, tY)\n",
    "    turtle.pencolor((r, g, b))\n",
    "    turtle.write(ch, font=('맑은고딕', txtSize, 'bold'))\n",
    "turtle.done()"
   ]
  },
  {
   "cell_type": "code",
   "execution_count": 17,
   "id": "6806d724-ff11-44cc-89dc-62296f1e0d01",
   "metadata": {
    "tags": []
   },
   "outputs": [
    {
     "name": "stdin",
     "output_type": "stream",
     "text": [
      "원소 수를 입력하세요.:  7\n",
      "x[0]:  6\n",
      "x[1]:  4\n",
      "x[2]:  3\n",
      "x[3]:  2\n",
      "x[4]:  1\n",
      "x[5]:  2\n",
      "x[6]:  8\n",
      "검색할 값을 입력하세요.:  2\n"
     ]
    },
    {
     "name": "stdout",
     "output_type": "stream",
     "text": [
      "검색값은 x[3]에 있습니다.\n"
     ]
    }
   ],
   "source": [
    "#18\n",
    "from typing import Any, Sequence\n",
    "def seq_search(a: Sequence, key: Any) -> int:\n",
    "    i = 0\n",
    "    while True:\n",
    "        if i == len(a):\n",
    "            return -1  \n",
    "        if a[i] == key:\n",
    "            return i   \n",
    "        i += 1\n",
    "if __name__ == '__main__':\n",
    "    num = int(input('원소 수를 입력하세요.: '))  \n",
    "    x = [None] * num                          \n",
    "    for i in range(num):\n",
    "        x[i] = int(input(f'x[{i}]: '))\n",
    "    ky = int(input('검색할 값을 입력하세요.: '))  \n",
    "    idx = seq_search(x, ky)                     \n",
    "    if idx == -1:\n",
    "        print('검색값을 갖는 원소가 존재하지 않습니다.')\n",
    "    else:\n",
    "        print(f'검색값은 x[{idx}]에 있습니다.')"
   ]
  },
  {
   "cell_type": "code",
   "execution_count": 18,
   "id": "616b7960-5488-49d4-957a-2caafe83458a",
   "metadata": {
    "tags": []
   },
   "outputs": [
    {
     "name": "stdin",
     "output_type": "stream",
     "text": [
      "원소 수를 입력하세요.:  7\n",
      "x[0]:  6\n",
      "x[1]:  4\n",
      "x[2]:  3\n",
      "x[3]:  2\n",
      "x[4]:  1\n",
      "x[5]:  2\n",
      "x[6]:  8\n",
      "검색할 값을 입력하세요.:  2\n"
     ]
    },
    {
     "name": "stdout",
     "output_type": "stream",
     "text": [
      "검색 값은 x[3]에 있습니다.\n"
     ]
    }
   ],
   "source": [
    "#19\n",
    "from typing import Any, Sequence\n",
    "def seq_search(a: Sequence, key: Any) -> int:\n",
    "    for i in range(len(a)):\n",
    "        if a[i] == key:\n",
    "            return i  \n",
    "    return -1         \n",
    "if __name__ == '__main__':\n",
    "    num = int(input('원소 수를 입력하세요.: '))  \n",
    "    x = [None] * num                           \n",
    "    for i in range(num):\n",
    "        x[i] = int(input(f'x[{i}]: '))\n",
    "    ky = int(input('검색할 값을 입력하세요.: '))  \n",
    "    idx = seq_search(x, ky)                     \n",
    "    if idx == -1:\n",
    "        print('검색 값을 갖는 요소가 존재하지 않습니다.')\n",
    "    else:\n",
    "        print(f'검색 값은 x[{idx}]에 있습니다.')"
   ]
  },
  {
   "cell_type": "code",
   "execution_count": 19,
   "id": "4dd895a5-17ad-4571-8f1a-178262374188",
   "metadata": {
    "tags": []
   },
   "outputs": [
    {
     "name": "stdin",
     "output_type": "stream",
     "text": [
      "원소 수를 입력하세요.:  7\n",
      "x[0]:  6\n",
      "x[1]:  4\n",
      "x[2]:  3\n",
      "x[3]:  2\n",
      "x[4]:  1\n",
      "x[5]:  2\n",
      "x[6]:  8\n",
      "검색할 값을 입력하세요.:  2\n"
     ]
    },
    {
     "name": "stdout",
     "output_type": "stream",
     "text": [
      "검색값은 x[3]에 있습니다.\n"
     ]
    }
   ],
   "source": [
    "#20\n",
    "from typing import Any, Sequence\n",
    "import copy\n",
    "def seq_search(seq: Sequence, key: Any) -> int:\n",
    "    a = copy.deepcopy(seq)  \n",
    "    a.append(key)           \n",
    "    i = 0\n",
    "    while True:\n",
    "        if a[i] == key: \n",
    "            break  \n",
    "        i += 1\n",
    "    return -1 if i == len(seq) else i\n",
    "if __name__ == '__main__':\n",
    "    num = int(input('원소 수를 입력하세요.: '))  \n",
    "    x = [None] * num                           \n",
    "    for i in range(num):\n",
    "        x[i] = int(input(f'x[{i}]: '))\n",
    "    ky = int(input('검색할 값을 입력하세요.: '))  \n",
    "    idx = seq_search(x, ky)                     \n",
    "    if idx == -1:\n",
    "         print('검색값을 갖는 원소가 존재하지 않습니다.')\n",
    "    else:\n",
    "        print(f'검색값은 x[{idx}]에 있습니다.')"
   ]
  },
  {
   "cell_type": "code",
   "execution_count": 20,
   "id": "e49a139f-a182-4dd1-bcc0-c12b5e0d5ed1",
   "metadata": {
    "tags": []
   },
   "outputs": [
    {
     "name": "stdin",
     "output_type": "stream",
     "text": [
      "원소 수를 입력하세요.:  7\n"
     ]
    },
    {
     "name": "stdout",
     "output_type": "stream",
     "text": [
      "배열 데이터를 오름차순으로 입력하세요.\n"
     ]
    },
    {
     "name": "stdin",
     "output_type": "stream",
     "text": [
      "x[0]:  1\n",
      "x[1]:  2\n",
      "x[2]:  3\n",
      "x[3]:  5\n",
      "x[4]:  7\n",
      "x[5]:  8\n",
      "x[6]:  9\n",
      "검색할 값을 입력하세요.:  5\n"
     ]
    },
    {
     "name": "stdout",
     "output_type": "stream",
     "text": [
      "검색값은 x[3]에 있습니다.\n"
     ]
    }
   ],
   "source": [
    "#21\n",
    "from typing import Any, Sequence\n",
    "\n",
    "def bin_search(a: Sequence, key: Any) -> int:\n",
    "    \"\"\"시퀀스 a에서 key와 일치하는 원소를 이진 검색\"\"\"\n",
    "    pl = 0           \n",
    "    pr = len(a) - 1  \n",
    "    while True:\n",
    "        pc = (pl + pr) // 2  \n",
    "        if a[pc] == key:\n",
    "            return pc    \n",
    "        elif a[pc] < key:\n",
    "            pl = pc + 1  \n",
    "        else:\n",
    "            pr = pc - 1  \n",
    "        if pl > pr:\n",
    "            break\n",
    "    return -1            \n",
    "if __name__ == '__main__':\n",
    "    num = int(input('원소 수를 입력하세요.: '))\n",
    "    x = [None] * num  \n",
    "    print('배열 데이터를 오름차순으로 입력하세요.')\n",
    "    x[0] = int(input('x[0]: '))\n",
    "\n",
    "    for i in range(1, num):\n",
    "        while True:\n",
    "            x[i] = int(input(f'x[{i}]: '))\n",
    "            if x[i] >= x[i - 1]:\n",
    "                 break\n",
    "    ky = int(input('검색할 값을 입력하세요.: '))  \n",
    "    idx = bin_search(x, ky)                     \n",
    "    if idx < 0:\n",
    "        print('검색값을 갖는 원소가 존재하지 않습니다.')\n",
    "    else:\n",
    "        print(f'검색값은 x[{idx}]에 있습니다.')"
   ]
  },
  {
   "cell_type": "code",
   "execution_count": 21,
   "id": "7f97f8f3-fbe5-4061-bf9f-96a262707ea4",
   "metadata": {
    "tags": []
   },
   "outputs": [],
   "source": [
    "#22\n",
    "from __future__ import annotations\n",
    "from typing import Any, Type\n",
    "import hashlib\n",
    "\n",
    "class Node:\n",
    "    def __init__(self, key: Any, value: Any, next: Node) -> None:\n",
    "        self.key   = key    \n",
    "        self.value = value  \n",
    "        self.next  = next   "
   ]
  },
  {
   "cell_type": "code",
   "execution_count": 30,
   "id": "7ca67048-1f15-4f05-bd0a-2c5d31a72791",
   "metadata": {
    "tags": []
   },
   "outputs": [],
   "source": [
    "#23\n",
    "from __future__ import annotations\n",
    "from typing import Any, Type\n",
    "import hashlib\n",
    "class Node:\n",
    "    def __init__(self, key: Any, value: Any, next: Node) -> None:\n",
    "        self.key   = key    \n",
    "        self.value = value  \n",
    "        self.next  = next   \n",
    "class ChainedHash:\n",
    "    def __init__(self, capacity: int) -> None:\n",
    "        self.capacity = capacity             \n",
    "        self.table = [None] * self.capacity  \n",
    "    def hash_value(self, key: Any) -> int:\n",
    "        if isinstance(key, int):\n",
    "            return key % self.capacity\n",
    "        return(int(hashlib.sha256(str(key).encode()).hexdigest(), 16) % self.capacity)\n",
    "    def search(self, key: Any) -> Any:\n",
    "        hash = self.hash_value(key)  \n",
    "        p = self.table[hash]         \n",
    "        while p is not None:\n",
    "            if p.key == key:\n",
    "                 return p.value  \n",
    "            p = p.next           \n",
    "        return None              \n",
    "    def add(self, key: Any, value: Any) -> bool:\n",
    "        hash = self.hash_value(key)  \n",
    "        p = self.table[hash]         \n",
    "        while p is not None:\n",
    "            if p.key == key:\n",
    "                return False         \n",
    "            p = p.next               \n",
    "        temp = Node(key, value, self.table[hash])\n",
    "        self.table[hash] = temp      \n",
    "        return True                  \n",
    "    def remove(self, key: Any) -> bool:\n",
    "        hash = self.hash_value(key)  \n",
    "        p = self.table[hash]         \n",
    "        pp = None                    \n",
    "\n",
    "        while p is not None:\n",
    "            if p.key == key:  \n",
    "                if pp is None:\n",
    "                    self.table[hash] = p.next\n",
    "                else:\n",
    "                    pp.next = p.next\n",
    "                return True  \n",
    "            pp = p\n",
    "            p = p.next       \n",
    "        return False         \n",
    "    def dump(self) -> None:\n",
    "        for i in range(self.capacity):\n",
    "            p = self.table[i]\n",
    "            print(i, end='')\n",
    "            while p is not None:\n",
    "                print(f'  → {p.key} ({p.value})', end='')  \n",
    "                p = p.next\n",
    "            print()"
   ]
  },
  {
   "cell_type": "code",
   "execution_count": 37,
   "id": "a36d0a49-2b5b-44c7-83aa-d0c6434da666",
   "metadata": {
    "tags": []
   },
   "outputs": [
    {
     "name": "stdout",
     "output_type": "stream",
     "text": [
      "(1)추가   (2)삭제   (3)검색   (4)덤프   (5)종료"
     ]
    },
    {
     "name": "stdin",
     "output_type": "stream",
     "text": [
      ":  1\n",
      "추가할 키를 입력하세요.:  1\n",
      "추가할 값을 입력하세요.:  수연\n"
     ]
    },
    {
     "name": "stdout",
     "output_type": "stream",
     "text": [
      "(1)추가   (2)삭제   (3)검색   (4)덤프   (5)종료"
     ]
    },
    {
     "name": "stdin",
     "output_type": "stream",
     "text": [
      ":  1\n",
      "추가할 키를 입력하세요.:  5\n",
      "추가할 값을 입력하세요.:  동혁\n"
     ]
    },
    {
     "name": "stdout",
     "output_type": "stream",
     "text": [
      "(1)추가   (2)삭제   (3)검색   (4)덤프   (5)종료"
     ]
    },
    {
     "name": "stdin",
     "output_type": "stream",
     "text": [
      ":  4\n"
     ]
    },
    {
     "name": "stdout",
     "output_type": "stream",
     "text": [
      "0\n",
      "1  → 1 (수연)\n",
      "2\n",
      "3\n",
      "4\n",
      "5  → 5 (동혁)\n",
      "6\n",
      "7\n",
      "8\n",
      "9\n",
      "10\n",
      "11\n",
      "12\n",
      "(1)추가   (2)삭제   (3)검색   (4)덤프   (5)종료"
     ]
    },
    {
     "name": "stdin",
     "output_type": "stream",
     "text": [
      ":  5\n"
     ]
    }
   ],
   "source": [
    "#24\n",
    "from enum import Enum\n",
    "# from chained_hash import ChainedHash\n",
    "Menu = Enum('Menu', ['추가', '삭제', '검색', '덤프', '종료'])  # 메뉴를 선언\n",
    "def select_menu() -> Menu:\n",
    "    s = [f'({m.value}){m.name}' for m in Menu]\n",
    "    while True:\n",
    "        print(*s, sep = '   ', end='')\n",
    "        n = int(input(': '))\n",
    "        if 1 <=  n <=  len(Menu):\n",
    "            return Menu(n)\n",
    "hash = ChainedHash(13)     \n",
    "while True:\n",
    "    menu = select_menu()   \n",
    "    if menu == Menu.추가:  \n",
    "        key = int(input('추가할 키를 입력하세요.: '))\n",
    "        val = input('추가할 값을 입력하세요.: ')\n",
    "        if not hash.add(key, val):\n",
    "            print('추가를 실패했습니다!')\n",
    "    elif menu == Menu.삭제:  \n",
    "        key = int(input('삭제할 키를 입력하세요.: '))\n",
    "        if not hash.remove(key):\n",
    "            print('삭제를 실패했습니다!')\n",
    "    elif menu == Menu.검색:  \n",
    "        key = int(input('검색할 키를 입력하세요.: '))\n",
    "        t = hash.search(key)\n",
    "        if t is not None:\n",
    "            print(f'검색한 키를 갖는 값은 {t}입니다.')\n",
    "        else:\n",
    "            print('검색할 데이터가 없습니다.')\n",
    "    elif menu == Menu.덤프:  \n",
    "        hash.dump()\n",
    "    else:  \n",
    "        break"
   ]
  },
  {
   "cell_type": "code",
   "execution_count": null,
   "id": "b486f671-1416-4f71-913f-6dc3fa1528b2",
   "metadata": {},
   "outputs": [],
   "source": []
  }
 ],
 "metadata": {
  "kernelspec": {
   "display_name": "Python 3 (ipykernel)",
   "language": "python",
   "name": "python3"
  },
  "language_info": {
   "codemirror_mode": {
    "name": "ipython",
    "version": 3
   },
   "file_extension": ".py",
   "mimetype": "text/x-python",
   "name": "python",
   "nbconvert_exporter": "python",
   "pygments_lexer": "ipython3",
   "version": "3.11.2"
  }
 },
 "nbformat": 4,
 "nbformat_minor": 5
}

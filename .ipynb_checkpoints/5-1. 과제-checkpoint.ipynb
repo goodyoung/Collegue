{
 "cells": [
  {
   "cell_type": "code",
   "execution_count": 70,
   "id": "f7edb37f-c342-4d20-b979-a04326536b7a",
   "metadata": {
    "tags": []
   },
   "outputs": [
    {
     "name": "stdin",
     "output_type": "stream",
     "text": [
      "어떤 커피 드릴까요?(1:보통, 2:설탕, 3:블랙)  2\n"
     ]
    },
    {
     "name": "stdout",
     "output_type": "stream",
     "text": [
      "\n",
      "#1. 뜨거운 물을 준비한다.\n",
      "#2. 종이컵을 준비한다.\n",
      "#3. 설탕커피를 탄다.\n",
      "#4. 물을 붓는다.\n",
      "#5. 스푼으로 젓는다.\n",
      "\n",
      "손님~ 커피 여기 있습니다.\n"
     ]
    }
   ],
   "source": [
    "#1\n",
    "coffee = 0\n",
    "coffee = int(input(\"어떤 커피 드릴까요?(1:보통, 2:설탕, 3:블랙) \"))\n",
    "print()\n",
    "print(\"#1. 뜨거운 물을 준비한다.\");\n",
    "print(\"#2. 종이컵을 준비한다.\");\n",
    "if coffee == 1 :\n",
    "     print(\"#3. 보통커피를 탄다.\")\n",
    "elif coffee == 2 :\n",
    "     print(\"#3. 설탕커피를 탄다.\")\n",
    "elif coffee == 3 :\n",
    "     print(\"#3. 블랙커피를 탄다.\")\n",
    "else :\n",
    "     print(\"#3. 아무거나 탄다.\\n\")\n",
    "print(\"#4. 물을 붓는다.\");\n",
    "print(\"#5. 스푼으로 젓는다.\");\n",
    "print()\n",
    "print(\"손님~ 커피 여기 있습니다.\");"
   ]
  },
  {
   "cell_type": "code",
   "execution_count": 69,
   "id": "98f25b8f-871c-451b-b17e-d5d11d153f1d",
   "metadata": {},
   "outputs": [
    {
     "name": "stdin",
     "output_type": "stream",
     "text": [
      "어떤 커피 드릴까요?(1:보통, 2:설탕, 3:블랙) 2\n"
     ]
    },
    {
     "name": "stdout",
     "output_type": "stream",
     "text": [
      "\n",
      "#1. (자동으로) 뜨거운 물을 준비한다.\n",
      "#2. (자동으로) 종이컵을 준비한다.\n",
      "#3. (자동으로) 설탕커피를 탄다.\n",
      "#4. (자동으로) 물을 붓는다.\n",
      "#5. (자동으로) 스푼으로 젓는다.\n",
      "\n",
      "손님~ 커피 여기 있습니다.\n"
     ]
    }
   ],
   "source": [
    "#2\n",
    "coffee = 0\n",
    "def coffee_machine(button) :\n",
    "    print()\n",
    "    print(\"#1. (자동으로) 뜨거운 물을 준비한다.\");\n",
    "    print(\"#2. (자동으로) 종이컵을 준비한다.\");\n",
    "    if button == 1 :\n",
    "        print(\"#3. (자동으로) 보통커피를 탄다.\")\n",
    "    elif button == 2 :\n",
    "        print(\"#3. (자동으로) 설탕커피를 탄다.\")\n",
    "    elif button == 3 :\n",
    "        print(\"#3. (자동으로) 블랙커피를 탄다.\")\n",
    "    else :\n",
    "        print(\"#3. (자동으로) 아무거나 탄다.\\n\")\n",
    "    print(\"#4. (자동으로) 물을 붓는다.\");\n",
    "    print(\"#5. (자동으로) 스푼으로 젓는다.\");\n",
    "    print()\n",
    "coffee = int(input(\"어떤 커피 드릴까요?(1:보통, 2:설탕, 3:블랙)\"))\n",
    "coffee_machine(coffee)\n",
    "print(\"손님~ 커피 여기 있습니다.\");\n"
   ]
  },
  {
   "cell_type": "code",
   "execution_count": 72,
   "id": "13eb0cc0-57a9-4383-b16e-2a2737b35858",
   "metadata": {},
   "outputs": [
    {
     "name": "stdin",
     "output_type": "stream",
     "text": [
      "A손님, 어떤 커피 드릴까요?(1:보통, 2:설탕, 3:블랙) 2\n"
     ]
    },
    {
     "name": "stdout",
     "output_type": "stream",
     "text": [
      "\n",
      "#1. (자동으로) 뜨거운 물을 준비한다.\n",
      "#2. (자동으로) 종이컵을 준비한다.\n",
      "#3. (자동으로) 설탕커피를 탄다.\n",
      "#4. (자동으로) 물을 붓는다.\n",
      "#5. (자동으로) 스푼으로 젓는다.\n",
      "\n",
      "A손님~ 커피 여기 있습니다.\n"
     ]
    },
    {
     "name": "stdin",
     "output_type": "stream",
     "text": [
      "B손님, 어떤 커피 드릴까요?(1:보통, 2:설탕, 3:블랙) 3\n"
     ]
    },
    {
     "name": "stdout",
     "output_type": "stream",
     "text": [
      "\n",
      "#1. (자동으로) 뜨거운 물을 준비한다.\n",
      "#2. (자동으로) 종이컵을 준비한다.\n",
      "#3. (자동으로) 블랙커피를 탄다.\n",
      "#4. (자동으로) 물을 붓는다.\n",
      "#5. (자동으로) 스푼으로 젓는다.\n",
      "\n",
      "B손님~ 커피 여기 있습니다.\n"
     ]
    },
    {
     "name": "stdin",
     "output_type": "stream",
     "text": [
      "C손님, 어떤 커피 드릴까요?(1:보통, 2:설탕, 3:블랙) 3\n"
     ]
    },
    {
     "name": "stdout",
     "output_type": "stream",
     "text": [
      "\n",
      "#1. (자동으로) 뜨거운 물을 준비한다.\n",
      "#2. (자동으로) 종이컵을 준비한다.\n",
      "#3. (자동으로) 블랙커피를 탄다.\n",
      "#4. (자동으로) 물을 붓는다.\n",
      "#5. (자동으로) 스푼으로 젓는다.\n",
      "\n",
      "C손님~ 커피 여기 있습니다.\n"
     ]
    }
   ],
   "source": [
    "#3\n",
    "coffee = 0\n",
    "def coffee_machine(button) :\n",
    "    print()\n",
    "    print(\"#1. (자동으로) 뜨거운 물을 준비한다.\");\n",
    "    print(\"#2. (자동으로) 종이컵을 준비한다.\");\n",
    "    if button == 1 :\n",
    "        print(\"#3. (자동으로) 보통커피를 탄다.\")\n",
    "    elif button == 2 :\n",
    "        print(\"#3. (자동으로) 설탕커피를 탄다.\")\n",
    "    elif button == 3 :\n",
    "        print(\"#3. (자동으로) 블랙커피를 탄다.\")\n",
    "    else :\n",
    "        print(\"#3. (자동으로) 아무거나 탄다.\\n\")\n",
    "    print(\"#4. (자동으로) 물을 붓는다.\");\n",
    "    print(\"#5. (자동으로) 스푼으로 젓는다.\");\n",
    "    print()\n",
    "coffee = int(input(\"A손님, 어떤 커피 드릴까요?(1:보통, 2:설탕, 3:블랙)\"))\n",
    "coffee_machine(coffee)\n",
    "print(\"A손님~ 커피 여기 있습니다.\")\n",
    "coffee = int(input(\"B손님, 어떤 커피 드릴까요?(1:보통, 2:설탕, 3:블랙)\"))\n",
    "coffee_machine(coffee)\n",
    "print(\"B손님~ 커피 여기 있습니다.\")\n",
    "coffee = int(input(\"C손님, 어떤 커피 드릴까요?(1:보통, 2:설탕, 3:블랙)\"))\n",
    "coffee_machine(coffee)\n",
    "print(\"C손님~ 커피 여기 있습니다.\")"
   ]
  },
  {
   "cell_type": "code",
   "execution_count": 73,
   "id": "94695dc5-f36a-43e2-bbd8-af276bae3131",
   "metadata": {},
   "outputs": [
    {
     "name": "stdout",
     "output_type": "stream",
     "text": [
      "100과 200의 plus() 함수 결과는 300\n"
     ]
    }
   ],
   "source": [
    "#4\n",
    "def plus( v1, v2) :\n",
    "    result = 0\n",
    "    result = v1 + v2\n",
    "    return result\n",
    "hap = 0\n",
    "hap = plus(100, 200)\n",
    "print(\"100과 200의 plus() 함수 결과는 %d\" % hap)"
   ]
  },
  {
   "cell_type": "code",
   "execution_count": 74,
   "id": "1fb0d7f8-54a3-495c-a9a0-0c5fec592468",
   "metadata": {},
   "outputs": [
    {
     "name": "stdin",
     "output_type": "stream",
     "text": [
      "계산을 입력하세요(+, -, *, /) :  *\n",
      "첫 번째 수를 입력하세요 :  7\n",
      "두 번째 수를 입력하세요 :  8\n"
     ]
    },
    {
     "name": "stdout",
     "output_type": "stream",
     "text": [
      "## 계산기 : 7 * 8 = 56\n"
     ]
    }
   ],
   "source": [
    "#5\n",
    "def calc(v1, v2, op) :\n",
    "    result = 0\n",
    "    if op == '+' :\n",
    "        result = v1 + v2\n",
    "    elif op == '-' :\n",
    "        result = v1 - v2\n",
    "    elif op == '*' :\n",
    "        result = v1 * v2\n",
    "    elif op == '/' :\n",
    "        result = v1 / v2\n",
    "\n",
    "    return result\n",
    "res = 0\n",
    "var1, var2, oper = 0, 0, \"\"\n",
    "oper = input(\"계산을 입력하세요(+, -, *, /) : \")\n",
    "var1 = int(input(\"첫 번째 수를 입력하세요 : \"))\n",
    "var2 = int(input(\"두 번째 수를 입력하세요 : \"))\n",
    "res = calc(var1, var2, oper)\n",
    "print(\"## 계산기 : %d %s %d = %d\" % (var1, oper, var2, res))"
   ]
  },
  {
   "cell_type": "code",
   "execution_count": 78,
   "id": "9ccde6b4-863a-4def-ba2d-d34cb08edfc7",
   "metadata": {
    "tags": []
   },
   "outputs": [
    {
     "name": "stdout",
     "output_type": "stream",
     "text": [
      "func1()에서 a값 10\n",
      "func2()에서 a값 20\n"
     ]
    }
   ],
   "source": [
    "#6\n",
    "def func1() :\n",
    "     a = 10     \n",
    "     print(\"func1()에서 a값 %d\" % a)\n",
    "def func2() :\n",
    "     print(\"func2()에서 a값 %d\" % a)\n",
    "a = 20        \n",
    "func1()\n",
    "func2()"
   ]
  },
  {
   "cell_type": "code",
   "execution_count": 80,
   "id": "345ed47f-ff10-4c15-ace5-52b46cb84b98",
   "metadata": {
    "tags": []
   },
   "outputs": [
    {
     "name": "stdout",
     "output_type": "stream",
     "text": [
      "func1()에서 a값 10\n",
      "func2()에서 a값 10\n"
     ]
    }
   ],
   "source": [
    "#7\n",
    "def func1():\n",
    "    global a     \n",
    "    a = 10\n",
    "    print(\"func1()에서 a값 %d\" % a)\n",
    "def func2():\n",
    "    print(\"func2()에서 a값 %d\" % a)\n",
    "a = 20           \n",
    "func1()\n",
    "func2()"
   ]
  },
  {
   "cell_type": "code",
   "execution_count": 81,
   "id": "07b37d98-7a1b-42bb-8257-ffe3dea381ba",
   "metadata": {
    "tags": []
   },
   "outputs": [
    {
     "name": "stdout",
     "output_type": "stream",
     "text": [
      "func1()에서 돌려준 값 ==> 100\n",
      "반환값이 없는 함수 실행\n"
     ]
    }
   ],
   "source": [
    "#8\n",
    "def func1() :\n",
    "     result = 100\n",
    "     return result\n",
    "def func2() :\n",
    "     print(\"반환값이 없는 함수 실행\")\n",
    "hap = 0\n",
    "hap = func1()\n",
    "print(\"func1()에서 돌려준 값 ==> %d\" % hap)\n",
    "func2()"
   ]
  },
  {
   "cell_type": "code",
   "execution_count": 82,
   "id": "6afdacfe-6dea-4345-a6c1-5977cbfb28f3",
   "metadata": {
    "tags": []
   },
   "outputs": [
    {
     "name": "stdout",
     "output_type": "stream",
     "text": [
      "multi()에서 돌려준 값 ==> 300, -100\n"
     ]
    }
   ],
   "source": [
    "#9\n",
    "def multi(v1, v2) :\n",
    "     retList=[]       \n",
    "     res1 = v1 + v2\n",
    "     res2 = v1 - v2\n",
    "     retList.append(res1)\n",
    "     retList.append(res2)\n",
    "     return retList\t\n",
    "myList = []\n",
    "hap, sub = 0, 0\n",
    "myList = multi(100, 200)\n",
    "hap = myList[0]\n",
    "sub = myList[1]\n",
    "print(\"multi()에서 돌려준 값 ==> %d, %d\" % (hap, sub))"
   ]
  },
  {
   "cell_type": "code",
   "execution_count": 83,
   "id": "dce0dd82-5b97-437d-a220-bbe28ddf573d",
   "metadata": {
    "tags": []
   },
   "outputs": [
    {
     "name": "stdout",
     "output_type": "stream",
     "text": [
      "매개변수가 2개인 함수를 호출한 결과 ==> 30\n",
      "매개변수가 3개인 함수를 호출한 결과 ==> 60\n"
     ]
    }
   ],
   "source": [
    "#10\n",
    "def para2_func(v1, v2) :\n",
    "     result = 0\n",
    "     result = v1 + v2\n",
    "     return result\n",
    "def para3_func(v1, v2, v3) :\n",
    "     result = 0\n",
    "     result = v1 + v2 + v3\n",
    "     return result\n",
    "hap = 0\n",
    "hap = para2_func(10, 20)\n",
    "print(\"매개변수가 2개인 함수를 호출한 결과 ==> %d\" % hap)\n",
    "hap = para3_func(10, 20, 30)\n",
    "print(\"매개변수가 3개인 함수를 호출한 결과 ==> %d\" % hap)"
   ]
  },
  {
   "cell_type": "code",
   "execution_count": 84,
   "id": "7c102554-29f7-4888-a101-7807a49af0e9",
   "metadata": {
    "tags": []
   },
   "outputs": [
    {
     "name": "stdout",
     "output_type": "stream",
     "text": [
      "매개변수가 2개인 함수를 호출한 결과 ==> 30\n",
      "매개변수가 3개인 함수를 호출한 결과 ==> 60\n"
     ]
    }
   ],
   "source": [
    "#11\n",
    "def para_func(v1, v2, v3=0) :\n",
    "     result = 0\n",
    "     result = v1 + v2 + v3\n",
    "     return result\n",
    "hap = 0\n",
    "hap = para_func(10, 20)\n",
    "print(\"매개변수가 2개인 함수를 호출한 결과 ==> %d\" % hap)\n",
    "hap = para_func(10, 20, 30)\n",
    "print(\"매개변수가 3개인 함수를 호출한 결과 ==> %d\" % hap)"
   ]
  },
  {
   "cell_type": "code",
   "execution_count": 85,
   "id": "0d5fe121-867c-45ec-bab0-50033562c072",
   "metadata": {
    "tags": []
   },
   "outputs": [
    {
     "name": "stdout",
     "output_type": "stream",
     "text": [
      "매개변수가 2개인 함수를 호출한 결과 ==> 30\n",
      "매개변수가 3개인 함수를 호출한 결과 ==> 60\n"
     ]
    }
   ],
   "source": [
    "#12\n",
    "def para_func(*para) :\n",
    "     result = 0\n",
    "     for num in para :\n",
    "          result = result + num\n",
    "\n",
    "     return result\n",
    "hap = 0\n",
    "hap = para_func(10, 20)\n",
    "print(\"매개변수가 2개인 함수를 호출한 결과 ==> %d\" % hap)\n",
    "hap = para_func(10, 20, 30)\n",
    "print(\"매개변수가 3개인 함수를 호출한 결과 ==> %d\" % hap)"
   ]
  },
  {
   "cell_type": "code",
   "execution_count": 86,
   "id": "a6292f71-021a-44ba-bd35-6b63ec3a107d",
   "metadata": {
    "tags": []
   },
   "outputs": [
    {
     "name": "stdout",
     "output_type": "stream",
     "text": [
      "** 로또 추첨을 시작합니다. ** \n",
      "\n",
      "추첨된 로또 번호 ==>  10  23  26  28  39  41  "
     ]
    }
   ],
   "source": [
    "#13\n",
    "import random\n",
    "def getNumber() :\n",
    "     return random.randrange(1, 46)\n",
    "lotto = []\n",
    "num = 0\n",
    "print(\"** 로또 추첨을 시작합니다. ** \\n\");\n",
    "while True :\n",
    "     num = getNumber()\n",
    "     if lotto.count(num) == 0 :\n",
    "          lotto.append(num)\n",
    "     if len(lotto) >= 6 :\n",
    "          break \n",
    "print(\"추첨된 로또 번호 ==>  \", end = '')\n",
    "lotto.sort()\n",
    "for i in range(0, 6) :\n",
    "     print(\"%d  \" % lotto[i], end = '')"
   ]
  },
  {
   "cell_type": "code",
   "execution_count": 88,
   "id": "58fb45e9-44ee-498d-866f-6dab7fa00445",
   "metadata": {
    "collapsed": true,
    "jupyter": {
     "outputs_hidden": true
    },
    "tags": []
   },
   "outputs": [
    {
     "ename": "ModuleNotFoundError",
     "evalue": "No module named 'Module1'",
     "output_type": "error",
     "traceback": [
      "\u001b[0;31m---------------------------------------------------------------------------\u001b[0m",
      "\u001b[0;31mModuleNotFoundError\u001b[0m                       Traceback (most recent call last)",
      "Cell \u001b[0;32mIn[88], line 1\u001b[0m\n\u001b[0;32m----> 1\u001b[0m \u001b[38;5;28;01mimport\u001b[39;00m \u001b[38;5;21;01mModule1\u001b[39;00m\n\u001b[1;32m      2\u001b[0m Module1\u001b[38;5;241m.\u001b[39mfunc1()\n\u001b[1;32m      3\u001b[0m Module1\u001b[38;5;241m.\u001b[39mfunc2()\n",
      "\u001b[0;31mModuleNotFoundError\u001b[0m: No module named 'Module1'"
     ]
    }
   ],
   "source": [
    "#14\n",
    "import Module1\n",
    "Module1.func1()\n",
    "Module1.func2()\n",
    "Module1.func3()"
   ]
  },
  {
   "cell_type": "code",
   "execution_count": 89,
   "id": "77c839b1-54fb-4036-a512-1d8c72e44933",
   "metadata": {
    "tags": []
   },
   "outputs": [
    {
     "name": "stdout",
     "output_type": "stream",
     "text": [
      "Module1.py의 func1()이 호출됨.\n",
      "Module1.py의 func2()가 호출됨.\n",
      "Module1.py의 func3()이 호출됨.\n"
     ]
    }
   ],
   "source": [
    "print(\"Module1.py의 func1()이 호출됨.\")\n",
    "print(\"Module1.py의 func2()가 호출됨.\")\n",
    "print(\"Module1.py의 func3()이 호출됨.\")    "
   ]
  },
  {
   "cell_type": "code",
   "execution_count": 90,
   "id": "3a2fce2e-621e-496b-bcbe-f951d8bd848a",
   "metadata": {
    "collapsed": true,
    "jupyter": {
     "outputs_hidden": true
    },
    "tags": []
   },
   "outputs": [
    {
     "ename": "ModuleNotFoundError",
     "evalue": "No module named 'Module1'",
     "output_type": "error",
     "traceback": [
      "\u001b[0;31m---------------------------------------------------------------------------\u001b[0m",
      "\u001b[0;31mModuleNotFoundError\u001b[0m                       Traceback (most recent call last)",
      "Cell \u001b[0;32mIn[90], line 1\u001b[0m\n\u001b[0;32m----> 1\u001b[0m \u001b[38;5;28;01mfrom\u001b[39;00m \u001b[38;5;21;01mModule1\u001b[39;00m \u001b[38;5;28;01mimport\u001b[39;00m func1, func2, func3 \n\u001b[1;32m      2\u001b[0m func1()\n\u001b[1;32m      3\u001b[0m func2()\n",
      "\u001b[0;31mModuleNotFoundError\u001b[0m: No module named 'Module1'"
     ]
    }
   ],
   "source": [
    "#15\n",
    "from Module1 import func1, func2, func3 \n",
    "func1()\n",
    "func2()\n",
    "func3()"
   ]
  },
  {
   "cell_type": "code",
   "execution_count": 91,
   "id": "10641cab-aa03-4d60-b900-46a9e9b7fcbf",
   "metadata": {
    "collapsed": true,
    "jupyter": {
     "outputs_hidden": true
    },
    "tags": []
   },
   "outputs": [
    {
     "ename": "ModuleNotFoundError",
     "evalue": "No module named '_tkinter'",
     "output_type": "error",
     "traceback": [
      "\u001b[0;31m---------------------------------------------------------------------------\u001b[0m",
      "\u001b[0;31mModuleNotFoundError\u001b[0m                       Traceback (most recent call last)",
      "Cell \u001b[0;32mIn[91], line 2\u001b[0m\n\u001b[1;32m      1\u001b[0m \u001b[38;5;28;01mimport\u001b[39;00m \u001b[38;5;21;01mrandom\u001b[39;00m\n\u001b[0;32m----> 2\u001b[0m \u001b[38;5;28;01mfrom\u001b[39;00m \u001b[38;5;21;01mtkinter\u001b[39;00m\u001b[38;5;21;01m.\u001b[39;00m\u001b[38;5;21;01msimpledialog\u001b[39;00m \u001b[38;5;28;01mimport\u001b[39;00m \u001b[38;5;241m*\u001b[39m\n\u001b[1;32m      4\u001b[0m \u001b[38;5;28;01mdef\u001b[39;00m \u001b[38;5;21mgetString\u001b[39m() :\n\u001b[1;32m      5\u001b[0m     retStr \u001b[38;5;241m=\u001b[39m \u001b[38;5;124m'\u001b[39m\u001b[38;5;124m'\u001b[39m\n",
      "File \u001b[0;32m/usr/local/Cellar/python@3.11/3.11.2_1/Frameworks/Python.framework/Versions/3.11/lib/python3.11/tkinter/__init__.py:38\u001b[0m\n\u001b[1;32m     35\u001b[0m \u001b[38;5;28;01mimport\u001b[39;00m \u001b[38;5;21;01msys\u001b[39;00m\n\u001b[1;32m     36\u001b[0m \u001b[38;5;28;01mimport\u001b[39;00m \u001b[38;5;21;01mtypes\u001b[39;00m\n\u001b[0;32m---> 38\u001b[0m \u001b[38;5;28;01mimport\u001b[39;00m \u001b[38;5;21;01m_tkinter\u001b[39;00m \u001b[38;5;66;03m# If this fails your Python may not be configured for Tk\u001b[39;00m\n\u001b[1;32m     39\u001b[0m TclError \u001b[38;5;241m=\u001b[39m _tkinter\u001b[38;5;241m.\u001b[39mTclError\n\u001b[1;32m     40\u001b[0m \u001b[38;5;28;01mfrom\u001b[39;00m \u001b[38;5;21;01mtkinter\u001b[39;00m\u001b[38;5;21;01m.\u001b[39;00m\u001b[38;5;21;01mconstants\u001b[39;00m \u001b[38;5;28;01mimport\u001b[39;00m \u001b[38;5;241m*\u001b[39m\n",
      "\u001b[0;31mModuleNotFoundError\u001b[0m: No module named '_tkinter'"
     ]
    }
   ],
   "source": [
    "#16\n",
    "import random\n",
    "from tkinter.simpledialog import *\n",
    "def getString() :\n",
    "    retStr = ''\n",
    "    retStr = askstring('문자열 입력', '거북이 쓸 문자열을 입력')\n",
    "    return retStr\n",
    "def getRGB() :\n",
    "    r, g, b = 0, 0, 0\n",
    "    r = random.random() \n",
    "    g = random.random()\n",
    "    b = random.random()\n",
    "    return (r, g, b)\n",
    "def getXYAS(sw, sh) :\n",
    "    x, y, angle, size = 0, 0, 0, 0\n",
    "    x  = random.randrange(-sw / 2, sw / 2)\n",
    "    y = random.randrange(-sh / 2, sh / 2)\n",
    "    angle = random.randrange(0, 360)\n",
    "    size = random.randrange(10, 50)\n",
    "    return [x, y, angle, size]"
   ]
  },
  {
   "cell_type": "code",
   "execution_count": 92,
   "id": "ddb6e290-c699-4a43-88de-3cd35553cac3",
   "metadata": {
    "collapsed": true,
    "jupyter": {
     "outputs_hidden": true
    },
    "tags": []
   },
   "outputs": [
    {
     "ename": "ModuleNotFoundError",
     "evalue": "No module named 'myTurtle'",
     "output_type": "error",
     "traceback": [
      "\u001b[0;31m---------------------------------------------------------------------------\u001b[0m",
      "\u001b[0;31mModuleNotFoundError\u001b[0m                       Traceback (most recent call last)",
      "Cell \u001b[0;32mIn[92], line 2\u001b[0m\n\u001b[1;32m      1\u001b[0m \u001b[38;5;66;03m# 17\u001b[39;00m\n\u001b[0;32m----> 2\u001b[0m \u001b[38;5;28;01mfrom\u001b[39;00m \u001b[38;5;21;01mmyTurtle\u001b[39;00m \u001b[38;5;28;01mimport\u001b[39;00m  \u001b[38;5;241m*\u001b[39m\n\u001b[1;32m      3\u001b[0m \u001b[38;5;28;01mimport\u001b[39;00m \u001b[38;5;21;01mturtle\u001b[39;00m\n\u001b[1;32m      4\u001b[0m inStr \u001b[38;5;241m=\u001b[39m \u001b[38;5;124m'\u001b[39m\u001b[38;5;124m'\u001b[39m\n",
      "\u001b[0;31mModuleNotFoundError\u001b[0m: No module named 'myTurtle'"
     ]
    }
   ],
   "source": [
    "# 17\n",
    "from myTurtle import  *\n",
    "import turtle\n",
    "inStr = ''\n",
    "swidth, sheight = 300, 300\n",
    "tX, tY, tAngle, txtSize = [0] * 4\n",
    "turtle.title('거북이 글자쓰기(모듈버전)')\n",
    "turtle.shape('turtle')\n",
    "turtle.setup(width = swidth + 50, height = sheight + 50)\n",
    "turtle.screensize(swidth, sheight)\n",
    "turtle.penup()\n",
    "turtle.speed(5)\n",
    "inStr = getString()\n",
    "for ch in inStr :\n",
    "     tX, tY, tAngle, txtSize = getXYAS(swidth, sheight) \n",
    "     r, g, b = getRGB() \n",
    "     turtle.goto(tX, tY)\n",
    "     turtle.left(tAngle)\n",
    "     turtle.pencolor((r, g, b))\n",
    "     turtle.write(ch, font = ('맑은고딕', txtSize, 'bold'))\t\t\n",
    "turtle.done()"
   ]
  },
  {
   "cell_type": "code",
   "execution_count": 93,
   "id": "f6bf3470-59c2-4b66-bd4d-fb5b4dddc7c9",
   "metadata": {
    "tags": []
   },
   "outputs": [
    {
     "data": {
      "text/plain": [
       "30"
      ]
     },
     "execution_count": 93,
     "metadata": {},
     "output_type": "execute_result"
    }
   ],
   "source": [
    "def outFunc(v1,v2):\n",
    "    def inFunc(num1, num2):\n",
    "        return num1 + num2\n",
    "    return inFunc(v1,v2)\n",
    "outFunc(10,20)"
   ]
  },
  {
   "cell_type": "code",
   "execution_count": 94,
   "id": "e897cb04-bcfb-4f42-b6b3-dd75012f4c32",
   "metadata": {
    "tags": []
   },
   "outputs": [
    {
     "ename": "NameError",
     "evalue": "name 'inFunc' is not defined",
     "output_type": "error",
     "traceback": [
      "\u001b[0;31m---------------------------------------------------------------------------\u001b[0m",
      "\u001b[0;31mNameError\u001b[0m                                 Traceback (most recent call last)",
      "Cell \u001b[0;32mIn[94], line 1\u001b[0m\n\u001b[0;32m----> 1\u001b[0m \u001b[43minFunc\u001b[49m(\u001b[38;5;241m10\u001b[39m,\u001b[38;5;241m20\u001b[39m)\n",
      "\u001b[0;31mNameError\u001b[0m: name 'inFunc' is not defined"
     ]
    }
   ],
   "source": [
    "inFunc(10,20)"
   ]
  },
  {
   "cell_type": "code",
   "execution_count": 95,
   "id": "0e93ff7e-a8c9-40d8-9724-9484bc8d8df6",
   "metadata": {
    "tags": []
   },
   "outputs": [
    {
     "data": {
      "text/plain": [
       "30"
      ]
     },
     "execution_count": 95,
     "metadata": {},
     "output_type": "execute_result"
    }
   ],
   "source": [
    "def hap(num1,num2):\n",
    "    res = num1 + num2\n",
    "    return res\n",
    "hap(10,20)"
   ]
  },
  {
   "cell_type": "code",
   "execution_count": 96,
   "id": "e38bb4e3-1ca4-4812-aa95-74e70889edbd",
   "metadata": {
    "tags": []
   },
   "outputs": [
    {
     "name": "stdout",
     "output_type": "stream",
     "text": [
      "30\n",
      "300\n"
     ]
    }
   ],
   "source": [
    "hap3 = lambda num1 = 10, num2 = 20: num1+num2\n",
    "print(hap3())\n",
    "print(hap3(100,200))"
   ]
  },
  {
   "cell_type": "code",
   "execution_count": 99,
   "id": "b19fc789-898b-4497-92a1-79dc5123a75f",
   "metadata": {
    "tags": []
   },
   "outputs": [
    {
     "data": {
      "text/plain": [
       "[11, 12, 13, 14, 15]"
      ]
     },
     "execution_count": 99,
     "metadata": {},
     "output_type": "execute_result"
    }
   ],
   "source": [
    "myList = [1,2,3,4,5]\n",
    "add10 = lambda num: num+10\n",
    "myList = list(map(add10,myList))\n",
    "myList"
   ]
  },
  {
   "cell_type": "code",
   "execution_count": 100,
   "id": "240192d5-7b1a-42b1-84f2-1b72e98a6bc8",
   "metadata": {
    "collapsed": true,
    "jupyter": {
     "outputs_hidden": true
    },
    "tags": []
   },
   "outputs": [
    {
     "name": "stdout",
     "output_type": "stream",
     "text": [
      "하하하하하하하하하하하하하하하하하하하하하하하하하하하하하하하하하하하하하하하하하하하하하하하하하하하하하하하하하하하하하하하하하하하하하하하하하하하하하하하하하하하하하하하하하하하하하하하하하하하하하하하하하하하하하하하하하하하하하하하하하하하하하하하하하하하하하하하하하하하하하하하하하하하하하하하하하하하하하하하하하하하하하하하하하하하하하하하하하하하하하하하하하하하하하하하하하하하하하하하하하하하하하하하하하하하하하하하하하하하하하하하하하하하하하하하하하하하하하하하하하하하하하하하하하하하하하하하하하하하하하하하하하하하하하하하하하하하하하하하하하하하하하하하하하하하하하하하하하하하하하하하하하하하하하하하하하하하하하하하하하하하하하하하하하하하하하하하하하하하하하하하하하하하하하하하하하하하하하하하하하하하하하하하하하하하하하하하하하하하하하하하하하하하하하하하하하하하하하하하하하하하하하하하하하하하하하하하하하하하하하하하하하하하하하하하하하하하하하하하하하하하하하하하하하하하하하하하하하하하하하하하하하하하하하하하하하하하하하하하하하하하하하하하하하하하하하하하하하하하하하하하하하하하하하하하하하하하하하하하하하하하하하하하하하하하하하하하하하하하하하하하하하하하하하하하하하하하하하하하하하하하하하하하하하하하하하하하하하하하하하하하하하하하하하하하하하하하하하하하하하하하하하하하하하하하하하하하하하하하하하하하하하하하하하하하하하하하하하하하하하하하하하하하하하하하하하하하하하하하하하하하하하하하하하하하하하하하하하하하하하하하하하하하하하하하하하하하하하하하하하하하하하하하하하하하하하하하하하하하하하하하하하하하하하하하하하하하하하하하하하하하하하하하하하하하하하하하하하하하하하하하하하하하하하하하하하하하하하하하하하하하하하하하하하하하하하하하하하하하하하하하하하하하하하하하하하하하하하하하하하하하하하하하하하하하하하하하하하하하하하하하하하하하하하하하하하하하하하하하하하하하하하하하하하하하하하하하하하하하하하하하하하하하하하하하하하하하하하하하하하하하하하하하하하하하하하하하하하하하하하하하하하하하하하하하하하하하하하하하하하하하하하하하하하하하하하하하하하하하하하하하하하하하하하하하하하하하하하하하하하하하하하하하하하하하하하하하하하하하하하하하하하하하하하하하하하하하하하하하하하하하하하하하하하하하하하하하하하하하하하하하하하하하하하하하하하하하하하하하하하하하하하하하하하하하하하하하하하하하하하하하하하하하하하하하하하하하하하하하하하하하하하하하하하하하하하하하하하하하하하하하하하하하하하하하하하하하하하하하하하하하하하하하하하하하하하하하하하하하하하하하하하하하하하하하하하하하하하하하하하하하하하하하하하하하하하하하하하하하하하하하하하하하하하하하하하하하하하하하하하하하하하하하하하하하하하하하하하하하하하하하하하하하하하하하하하하하하하하하하하하하하하하하하하하하하하하하하하하하하하하하하하하하하하하하하하하하하하하하하하하하하하하하하하하하하하하하하하하하하하하하하하하하하하하하하하하하하하하하하하하하하하하하하하하하하하하하하하하하하하하하하하하하하하하하하하하하하하하하하하하하하하하하하하하하하하하하하하하하하하하하하하하하하하하하하하하하하하하하하하하하하하하하하하하하하하하하하하하하하하하하하하하하하하하하하하하하하하하하하하하하하하하하하하하하하하하하하하하하하하하하하하하하하하하하하하하하하하하하하하하하하하하하하하하하하하하하하하하하하하하하하하하하하하하하하하하하하하하하하하하하하하하하하하하하하하하하하하하하하하하하하하하하하하하하하하하하하하하하하하하하하하하하하하하하하하하하하하하하하하하하하하하하하하하하하하하하하하하하하하하하하하하하하하하하하하하하하하하하하하하하하하하하하하하하하하하하하하하하하하하하하하하하하하하하하하하하하하하하하하하하하하하하하하하하하하하하하하하하하하하하하하하하하하하하하하하하하하하하하하하하하하하하하하하하하하하하하하하하하하하하하하하하하하하하하하하하하하하하하하하하하하하하하하하하하하하하하하하하하하하하하하하하하하하하하하하하하하하하하하하하하하하하하하하하하하하하하하하하하하하하하하하하하하하하하하하하하하하하하하하하하하하하하하하하하하하하하하하하하하하하하하하하하하하하하하하하하하하하하하하하하하하하하하하하하하하하하하하하하하하하하하하하하하하하하하하하하하하하하하하하하하하하하하하하하하하하하하하하하하하하하하하하하하하하하하하하하하하하하하하하하하하하하하하하하하하하하하하하하하하하하하하하하하하하하하하하하하하하하하하하하하하하하하하하하하하하하하하하하하하하하하하하하하하하하하하하하하하하하하하하하하하하하하하하하하하하하하하하하하하하하하하하하하하하하하하하하하하하하하하하하하하하하하하하하하하하하하하하하하하하하하하하하하하하하하하하하하하하하하하하하하하하하하하하하하하하하하하하하하하하하하하하하하하하하하하하하하하하하하하하하하하하하하하하하하하하하하하하하하하하하하하하하하하하하하하하하하하하하하하하하하하하하하하하하하하하하하하하하하하하하하하하하하하하하하하하하하하하하하하하하하하하하하하하하하하하하하하하하하하하하하하하하하하하하하하하하하하하하하하하하하하하하하하하하하하하하하하하하하하하하하하하하하하하하하하하하하하하하하하하하하하하하하하하하하하하하하하하하하하하하하하하하하하하하하하하하하하하하하하하하하하하하하하하하하하하하하하하하하하하하하하하하하하하하하하하하하하하하하하하하하하하하하하하하하하하하하하하하하하하하하하하하하하하하하하하하하하하하하하하하하하하하하하하하하하하하하하하하하하하하하하하하하하하하하하하하하하하하하하하하하하하하하하하하하하하하하하하하하하하하하하하하하하하하하하하하하하하하하하하하하하하하하하하하하하하하하하하하하하하하하하하하하하하하하하하하하하하하하하하하하하하하하하하하하하하하하하하하하하하하하하하하하하하하하하하하하하하하하하하하하하하하하하하하하하하하하하하하하하하하하하하하하하하하하하하하하하하하하하하하하하하하하하하하하하하하하하하하하하하하하하하하하하하하하하하하하하하하하하하하하하하하하하하하하하하하하하하하하하하하하하하하하하하하하하하하하하하하하하하하하하하하하하하하하하하하하하하하하하하하하하하하하하하하하하하하하하하하하하하하하하하하하하하하하하하하하하하하하하하하하하하하하하하하하하하하하하하하하하하하하하하하하하하하하하하하하하하하하하하하하하하하하하하하하하하하하하하하하하하하하하하하하하하하하하하하하하하하하하하하하하하하하하하하하하하하하하하하하하하하하하하하하하하하하하하하하하하하하하하하하하하하하하하하하하하하하하하하하하하하하하하하하하하하하하하하하하하하하하하하하하하하하하하하하하하하하하하하하하하하하하하하하하하"
     ]
    },
    {
     "name": "stderr",
     "output_type": "stream",
     "text": [
      "\n",
      "KeyboardInterrupt\n",
      "\n"
     ]
    }
   ],
   "source": [
    "def selfCall():\n",
    "    print('하', end = '')\n",
    "    selfCall()\n",
    "selfCall()"
   ]
  },
  {
   "cell_type": "code",
   "execution_count": 101,
   "id": "47e8fdc2-0218-4fbd-a059-56ea5d3ccdbb",
   "metadata": {
    "tags": []
   },
   "outputs": [
    {
     "name": "stdout",
     "output_type": "stream",
     "text": [
      "10 9 8 7 6 5 4 3 2 1 20 19 18 17 16 15 14 13 12 11 10 9 8 7 6 5 4 3 2 1 "
     ]
    }
   ],
   "source": [
    "def count(num):\n",
    "    if num >= 1:\n",
    "        print(num, end =' ')\n",
    "        count(num -1)\n",
    "    else:\n",
    "        return\n",
    "count(10)\n",
    "count(20)"
   ]
  },
  {
   "cell_type": "code",
   "execution_count": 103,
   "id": "d27405c0-f92d-4318-ac7a-80db9297183a",
   "metadata": {
    "tags": []
   },
   "outputs": [
    {
     "name": "stdout",
     "output_type": "stream",
     "text": [
      "24\n",
      "3628800\n"
     ]
    }
   ],
   "source": [
    "def factorial(num):\n",
    "    if num <=1 :\n",
    "        return num\n",
    "    else:\n",
    "        return num* factorial(num-1)\n",
    "print(factorial(4))\n",
    "print(factorial(10))"
   ]
  },
  {
   "cell_type": "code",
   "execution_count": 105,
   "id": "e6ae87ca-b616-4840-9c32-fb93be87b4b3",
   "metadata": {
    "tags": []
   },
   "outputs": [
    {
     "data": {
      "text/plain": [
       "[1, 2, 3]"
      ]
     },
     "execution_count": 105,
     "metadata": {},
     "output_type": "execute_result"
    }
   ],
   "source": [
    "def genFunc():\n",
    "    yield 1\n",
    "    yield 2\n",
    "    yield 3\n",
    "list(genFunc())"
   ]
  },
  {
   "cell_type": "code",
   "execution_count": 106,
   "id": "f44d6c17-da95-47b1-b1e4-a6751310238b",
   "metadata": {
    "tags": []
   },
   "outputs": [
    {
     "name": "stdout",
     "output_type": "stream",
     "text": [
      "0\n",
      "제너레이터 진행 중\n",
      "1\n",
      "제너레이터 진행 중\n",
      "2\n",
      "제너레이터 진행 중\n",
      "3\n",
      "제너레이터 진행 중\n",
      "4\n",
      "제너레이터 진행 중\n"
     ]
    }
   ],
   "source": [
    "def genFunc(num):\n",
    "    for i in range(num):\n",
    "        yield i\n",
    "        print('제너레이터 진행 중')\n",
    "for data in genFunc(5):\n",
    "    print(data)"
   ]
  },
  {
   "cell_type": "code",
   "execution_count": null,
   "id": "60d79e8b-5bda-4146-9b22-bf270fa4d01f",
   "metadata": {},
   "outputs": [],
   "source": [
    "#10"
   ]
  },
  {
   "cell_type": "code",
   "execution_count": 107,
   "id": "41d0ac9a-8d7d-497a-8169-1881bf0a5777",
   "metadata": {
    "collapsed": true,
    "jupyter": {
     "outputs_hidden": true
    },
    "tags": []
   },
   "outputs": [
    {
     "ename": "ModuleNotFoundError",
     "evalue": "No module named '_tkinter'",
     "output_type": "error",
     "traceback": [
      "\u001b[0;31m---------------------------------------------------------------------------\u001b[0m",
      "\u001b[0;31mModuleNotFoundError\u001b[0m                       Traceback (most recent call last)",
      "Cell \u001b[0;32mIn[107], line 1\u001b[0m\n\u001b[0;32m----> 1\u001b[0m \u001b[38;5;28;01mfrom\u001b[39;00m \u001b[38;5;21;01mtkinter\u001b[39;00m \u001b[38;5;28;01mimport\u001b[39;00m \u001b[38;5;241m*\u001b[39m\n\u001b[1;32m      2\u001b[0m window \u001b[38;5;241m=\u001b[39m Tk()\n\u001b[1;32m      3\u001b[0m window\u001b[38;5;241m.\u001b[39mmainloop()\n",
      "File \u001b[0;32m/usr/local/Cellar/python@3.11/3.11.2_1/Frameworks/Python.framework/Versions/3.11/lib/python3.11/tkinter/__init__.py:38\u001b[0m\n\u001b[1;32m     35\u001b[0m \u001b[38;5;28;01mimport\u001b[39;00m \u001b[38;5;21;01msys\u001b[39;00m\n\u001b[1;32m     36\u001b[0m \u001b[38;5;28;01mimport\u001b[39;00m \u001b[38;5;21;01mtypes\u001b[39;00m\n\u001b[0;32m---> 38\u001b[0m \u001b[38;5;28;01mimport\u001b[39;00m \u001b[38;5;21;01m_tkinter\u001b[39;00m \u001b[38;5;66;03m# If this fails your Python may not be configured for Tk\u001b[39;00m\n\u001b[1;32m     39\u001b[0m TclError \u001b[38;5;241m=\u001b[39m _tkinter\u001b[38;5;241m.\u001b[39mTclError\n\u001b[1;32m     40\u001b[0m \u001b[38;5;28;01mfrom\u001b[39;00m \u001b[38;5;21;01mtkinter\u001b[39;00m\u001b[38;5;21;01m.\u001b[39;00m\u001b[38;5;21;01mconstants\u001b[39;00m \u001b[38;5;28;01mimport\u001b[39;00m \u001b[38;5;241m*\u001b[39m\n",
      "\u001b[0;31mModuleNotFoundError\u001b[0m: No module named '_tkinter'"
     ]
    }
   ],
   "source": [
    "from tkinter import *\n",
    "window = Tk()\n",
    "window.mainloop()"
   ]
  },
  {
   "cell_type": "code",
   "execution_count": null,
   "id": "1ebdf648-3ce0-4ebf-8a7a-ea43bbe55448",
   "metadata": {},
   "outputs": [],
   "source": [
    "from tkinter import *\n",
    "window = Tk()\n",
    "window.title(\"윈도 창 연습\")\n",
    "window.geometry(\"400x100\")\n",
    "window.resizable(width = FALSE, height = FALSE)\n",
    "window.mainloop()"
   ]
  },
  {
   "cell_type": "code",
   "execution_count": null,
   "id": "87936776-504e-4e45-9ec8-e7534533d52d",
   "metadata": {},
   "outputs": [],
   "source": [
    "from tkinter import *\n",
    "window = Tk()\n",
    "label1 = Label(window, text = \"COOKBOOK~~ Python을\")\n",
    "label2 = Label(window, text = \"열심히\", font = (\"궁서체\", 30), fg = \"blue\")\n",
    "label3 = Label(window, text = \"공부 중입니다.\", bg = \"magenta\", width = 20, height = 5, anchor = SE)\n",
    "label1.pack();\n",
    "label2.pack();\n",
    "label3.pack();\n",
    "window.mainloop()"
   ]
  },
  {
   "cell_type": "code",
   "execution_count": null,
   "id": "30433266-d843-4bd4-8c3e-e038b9559b63",
   "metadata": {},
   "outputs": [],
   "source": [
    "from tkinter import *\n",
    "window = Tk()\n",
    "photo = PhotoImage(file = \"gif/dog.gif\")\n",
    "label1 = Label(window, image = photo)\n",
    "label1.pack();\n",
    "window.mainloop()"
   ]
  },
  {
   "cell_type": "code",
   "execution_count": null,
   "id": "11803d9b-5eb8-4672-bc65-ee5fbc907167",
   "metadata": {},
   "outputs": [],
   "source": [
    "from tkinter import *\n",
    "from tkinter import messagebox\n",
    "def myFunc() :\n",
    "    messagebox.showinfo(\"강아지 버튼\", \"강아지가 귀엽죠? ^^\")\n",
    "window = Tk()\n",
    "photo = PhotoImage(file = \"gif/dog2.gif\")\n",
    "button1 = Button(window, image = photo, command = myFunc)\n",
    "button1.pack()\n",
    "window.mainloop()"
   ]
  },
  {
   "cell_type": "code",
   "execution_count": null,
   "id": "e0c814ff-7f79-41ce-9331-5b4f88067b9f",
   "metadata": {},
   "outputs": [],
   "source": [
    "from tkinter import *\n",
    "from tkinter import messagebox\n",
    "window = Tk()\n",
    "def  myFunc() :\n",
    "    if chk.get() == 0 :\n",
    "        messagebox.showinfo(\"\", \"체크버튼이 꺼졌어요.\")\n",
    "    else :\n",
    "        messagebox.showinfo(\"\", \"체크버튼이 켜졌어요.\")\n",
    "chk = IntVar()\n",
    "cb1 = Checkbutton(window, text = \"클릭하세요\", variable = chk, command = myFunc)\n",
    "cb1.pack()\n",
    "window.mainloop()"
   ]
  },
  {
   "cell_type": "code",
   "execution_count": null,
   "id": "ac75bba8-a6f8-4636-adb4-95c80dd055e2",
   "metadata": {},
   "outputs": [],
   "source": [
    "from tkinter import *\n",
    "window = Tk()\n",
    "button1 = Button(window, text = \"버튼1\")\n",
    "button2 = Button(window, text = \"버튼2\")\n",
    "button3 = Button(window, text = \"버튼3\")\n",
    "button1.pack(side = LEFT)\n",
    "button2.pack(side = LEFT)\n",
    "button3.pack(side = LEFT)\n",
    "window.mainloop()"
   ]
  },
  {
   "cell_type": "code",
   "execution_count": null,
   "id": "1d5f8030-c953-48bc-87db-c1dc75661cfd",
   "metadata": {},
   "outputs": [],
   "source": [
    "from tkinter import *\n",
    "window = Tk()\n",
    "btnList = [\"\"] * 3\n",
    "for i in range(0, 3) :\n",
    "    btnList[i] = Button(window, text = \"버튼\" + str(i + 1))\n",
    "for btn in btnList :\n",
    "    btn.pack(side = RIGHT)\n",
    "window.mainloop()"
   ]
  },
  {
   "cell_type": "code",
   "execution_count": null,
   "id": "b0e8ecd3-5b02-4468-b82b-b37dde91dc3f",
   "metadata": {},
   "outputs": [],
   "source": []
  },
  {
   "cell_type": "code",
   "execution_count": null,
   "id": "d92de256-ec32-4e5e-aaa9-1335aec655cb",
   "metadata": {},
   "outputs": [],
   "source": []
  },
  {
   "cell_type": "code",
   "execution_count": null,
   "id": "2a496abe-38a4-4fe5-8495-0ac977f1254b",
   "metadata": {},
   "outputs": [],
   "source": []
  },
  {
   "cell_type": "code",
   "execution_count": null,
   "id": "8f7c545b-057f-4af9-90b0-49682125a5dc",
   "metadata": {},
   "outputs": [],
   "source": []
  },
  {
   "cell_type": "code",
   "execution_count": null,
   "id": "23e35530-6187-4261-a4af-f7de978ea388",
   "metadata": {},
   "outputs": [],
   "source": []
  },
  {
   "cell_type": "code",
   "execution_count": null,
   "id": "7642fdc1-95a6-4d99-8e99-015297537f17",
   "metadata": {},
   "outputs": [],
   "source": []
  },
  {
   "cell_type": "code",
   "execution_count": null,
   "id": "5111d2d6-6ea8-42e8-a0f7-ae3286802005",
   "metadata": {},
   "outputs": [],
   "source": []
  }
 ],
 "metadata": {
  "kernelspec": {
   "display_name": "Python 3 (ipykernel)",
   "language": "python",
   "name": "python3"
  },
  "language_info": {
   "codemirror_mode": {
    "name": "ipython",
    "version": 3
   },
   "file_extension": ".py",
   "mimetype": "text/x-python",
   "name": "python",
   "nbconvert_exporter": "python",
   "pygments_lexer": "ipython3",
   "version": "3.11.2"
  }
 },
 "nbformat": 4,
 "nbformat_minor": 5
}

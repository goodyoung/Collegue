{
 "cells": [
  {
   "cell_type": "code",
   "execution_count": 2,
   "id": "ca4e076d-32d0-432c-afc6-2e9eafe3c7a9",
   "metadata": {
    "tags": []
   },
   "outputs": [
    {
     "name": "stdin",
     "output_type": "stream",
     "text": [
      "텍스트를 입력하세요.:  고건영영영영\n",
      "패턴을 입력하세요.:  영\n"
     ]
    },
    {
     "name": "stdout",
     "output_type": "stream",
     "text": [
      "3번째 문자에서 일치합니다.\n"
     ]
    }
   ],
   "source": [
    "def bf_match(txt: str, pat: str) -> int:\n",
    "    \"\"\"브루트 포스법으로 문자열 검색\"\"\"\n",
    "    pt = 0  # txt(텍스트)를 따라가는 커서\n",
    "    pp = 0  # pat(패턴)를 따라가는 커서\n",
    "\n",
    "    while pt != len(txt) and pp != len(pat):\n",
    "        if txt[pt] == pat[pp]:\n",
    "            pt += 1\n",
    "            pp += 1\n",
    "        else:\n",
    "            pt = pt - pp + 1\n",
    "            pp = 0\n",
    "\n",
    "    return pt - pp if pp == len(pat) else -1\n",
    "\n",
    "if __name__ == '__main__':\n",
    "    s1 = input('텍스트를 입력하세요.: ')  # 텍스트용 문자열\n",
    "    s2 = input('패턴을 입력하세요.: ')    # 패턴용 문자열\n",
    "\n",
    "    idx = bf_match(s1, s2)  # 문자열 s1~s2를 브루트 포스법으로 검색\n",
    "\n",
    "    if idx == -1:\n",
    "        print('텍스트 안에 패턴이 존재하지 않습니다.')\n",
    "    else:\n",
    "        print(f'{(idx + 1)}번째 문자에서 일치합니다.')"
   ]
  },
  {
   "cell_type": "code",
   "execution_count": null,
   "id": "3dec71b1-d606-48de-8e1e-9053c353381a",
   "metadata": {},
   "outputs": [],
   "source": []
  }
 ],
 "metadata": {
  "kernelspec": {
   "display_name": "Python 3 (ipykernel)",
   "language": "python",
   "name": "python3"
  },
  "language_info": {
   "codemirror_mode": {
    "name": "ipython",
    "version": 3
   },
   "file_extension": ".py",
   "mimetype": "text/x-python",
   "name": "python",
   "nbconvert_exporter": "python",
   "pygments_lexer": "ipython3",
   "version": "3.11.2"
  }
 },
 "nbformat": 4,
 "nbformat_minor": 5
}

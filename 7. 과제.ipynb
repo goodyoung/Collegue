{
 "cells": [
  {
   "cell_type": "code",
   "execution_count": 1,
   "id": "bc13868c-a528-416d-8486-658d8423b717",
   "metadata": {
    "tags": []
   },
   "outputs": [],
   "source": [
    "class  Car :\n",
    "    color = \"\"\n",
    "    speed = 0\n",
    "    def  upSpeed(self, value) :\n",
    "        self.speed += value\n",
    "    def  downSpeed(self, value) :\n",
    "        self.speed -= value"
   ]
  },
  {
   "cell_type": "code",
   "execution_count": 6,
   "id": "aff48f53-6bd5-4c64-8a85-c45ab97f0946",
   "metadata": {
    "tags": []
   },
   "outputs": [],
   "source": [
    "class  Car :\n",
    "    color = \"\"\n",
    "    speed = 0\n",
    "    def  upSpeed(self, value) :\n",
    "        self.speed += value\n",
    "    def  downSpeed(self, value) :\n",
    "        self.speed -= value"
   ]
  },
  {
   "cell_type": "code",
   "execution_count": 7,
   "id": "263a9566-f9a7-49bb-a719-44b3f647a0a0",
   "metadata": {
    "tags": []
   },
   "outputs": [
    {
     "name": "stdout",
     "output_type": "stream",
     "text": [
      "자동차1의 색상은 빨강이며, 현재 속도는 30km입니다.\n",
      "자동차2의 색상은 파랑이며, 현재 속도는 60km입니다.\n",
      "자동차3의 색상은 노랑이며, 현재 속도는 0km입니다.\n"
     ]
    }
   ],
   "source": [
    "myCar1 = Car()\n",
    "myCar1.color = \"빨강\"\n",
    "myCar1.speed = 0\n",
    "myCar2 = Car()\n",
    "myCar2.color = \"파랑\"\n",
    "myCar2.speed = 0\n",
    "myCar3 = Car()\n",
    "myCar3.color = \"노랑\"\n",
    "myCar3.speed = 0\n",
    "myCar1.upSpeed(30)\n",
    "print(\"자동차1의 색상은 %s이며, 현재 속도는 %dkm입니다.\" % (myCar1.color, myCar1.speed))\n",
    "myCar2.upSpeed(60)\n",
    "print(\"자동차2의 색상은 %s이며, 현재 속도는 %dkm입니다.\" % (myCar2.color, myCar2.speed))\n",
    "myCar3.upSpeed(0)\n",
    "print(\"자동차3의 색상은 %s이며, 현재 속도는 %dkm입니다.\" % (myCar3.color, myCar3.speed))"
   ]
  },
  {
   "cell_type": "code",
   "execution_count": 10,
   "id": "010821ca-e85d-43d4-9ccb-368aad4fc332",
   "metadata": {
    "tags": []
   },
   "outputs": [],
   "source": [
    "class  Car :\n",
    "    color = \"\"\n",
    "    speed = 0\n",
    "    def __init__(self) :\n",
    "        self.color = \"빨강\"\n",
    "        self.speed = 0\n",
    "    def  upSpeed(self, value) :\n",
    "        self.speed += value\n",
    "    def  downSpeed(self, value) :\n",
    "        self.speed -= value"
   ]
  },
  {
   "cell_type": "code",
   "execution_count": 11,
   "id": "2c2f3785-9587-4b51-ad14-6a7d3aef0807",
   "metadata": {
    "tags": []
   },
   "outputs": [
    {
     "name": "stdout",
     "output_type": "stream",
     "text": [
      "자동차1의 색상은 빨강이며, 현재 속도는 0km입니다.\n",
      "자동차2의 색상은 빨강이며, 현재 속도는 0km입니다.\n"
     ]
    }
   ],
   "source": [
    "myCar1 = Car()\n",
    "myCar2 = Car()\n",
    "print(\"자동차1의 색상은 %s이며, 현재 속도는 %dkm입니다.\" % (myCar1.color, myCar1.speed))\n",
    "print(\"자동차2의 색상은 %s이며, 현재 속도는 %dkm입니다.\" % (myCar2.color, myCar2.speed))"
   ]
  },
  {
   "cell_type": "code",
   "execution_count": 12,
   "id": "58b3ed7a-25aa-4e30-bc91-d0d377bb8309",
   "metadata": {
    "tags": []
   },
   "outputs": [],
   "source": [
    "class  Car :\n",
    "    color = \"\"\n",
    "    speed = 0\n",
    "    def __init__(self, value1, value2) :\n",
    "        self.color = value1\n",
    "        self.speed = value2\n",
    "    def  upSpeed(self, value) :\n",
    "        self.speed += value\n",
    "    def  downSpeed(self, value) :\n",
    "        self.speed -= value"
   ]
  },
  {
   "cell_type": "code",
   "execution_count": 13,
   "id": "5dbaf4da-02cc-422a-a45b-9240886acbea",
   "metadata": {
    "tags": []
   },
   "outputs": [
    {
     "name": "stdout",
     "output_type": "stream",
     "text": [
      "자동차1의 색상은 빨강이며, 현재 속도는 30km입니다.\n",
      "자동차2의 색상은 파랑이며, 현재 속도는 60km입니다.\n"
     ]
    }
   ],
   "source": [
    "myCar1 = Car(\"빨강\", 30)\n",
    "myCar2 = Car(\"파랑\", 60)\n",
    "print(\"자동차1의 색상은 %s이며, 현재 속도는 %dkm입니다.\" % (myCar1.color, myCar1.speed))\n",
    "print(\"자동차2의 색상은 %s이며, 현재 속도는 %dkm입니다.\" % (myCar2.color, myCar2.speed))"
   ]
  },
  {
   "cell_type": "code",
   "execution_count": 16,
   "id": "f07513dc-d2fb-43ad-8cba-6e05ec9cdea4",
   "metadata": {
    "tags": []
   },
   "outputs": [],
   "source": [
    "class  Car :\n",
    "    name = \"\"\n",
    "    speed = 0\n",
    "    def __init__(self, name, speed):\n",
    "        self.name = name\n",
    "        self.speed = speed\n",
    "    def  getName(self) :\n",
    "        return self.name\n",
    "    def getSpeed(self) :\n",
    "        return self.speed"
   ]
  },
  {
   "cell_type": "code",
   "execution_count": 17,
   "id": "3af0f7fd-bcdd-4ab3-9450-a63557f6dead",
   "metadata": {
    "tags": []
   },
   "outputs": [
    {
     "name": "stdout",
     "output_type": "stream",
     "text": [
      "아우디의 현재 속도는  0입니다.\n",
      "벤츠의 현재 속도는  30입니다.\n"
     ]
    }
   ],
   "source": [
    "car1, car2 = None, None\n",
    "car1 = Car(\"아우디\", 0)\n",
    "car2 = Car(\"벤츠\", 30)\n",
    "print(\"%s의 현재 속도는  %d입니다.\" % (car1.getName(), car1.getSpeed()))\n",
    "print(\"%s의 현재 속도는  %d입니다.\" % (car2.getName(), car2.getSpeed()))"
   ]
  },
  {
   "cell_type": "code",
   "execution_count": 18,
   "id": "7bceb1ae-ac85-4651-962e-0750a8367829",
   "metadata": {
    "tags": []
   },
   "outputs": [],
   "source": [
    "class  Car :\n",
    "    color = \"\"  \n",
    "    speed = 0   \n",
    "    count = 0   \n",
    "    def printMessage() :\n",
    "        print(\"시험 출력입니다.\")\n",
    "    def __init__(self):\n",
    "        self.speed = 0\n",
    "        Car.count += 1"
   ]
  },
  {
   "cell_type": "code",
   "execution_count": 19,
   "id": "52cc28c8-556e-4605-ae57-3a376db6baa1",
   "metadata": {
    "tags": []
   },
   "outputs": [
    {
     "name": "stdout",
     "output_type": "stream",
     "text": [
      "자동차1의 현재 속도는 30km, 생산된 자동차는 총 1대입니다.\n",
      "자동차2의 현재 속도는 60km, 생산된 자동차는 총 2대입니다.\n"
     ]
    }
   ],
   "source": [
    "myCar1, myCar2 = None, None\n",
    "myCar1 = Car()\n",
    "myCar1.speed = 30\n",
    "print(\"자동차1의 현재 속도는 %dkm, 생산된 자동차는 총 %d대입니다.\" %(myCar1.speed, Car.count))\n",
    "myCar2 = Car()\n",
    "myCar2.speed = 60\n",
    "print(\"자동차2의 현재 속도는 %dkm, 생산된 자동차는 총 %d대입니다.\" %(myCar2.speed, myCar2.count))"
   ]
  },
  {
   "cell_type": "code",
   "execution_count": 20,
   "id": "d04e0db4-509f-4a39-b3ce-fdf882ccf862",
   "metadata": {
    "tags": []
   },
   "outputs": [],
   "source": [
    "class  Car :\n",
    "    def method(self):\n",
    "        print(\"슈퍼 클래스 \", end=' ')\n",
    "class Sedan(Car) :\n",
    "    def method(self):\n",
    "        print(\"서브 클래스 \", end=' ')"
   ]
  },
  {
   "cell_type": "code",
   "execution_count": 21,
   "id": "ccf55a1e-f11d-45e5-bbad-18546646cceb",
   "metadata": {
    "tags": []
   },
   "outputs": [
    {
     "name": "stdout",
     "output_type": "stream",
     "text": [
      "슈퍼 클래스  서브 클래스  "
     ]
    }
   ],
   "source": [
    "myCar = Car()\n",
    "mySedan = Sedan()\n",
    "myCar.method()\n",
    "mySedan.method()"
   ]
  },
  {
   "cell_type": "code",
   "execution_count": null,
   "id": "ca247213-1567-44c0-a9a5-7a5b15da8850",
   "metadata": {},
   "outputs": [],
   "source": [
    "import turtle\n",
    "import random\n",
    "\n",
    "class Shape:  \n",
    "    myTurtle = None\n",
    "    cx, cy = 0, 0  \n",
    "\n",
    "    def __init__(self):\n",
    "        self.myTurtle = turtle.Turtle('turtle') \n",
    "   \n",
    "    def setPen(self) : \n",
    "        r = random.random()\n",
    "        g = random.random()\n",
    "        b = random.random()\n",
    "        self.myTurtle.pencolor((r, g, b))\n",
    "        pSize = random.randrange(1,10)\n",
    "        self.myTurtle.pensize(pSize)                \n",
    "\n",
    "    def drawShape(self): \n",
    "        pass\n",
    "\n",
    "class Rectangle(Shape): \n",
    "    width, height = [0] * 2\n",
    "    def __init__(self, x, y):\n",
    "        Shape.__init__(self)  \n",
    "        self.cx = x\n",
    "        self.cy = y\n",
    "        self.width = random.randrange(20, 100)\n",
    "        self.height = random.randrange(20, 100)\n",
    "    def drawShape(self) :\n",
    "        sx1, sy1, sx2, sy2 = [0] * 4\n",
    "        sx1 = self.cx - self.width/2\n",
    "        sy1 = self.cy - self.height /2\n",
    "        sx2 = self.cx + self.width/2\n",
    "        sy2 = self.cy + self.height /2\n",
    "        self.setPen() \n",
    "        self.myTurtle.penup()\n",
    "        self.myTurtle.goto(sx1, sy1)\n",
    "        self.myTurtle.pendown()\n",
    "        self.myTurtle.goto(sx1, sy2)\n",
    "        self.myTurtle.goto(sx2, sy2)\n",
    "        self.myTurtle.goto(sx2, sy1)\n",
    "        self.myTurtle.goto(sx1, sy1)\n",
    "def  screenLeftClick(x,y):\n",
    "    rect = Rectangle(x, y)\n",
    "    rect.drawShape()\n",
    "turtle.title('연습문제')\n",
    "turtle.onscreenclick(screenLeftClick,1)\n",
    "turtle.done()"
   ]
  },
  {
   "cell_type": "code",
   "execution_count": 23,
   "id": "32d1f5db-c145-41be-bfc2-4f840234e741",
   "metadata": {
    "tags": []
   },
   "outputs": [
    {
     "name": "stdout",
     "output_type": "stream",
     "text": [
      "100 길이의 선이 생성되었습니다.\n",
      "200 길이의 선이 생성되었습니다.\n",
      "선의 길이 : 100\n",
      "두 선의 길이 합 :  300\n",
      "선분 2가 더 기네요.\n",
      "100 길이의 선이 제거되었습니다.\n"
     ]
    }
   ],
   "source": [
    "class Line:\n",
    "    length = 0\n",
    "    def __init__(self, length) :\n",
    "        self.length = length\n",
    "        print(self.length, '길이의 선이 생성되었습니다.')\n",
    "    def __del__(self) :\n",
    "        print(self.length, '길이의 선이 제거되었습니다.')\n",
    "    def __repr__(self) :\n",
    "        return '선의 길이 : '+ str(self.length) \n",
    "    def __add__(self, other):\n",
    "        return self.length + other.length\n",
    "    def __lt__(self, other) :\n",
    "        return self.length < other.length\n",
    "    def __eq__(self, other) :\n",
    "        return self.length == other.length\n",
    "\n",
    "myLine1 = Line(100)\n",
    "myLine2 = Line(200)\n",
    "print(myLine1)\n",
    "print('두 선의 길이 합 : ', myLine1 + myLine2)\n",
    "if myLine1 < myLine2 :\n",
    "    print('선분 2가 더 기네요.')\n",
    "elif myLine1 == myLine2 :\n",
    "    print('두 선분이 같네요.')\n",
    "else :\n",
    "    print('모르겠네요.')\n",
    "\n",
    "del(myLine1)\n"
   ]
  },
  {
   "cell_type": "code",
   "execution_count": 25,
   "id": "d7bac3c4-f1d1-46f3-a9b3-bffb2baf8be9",
   "metadata": {
    "tags": []
   },
   "outputs": [
    {
     "name": "stdout",
     "output_type": "stream",
     "text": [
      "SubClass1에서 method()를 오버라이딩함\n"
     ]
    }
   ],
   "source": [
    "class SuperClass :\n",
    "    def  method(self) :\n",
    "        print('SubClass1에서 method()를 오버라이딩함')\n",
    "class SubClass (SuperClass) :\n",
    "    pass\n",
    "sub = SubClass()\n",
    "sub.method()"
   ]
  },
  {
   "cell_type": "code",
   "execution_count": 26,
   "id": "0f91aaa9-0190-4402-b3b0-f8f441dec964",
   "metadata": {
    "tags": []
   },
   "outputs": [
    {
     "name": "stdout",
     "output_type": "stream",
     "text": [
      "@자동차1~~ 달립니다.\n",
      "@자동차1~~ 달립니다.\n",
      "@자동차1~~ 달립니다.\n",
      "#자동차2~~ 달립니다.\n",
      "#자동차2~~ 달립니다.\n",
      "#자동차2~~ 달립니다.\n",
      "$자동차3~~ 달립니다.\n",
      "$자동차3~~ 달립니다.\n",
      "$자동차3~~ 달립니다.\n"
     ]
    }
   ],
   "source": [
    "import time\n",
    "\n",
    "class RacingCar :\n",
    "    carName = ''\n",
    "    def  __init__(self, name) :\n",
    "        self.carName = name\n",
    "    def runCar(self) :\n",
    "        for _ in range(0, 3) :\n",
    "            carStr = self.carName + '~~ 달립니다.\\n'\n",
    "            print(carStr, end = '')\n",
    "            time.sleep(0.1) \n",
    "car1 = RacingCar('@자동차1')\n",
    "car2 = RacingCar('#자동차2')\n",
    "car3 = RacingCar('$자동차3')\n",
    "car1.runCar()\n",
    "car2.runCar()\n",
    "car3.runCar()"
   ]
  },
  {
   "cell_type": "code",
   "execution_count": 27,
   "id": "0cc5748e-84f0-4b42-9bde-c2eb517d12ad",
   "metadata": {
    "tags": []
   },
   "outputs": [
    {
     "name": "stdout",
     "output_type": "stream",
     "text": [
      "@얼룩말\n",
      "#조랑말\n",
      "@얼룩말#조랑말\n",
      "\n",
      "#조랑말@얼룩말\n",
      "\n"
     ]
    }
   ],
   "source": [
    "import threading\n",
    "import time\n",
    "\n",
    "class RunningHorse :\n",
    "    horseName = ''\n",
    "    def  __init__(self, name) :\n",
    "        self.horseName = name\n",
    "    def runHorse(self) :\n",
    "        for _ in range(0, 3) :\n",
    "            print(self.horseName)\n",
    "            time.sleep(0.1)\n",
    "\n",
    "horse1 = RunningHorse('@얼룩말')\n",
    "horse2 = RunningHorse('#조랑말')\n",
    "thread1 = threading.Thread(target = horse1.runHorse)\n",
    "thread2 = threading.Thread(target = horse2.runHorse)\n",
    "thread1.start()\n",
    "thread2.start()"
   ]
  },
  {
   "cell_type": "code",
   "execution_count": 38,
   "id": "17609d55-43d8-488a-896d-e59e167a0b52",
   "metadata": {
    "collapsed": true,
    "jupyter": {
     "outputs_hidden": true
    },
    "tags": []
   },
   "outputs": [
    {
     "name": "stderr",
     "output_type": "stream",
     "text": [
      "Traceback (most recent call last):\n",
      "  File \"<string>\", line 1, in <module>\n",
      "  File \"/usr/local/Cellar/python@3.11/3.11.2_1/Frameworks/Python.framework/Versions/3.11/lib/python3.11/multiprocessing/spawn.py\", line 120, in spawn_main\n",
      "    exitcode = _main(fd, parent_sentinel)\n",
      "               ^^^^^^^^^^^^^^^^^^^^^^^^^^\n",
      "  File \"/usr/local/Cellar/python@3.11/3.11.2_1/Frameworks/Python.framework/Versions/3.11/lib/python3.11/multiprocessing/spawn.py\", line 130, in _main\n",
      "    self = reduction.pickle.load(from_parent)\n",
      "           ^^^^^^^^^^^^^^^^^^^^^^^^^^^^^^^^^^\n",
      "AttributeError: Can't get attribute 'RacingCar' on <module '__main__' (built-in)>\n"
     ]
    }
   ],
   "source": [
    "import multiprocessing\n",
    "import time\n",
    "\n",
    "## 클래스 정의 부분\n",
    "class RacingCar :\n",
    "    carName = ''\n",
    "    def  __init__(self, name) :\n",
    "        self.carName = name\n",
    "\n",
    "    def runCar(self) :\n",
    "        for _ in range(0, 3) :\n",
    "            carStr = self.carName + '~~ 달립니다.\\n'\n",
    "            print(carStr, end = '')\n",
    "            time.sleep(0.1) # 0.1초 멈춤\n",
    "\n",
    "## 메인 코드 부분\n",
    "if __name__ == \"__main__\" :\n",
    "\n",
    "    car1 = RacingCar('@자동차1')\n",
    "    car2 = RacingCar('#자동차2')\n",
    "    car3 = RacingCar('$자동차3')\n",
    "\n",
    "    mp1 = multiprocessing.Process(target=car1.runCar)\n",
    "\n",
    "    mp2 = multiprocessing.Process(target=car2.runCar)\n",
    "    mp3 = multiprocessing.Process(target=car3.runCar)\n",
    "    \n",
    "    mp1.start()"
   ]
  },
  {
   "cell_type": "code",
   "execution_count": null,
   "id": "e573fe94-d758-4699-92c6-45503f8c5347",
   "metadata": {},
   "outputs": [],
   "source": []
  },
  {
   "cell_type": "code",
   "execution_count": null,
   "id": "c201a8f0-ff19-4aa8-ae08-261240b8feed",
   "metadata": {},
   "outputs": [],
   "source": []
  },
  {
   "cell_type": "code",
   "execution_count": null,
   "id": "793e5fb8-57de-41a9-a1d1-8560fdcff93f",
   "metadata": {},
   "outputs": [],
   "source": []
  },
  {
   "cell_type": "code",
   "execution_count": null,
   "id": "5bb47c4c-02fc-4635-9f2a-b1e88ee94c2c",
   "metadata": {},
   "outputs": [],
   "source": []
  },
  {
   "cell_type": "code",
   "execution_count": null,
   "id": "056efe43-baf9-4f2c-962d-90464d50234f",
   "metadata": {},
   "outputs": [],
   "source": []
  },
  {
   "cell_type": "code",
   "execution_count": null,
   "id": "d9a32b71-d21e-46da-ad8e-6cda05fa3b9d",
   "metadata": {},
   "outputs": [],
   "source": []
  },
  {
   "cell_type": "code",
   "execution_count": null,
   "id": "e5eed2f6-19b0-4154-9108-f155bc4fefb5",
   "metadata": {},
   "outputs": [],
   "source": []
  },
  {
   "cell_type": "code",
   "execution_count": null,
   "id": "58091928-b84f-4a31-9627-dc592b3f5de2",
   "metadata": {},
   "outputs": [],
   "source": []
  }
 ],
 "metadata": {
  "kernelspec": {
   "display_name": "Python 3 (ipykernel)",
   "language": "python",
   "name": "python3"
  },
  "language_info": {
   "codemirror_mode": {
    "name": "ipython",
    "version": 3
   },
   "file_extension": ".py",
   "mimetype": "text/x-python",
   "name": "python",
   "nbconvert_exporter": "python",
   "pygments_lexer": "ipython3",
   "version": "3.11.2"
  }
 },
 "nbformat": 4,
 "nbformat_minor": 5
}

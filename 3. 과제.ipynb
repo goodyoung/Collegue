{
 "cells": [
  {
   "cell_type": "code",
   "execution_count": 1,
   "id": "e2064114-f633-41f5-a137-634ebf9a41c7",
   "metadata": {
    "tags": []
   },
   "outputs": [
    {
     "name": "stdout",
     "output_type": "stream",
     "text": [
      "거짓이므로 이 문장은 안보이겠죠?\n",
      "프로그램 끝\n"
     ]
    }
   ],
   "source": [
    "#1\n",
    "a = 200\n",
    "if a < 100 :\n",
    "    print(\"100보다 작군요\")\n",
    "print(\"거짓이므로 이 문장은 안보이겠죠?\")\n",
    "print(\"프로그램 끝\")"
   ]
  },
  {
   "cell_type": "code",
   "execution_count": 2,
   "id": "f892faf0-a966-4b8e-a94e-24e8da2ebc62",
   "metadata": {
    "tags": []
   },
   "outputs": [
    {
     "name": "stdout",
     "output_type": "stream",
     "text": [
      "프로그램 끝\n"
     ]
    }
   ],
   "source": [
    "#2\n",
    "a = 200\n",
    "if a < 100 :\n",
    "    print(\"100보다 작군요\")\n",
    "    print(\"거짓이므로 이 문장은 안보이겠죠?\")\n",
    "print(\"프로그램 끝\")"
   ]
  },
  {
   "cell_type": "code",
   "execution_count": 3,
   "id": "884fa19c-d273-4706-a9d7-4dc8578540c9",
   "metadata": {
    "tags": []
   },
   "outputs": [
    {
     "name": "stdout",
     "output_type": "stream",
     "text": [
      "100보다 크군요.\n"
     ]
    }
   ],
   "source": [
    "#3\n",
    "a = 200\n",
    "if a < 100 :\n",
    "    print(\"100보다 작군요.\")\n",
    "else :\n",
    "    print(\"100보다 크군요.\")"
   ]
  },
  {
   "cell_type": "code",
   "execution_count": 4,
   "id": "b8e005c5-af2d-44af-a6f2-4384449f94fe",
   "metadata": {
    "tags": []
   },
   "outputs": [
    {
     "name": "stdout",
     "output_type": "stream",
     "text": [
      "100보다 크군요.\n",
      "거짓이면 이 문장도 보이겠죠?\n",
      "프로그램 끝\n"
     ]
    }
   ],
   "source": [
    "#4\n",
    "a = 200\n",
    "if a < 100 :\n",
    "    print(\"100보다 작군요.\")\n",
    "    print(\"참이면 이 문장도 보이겠죠?\")\n",
    "else :\n",
    "    print(\"100보다 크군요.\")\n",
    "    print(\"거짓이면 이 문장도 보이겠죠?\")\n",
    "print(\"프로그램 끝\")"
   ]
  },
  {
   "cell_type": "code",
   "execution_count": 5,
   "id": "65bbbc80-c7ab-4148-b8c4-aabaab889f6d",
   "metadata": {
    "tags": []
   },
   "outputs": [
    {
     "name": "stdin",
     "output_type": "stream",
     "text": [
      "정수를 입력하세요 :  125\n"
     ]
    },
    {
     "name": "stdout",
     "output_type": "stream",
     "text": [
      "홀수를 입력했군요.\n"
     ]
    }
   ],
   "source": [
    "#5\n",
    "a = int(input(\"정수를 입력하세요 : \"))\n",
    "if a % 2 == 0 :\n",
    "    print(\"짝수를 입력했군요.\")\n",
    "else :\n",
    "    print(\"홀수를 입력했군요.\")"
   ]
  },
  {
   "cell_type": "code",
   "execution_count": 7,
   "id": "9e87a6d4-16d9-4184-802b-499d813a0099",
   "metadata": {
    "tags": []
   },
   "outputs": [
    {
     "name": "stdout",
     "output_type": "stream",
     "text": [
      "50보다 크고 100보다 작군요.\n"
     ]
    }
   ],
   "source": [
    "#6\n",
    "a = 75\n",
    "if a > 50 :\n",
    "    if a < 100 :\n",
    "        print(\"50보다 크고 100보다 작군요.\")\n",
    "    else :\n",
    "        print(\"와~~ 100보다 크군요.\")\n",
    "else :\n",
    "    print(\"에고~ 50보다 작군요.\")"
   ]
  },
  {
   "cell_type": "code",
   "execution_count": 8,
   "id": "2705bdcc-b043-44cd-8638-8dfc6e52ad1f",
   "metadata": {
    "tags": []
   },
   "outputs": [
    {
     "name": "stdin",
     "output_type": "stream",
     "text": [
      "점수를 입력하세요 :  90\n"
     ]
    },
    {
     "name": "stdout",
     "output_type": "stream",
     "text": [
      "A\n",
      "학점입니다. ^^\n"
     ]
    }
   ],
   "source": [
    "#7\n",
    "score = int(input(\"점수를 입력하세요 : \"))\n",
    "if score >= 90 :\n",
    "    print(\"A\")\n",
    "elif score >= 80 :\n",
    "    print(\"B\")\n",
    "elif score >= 70 :\n",
    "    print(\"C\")\n",
    "elif score >= 60 :\n",
    "    print(\"D\")\n",
    "else :\n",
    "    print(\"F\")\n",
    "print(\"학점입니다. ^^\")"
   ]
  },
  {
   "cell_type": "code",
   "execution_count": 9,
   "id": "ce5ac3d9-914d-43d6-abac-0f10038bab6e",
   "metadata": {
    "collapsed": true,
    "jupyter": {
     "outputs_hidden": true
    },
    "tags": []
   },
   "outputs": [
    {
     "ename": "ModuleNotFoundError",
     "evalue": "No module named '_tkinter'",
     "output_type": "error",
     "traceback": [
      "\u001b[0;31m---------------------------------------------------------------------------\u001b[0m",
      "\u001b[0;31mModuleNotFoundError\u001b[0m                       Traceback (most recent call last)",
      "Cell \u001b[0;32mIn[9], line 2\u001b[0m\n\u001b[1;32m      1\u001b[0m \u001b[38;5;66;03m#8\u001b[39;00m\n\u001b[0;32m----> 2\u001b[0m \u001b[38;5;28;01mimport\u001b[39;00m \u001b[38;5;21;01mturtle\u001b[39;00m\n\u001b[1;32m      3\u001b[0m swidth, sheight \u001b[38;5;241m=\u001b[39m \u001b[38;5;241m500\u001b[39m, \u001b[38;5;241m500\u001b[39m\n\u001b[1;32m      4\u001b[0m turtle\u001b[38;5;241m.\u001b[39mtitle(\u001b[38;5;124m'\u001b[39m\u001b[38;5;124m무지개색 원그리기\u001b[39m\u001b[38;5;124m'\u001b[39m)\n",
      "File \u001b[0;32m/usr/local/Cellar/python@3.11/3.11.2_1/Frameworks/Python.framework/Versions/3.11/lib/python3.11/turtle.py:107\u001b[0m\n\u001b[1;32m    103\u001b[0m _ver \u001b[38;5;241m=\u001b[39m \u001b[38;5;124m\"\u001b[39m\u001b[38;5;124mturtle 1.1b- - for Python 3.1   -  4. 5. 2009\u001b[39m\u001b[38;5;124m\"\u001b[39m\n\u001b[1;32m    105\u001b[0m \u001b[38;5;66;03m# print(_ver)\u001b[39;00m\n\u001b[0;32m--> 107\u001b[0m \u001b[38;5;28;01mimport\u001b[39;00m \u001b[38;5;21;01mtkinter\u001b[39;00m \u001b[38;5;28;01mas\u001b[39;00m \u001b[38;5;21;01mTK\u001b[39;00m\n\u001b[1;32m    108\u001b[0m \u001b[38;5;28;01mimport\u001b[39;00m \u001b[38;5;21;01mtypes\u001b[39;00m\n\u001b[1;32m    109\u001b[0m \u001b[38;5;28;01mimport\u001b[39;00m \u001b[38;5;21;01mmath\u001b[39;00m\n",
      "File \u001b[0;32m/usr/local/Cellar/python@3.11/3.11.2_1/Frameworks/Python.framework/Versions/3.11/lib/python3.11/tkinter/__init__.py:38\u001b[0m\n\u001b[1;32m     35\u001b[0m \u001b[38;5;28;01mimport\u001b[39;00m \u001b[38;5;21;01msys\u001b[39;00m\n\u001b[1;32m     36\u001b[0m \u001b[38;5;28;01mimport\u001b[39;00m \u001b[38;5;21;01mtypes\u001b[39;00m\n\u001b[0;32m---> 38\u001b[0m \u001b[38;5;28;01mimport\u001b[39;00m \u001b[38;5;21;01m_tkinter\u001b[39;00m \u001b[38;5;66;03m# If this fails your Python may not be configured for Tk\u001b[39;00m\n\u001b[1;32m     39\u001b[0m TclError \u001b[38;5;241m=\u001b[39m _tkinter\u001b[38;5;241m.\u001b[39mTclError\n\u001b[1;32m     40\u001b[0m \u001b[38;5;28;01mfrom\u001b[39;00m \u001b[38;5;21;01mtkinter\u001b[39;00m\u001b[38;5;21;01m.\u001b[39;00m\u001b[38;5;21;01mconstants\u001b[39;00m \u001b[38;5;28;01mimport\u001b[39;00m \u001b[38;5;241m*\u001b[39m\n",
      "\u001b[0;31mModuleNotFoundError\u001b[0m: No module named '_tkinter'"
     ]
    }
   ],
   "source": [
    "#8\n",
    "import turtle\n",
    "swidth, sheight = 500, 500\n",
    "turtle.title('무지개색 원그리기')\n",
    "turtle.shape('turtle')\n",
    "turtle.setup(width = swidth + 50, height = sheight + 50)\n",
    "turtle.screensize(swidth, sheight)\n",
    "turtle.penup()\n",
    "turtle.goto(0, -sheight / 2)\n",
    "turtle.pendown()\n",
    "turtle.speed(10)\n",
    "for radius in range(1, 250) :\n",
    "    if radius % 6 == 0 :\n",
    "        turtle.pencolor('red')\n",
    "    elif radius % 5 == 0 :\n",
    "        turtle.pencolor('orange')\n",
    "    elif radius % 4 == 0 :\n",
    "        turtle.pencolor('yellow')\n",
    "    elif radius % 3 == 0 :\n",
    "        turtle.pencolor('green')\n",
    "    elif radius % 2 == 0 :\n",
    "        turtle.pencolor('blue')\n",
    "    elif radius % 1 == 0 :\n",
    "        turtle.pencolor('navyblue')\n",
    "    else :\n",
    "        turtle.pencolor('purple')\n",
    "    turtle.circle(radius)\n",
    "turtle.done()"
   ]
  },
  {
   "cell_type": "code",
   "execution_count": 10,
   "id": "42a5970c-8f9d-45f7-8280-9febc4fd3f45",
   "metadata": {
    "tags": []
   },
   "outputs": [
    {
     "name": "stdout",
     "output_type": "stream",
     "text": [
      "생성된 리스트 [0, 9, 8, 7, 4, 5, 0, 7, 3, 0]\n",
      "숫자 1는(은) 리스트에 없네요.\n",
      "숫자 2는(은) 리스트에 없네요.\n",
      "숫자 6는(은) 리스트에 없네요.\n"
     ]
    }
   ],
   "source": [
    "#9\n",
    "import random\n",
    "numbers=[]\n",
    "for num in range(0, 10) :\n",
    "    numbers.append(random.randrange(0, 10))\n",
    "print(\"생성된 리스트\", numbers)\n",
    "for num in range(0, 10) :\n",
    "    if num not in numbers :\n",
    "        print(\"숫자 %d는(은) 리스트에 없네요.\" %num)\t"
   ]
  },
  {
   "cell_type": "code",
   "execution_count": 11,
   "id": "26d3542d-8345-4e68-ae6b-8319d2b08d90",
   "metadata": {
    "tags": []
   },
   "outputs": [
    {
     "name": "stdin",
     "output_type": "stream",
     "text": [
      "1. 입력한 수식 계산  2. 두 수 사이의 합계 :  1\n",
      " *** 수식을 입력하세요 :  3*4/2-5\n"
     ]
    },
    {
     "name": "stdout",
     "output_type": "stream",
     "text": [
      " 3*4/2-5 결과는   1.0입니다. \n"
     ]
    }
   ],
   "source": [
    "#10\n",
    "select, answer, numStr, num1, num2 = 0, 0, \"\", 0, 0\n",
    "select = int(input(\"1. 입력한 수식 계산  2. 두 수 사이의 합계 : \"))\n",
    "if  select == 1 :\n",
    "    numStr = input(\" *** 수식을 입력하세요 : \")\n",
    "    answer = eval(numStr)\n",
    "    print(\" %s 결과는 %5.1f입니다. \" %(numStr, answer))\n",
    "elif select == 2 :\n",
    "    num1 = int(input(\" *** 첫 번째 숫자를 입력하세요 : \"))\n",
    "    num2 = int(input(\" *** 두 번째 숫자를 입력하세요 : \"))\n",
    "    for i in range(num1, num2+1) :\n",
    "        answer = answer + i\n",
    "    print(\"%d+...+%d는 %d입니다. \" %(num1, num2, answer))\n",
    "else :\n",
    "    print(\"1 또는 2만 입력해야 합니다.\")"
   ]
  },
  {
   "cell_type": "code",
   "execution_count": 12,
   "id": "daa5d354-c7eb-41cf-be9e-bd7f9bde87f0",
   "metadata": {
    "tags": []
   },
   "outputs": [
    {
     "name": "stdout",
     "output_type": "stream",
     "text": [
      "안녕하세요? for 문을 공부 중입니다. ^^\n",
      "안녕하세요? for 문을 공부 중입니다. ^^\n",
      "안녕하세요? for 문을 공부 중입니다. ^^\n"
     ]
    }
   ],
   "source": [
    "#11\n",
    "print(\"안녕하세요? for 문을 공부 중입니다. ^^\")\n",
    "print(\"안녕하세요? for 문을 공부 중입니다. ^^\")\n",
    "print(\"안녕하세요? for 문을 공부 중입니다. ^^\")"
   ]
  },
  {
   "cell_type": "code",
   "execution_count": 13,
   "id": "00f1fe7f-d58a-462e-8e82-60a1f2b258ff",
   "metadata": {
    "tags": []
   },
   "outputs": [
    {
     "name": "stdout",
     "output_type": "stream",
     "text": [
      "안녕하세요? for 문을 공부 중입니다. ^^\n",
      "안녕하세요? for 문을 공부 중입니다. ^^\n",
      "안녕하세요? for 문을 공부 중입니다. ^^\n"
     ]
    }
   ],
   "source": [
    "#12\n",
    "for i in range(0, 3, 1) :\n",
    "     print(\"안녕하세요? for 문을 공부 중입니다. ^^\")"
   ]
  },
  {
   "cell_type": "code",
   "execution_count": 14,
   "id": "1a3c65e2-b00c-4224-a0c1-868b1dc48655",
   "metadata": {
    "tags": []
   },
   "outputs": [
    {
     "ename": "NameError",
     "evalue": "name 'hap' is not defined",
     "output_type": "error",
     "traceback": [
      "\u001b[0;31m---------------------------------------------------------------------------\u001b[0m",
      "\u001b[0;31mNameError\u001b[0m                                 Traceback (most recent call last)",
      "Cell \u001b[0;32mIn[14], line 4\u001b[0m\n\u001b[1;32m      2\u001b[0m i \u001b[38;5;241m=\u001b[39m \u001b[38;5;241m0\u001b[39m\n\u001b[1;32m      3\u001b[0m \u001b[38;5;28;01mfor\u001b[39;00m i \u001b[38;5;129;01min\u001b[39;00m \u001b[38;5;28mrange\u001b[39m(\u001b[38;5;241m1\u001b[39m, \u001b[38;5;241m11\u001b[39m, \u001b[38;5;241m1\u001b[39m) :\n\u001b[0;32m----> 4\u001b[0m      hap \u001b[38;5;241m=\u001b[39m \u001b[43mhap\u001b[49m \u001b[38;5;241m+\u001b[39m i\n\u001b[1;32m      5\u001b[0m \u001b[38;5;28mprint\u001b[39m(\u001b[38;5;124m\"\u001b[39m\u001b[38;5;124m1에서 10까지의 합계 : \u001b[39m\u001b[38;5;132;01m%d\u001b[39;00m\u001b[38;5;124m\"\u001b[39m \u001b[38;5;241m%\u001b[39m hap)\n",
      "\u001b[0;31mNameError\u001b[0m: name 'hap' is not defined"
     ]
    }
   ],
   "source": [
    "#13\n",
    "i = 0\n",
    "for i in range(1, 11, 1) :\n",
    "     hap = hap + i\n",
    "print(\"1에서 10까지의 합계 : %d\" % hap)"
   ]
  },
  {
   "cell_type": "code",
   "execution_count": 15,
   "id": "545d70af-5552-4b17-bd76-94c9de366b8e",
   "metadata": {
    "tags": []
   },
   "outputs": [
    {
     "name": "stdout",
     "output_type": "stream",
     "text": [
      "1에서 10까지의 합계 : 55\n"
     ]
    }
   ],
   "source": [
    "#14\n",
    "i, hap = 0, 0\n",
    "for i in range(1, 11, 1) :\n",
    "        hap = hap + i\n",
    "print(\"1에서 10까지의 합계 : %d\" % hap)"
   ]
  },
  {
   "cell_type": "code",
   "execution_count": null,
   "id": "b67723ab-6df4-49d7-a325-2106347c7ae1",
   "metadata": {},
   "outputs": [],
   "source": [
    "#15\n",
    "i, hap = 0, 0\n",
    "for i in range(501, 1001, 2) :\n",
    "     hap = hap + i\n",
    "print(\"500과 1000 사이에 있는 홀수의 합계 : %d\" % hap)"
   ]
  },
  {
   "cell_type": "code",
   "execution_count": 16,
   "id": "4a1ba265-f650-4e37-acd3-547b11277318",
   "metadata": {
    "tags": []
   },
   "outputs": [
    {
     "name": "stdout",
     "output_type": "stream",
     "text": [
      "0과 100 사이에 있는 7의 배수 합계: 735\n"
     ]
    }
   ],
   "source": [
    "#6-1 self study\n",
    "hap = 0\n",
    "for i in range(0,101, 7):\n",
    "    hap += i\n",
    "print(f'0과 100 사이에 있는 7의 배수 합계: {hap}')"
   ]
  },
  {
   "cell_type": "code",
   "execution_count": 17,
   "id": "320edb3c-d73e-4804-88bd-1b56db0885f0",
   "metadata": {
    "tags": []
   },
   "outputs": [
    {
     "name": "stdin",
     "output_type": "stream",
     "text": [
      "값을 입력하세요 :  100\n"
     ]
    },
    {
     "name": "stdout",
     "output_type": "stream",
     "text": [
      "1에서 100까지의 합계 : 5050\n"
     ]
    }
   ],
   "source": [
    "#16\n",
    "i, hap = 0, 0\n",
    "num = 0\n",
    "num = int(input(\"값을 입력하세요 : \"))\n",
    "for i in range(1, num+1, 1) :\n",
    "     hap = hap + i\n",
    "print(\"1에서 %d까지의 합계 : %d\" % (num, hap))"
   ]
  },
  {
   "cell_type": "code",
   "execution_count": 18,
   "id": "53f07a36-fb02-43b1-9f21-e990542a59ce",
   "metadata": {
    "tags": []
   },
   "outputs": [
    {
     "name": "stdin",
     "output_type": "stream",
     "text": [
      "시작값을 입력하세요 :  2\n",
      "끝값을 입력하세요 :  300\n",
      "증가값을 입력하세요 :  3\n"
     ]
    },
    {
     "name": "stdout",
     "output_type": "stream",
     "text": [
      "2에서 300까지 3씩 증가시킨 값의 합계 : 15050\n"
     ]
    }
   ],
   "source": [
    "#17\n",
    "i, hap = 0, 0\n",
    "num1, num2, num3 = 0, 0, 0\n",
    "num1 = int(input(\"시작값을 입력하세요 : \"))\n",
    "num2 = int(input(\"끝값을 입력하세요 : \"))\n",
    "num3 = int(input(\"증가값을 입력하세요 : \"))\n",
    "for i in range(num1, num2+1, num3) :\n",
    "     hap = hap + i\n",
    "print(\"%d에서 %d까지 %d씩 증가시킨 값의 합계 : %d\" % (num1, num2, num3, hap))"
   ]
  },
  {
   "cell_type": "code",
   "execution_count": 19,
   "id": "d40a8d8f-2259-4542-a1ba-6dec5b67d7ef",
   "metadata": {
    "tags": []
   },
   "outputs": [
    {
     "name": "stdin",
     "output_type": "stream",
     "text": [
      "단을 입력하세요 :  7\n"
     ]
    },
    {
     "name": "stdout",
     "output_type": "stream",
     "text": [
      "7  X  1  =   7\n",
      "7  X  2  =  14\n",
      "7  X  3  =  21\n",
      "7  X  4  =  28\n",
      "7  X  5  =  35\n",
      "7  X  6  =  42\n",
      "7  X  7  =  49\n",
      "7  X  8  =  56\n",
      "7  X  9  =  63\n"
     ]
    }
   ],
   "source": [
    "#18\n",
    "i, dan = 0, 0\n",
    "dan = int(input(\"단을 입력하세요 : \"))\n",
    "for i in range(1, 10, 1) :\n",
    "     print(\"%d  X  %d  =  %2d\" % (dan, i, dan * i))"
   ]
  },
  {
   "cell_type": "code",
   "execution_count": 20,
   "id": "d352d7c5-60f6-4c71-aabf-d870257d88e7",
   "metadata": {
    "tags": []
   },
   "outputs": [
    {
     "name": "stdin",
     "output_type": "stream",
     "text": [
      "단을 입력하세요:  7\n"
     ]
    },
    {
     "name": "stdout",
     "output_type": "stream",
     "text": [
      "9 X 7 = 63\n",
      "8 X 7 = 56\n",
      "7 X 7 = 49\n",
      "6 X 7 = 42\n",
      "5 X 7 = 35\n",
      "4 X 7 = 28\n",
      "3 X 7 = 21\n",
      "2 X 7 = 14\n",
      "1 X 7 =  7\n"
     ]
    }
   ],
   "source": [
    "#6-2 self study\n",
    "dan = int(input('단을 입력하세요: '))\n",
    "for i in range(9,0,-1):\n",
    "    print(f'{i} X {dan} = {i*dan:2}')"
   ]
  },
  {
   "cell_type": "code",
   "execution_count": 21,
   "id": "c6165094-25de-435f-81bb-72e14285b0ef",
   "metadata": {
    "collapsed": true,
    "jupyter": {
     "outputs_hidden": true
    },
    "tags": []
   },
   "outputs": [
    {
     "name": "stdout",
     "output_type": "stream",
     "text": [
      "2 X 1 =  2\n",
      "2 X 2 =  4\n",
      "2 X 3 =  6\n",
      "2 X 4 =  8\n",
      "2 X 5 = 10\n",
      "2 X 6 = 12\n",
      "2 X 7 = 14\n",
      "2 X 8 = 16\n",
      "2 X 9 = 18\n",
      "\n",
      "3 X 1 =  3\n",
      "3 X 2 =  6\n",
      "3 X 3 =  9\n",
      "3 X 4 = 12\n",
      "3 X 5 = 15\n",
      "3 X 6 = 18\n",
      "3 X 7 = 21\n",
      "3 X 8 = 24\n",
      "3 X 9 = 27\n",
      "\n",
      "4 X 1 =  4\n",
      "4 X 2 =  8\n",
      "4 X 3 = 12\n",
      "4 X 4 = 16\n",
      "4 X 5 = 20\n",
      "4 X 6 = 24\n",
      "4 X 7 = 28\n",
      "4 X 8 = 32\n",
      "4 X 9 = 36\n",
      "\n",
      "5 X 1 =  5\n",
      "5 X 2 = 10\n",
      "5 X 3 = 15\n",
      "5 X 4 = 20\n",
      "5 X 5 = 25\n",
      "5 X 6 = 30\n",
      "5 X 7 = 35\n",
      "5 X 8 = 40\n",
      "5 X 9 = 45\n",
      "\n",
      "6 X 1 =  6\n",
      "6 X 2 = 12\n",
      "6 X 3 = 18\n",
      "6 X 4 = 24\n",
      "6 X 5 = 30\n",
      "6 X 6 = 36\n",
      "6 X 7 = 42\n",
      "6 X 8 = 48\n",
      "6 X 9 = 54\n",
      "\n",
      "7 X 1 =  7\n",
      "7 X 2 = 14\n",
      "7 X 3 = 21\n",
      "7 X 4 = 28\n",
      "7 X 5 = 35\n",
      "7 X 6 = 42\n",
      "7 X 7 = 49\n",
      "7 X 8 = 56\n",
      "7 X 9 = 63\n",
      "\n",
      "8 X 1 =  8\n",
      "8 X 2 = 16\n",
      "8 X 3 = 24\n",
      "8 X 4 = 32\n",
      "8 X 5 = 40\n",
      "8 X 6 = 48\n",
      "8 X 7 = 56\n",
      "8 X 8 = 64\n",
      "8 X 9 = 72\n",
      "\n",
      "9 X 1 =  9\n",
      "9 X 2 = 18\n",
      "9 X 3 = 27\n",
      "9 X 4 = 36\n",
      "9 X 5 = 45\n",
      "9 X 6 = 54\n",
      "9 X 7 = 63\n",
      "9 X 8 = 72\n",
      "9 X 9 = 81\n",
      "\n"
     ]
    }
   ],
   "source": [
    "#19\n",
    "i, k = 0, 0\n",
    "for i in range(2, 10, 1) :\n",
    "    for k in range(1, 10, 1) :\n",
    "            \n",
    "        print(\"%d X %d = %2d\" %(i, k, i * k))\n",
    "    print(\"\")\t"
   ]
  },
  {
   "cell_type": "code",
   "execution_count": 22,
   "id": "01735b72-9d7b-423d-9ff1-3058e3305d7a",
   "metadata": {
    "collapsed": true,
    "jupyter": {
     "outputs_hidden": true
    },
    "tags": []
   },
   "outputs": [
    {
     "name": "stdout",
     "output_type": "stream",
     "text": [
      "### 2단 ###\n",
      "2 X 1 =  2\n",
      "2 X 2 =  4\n",
      "2 X 3 =  6\n",
      "2 X 4 =  8\n",
      "2 X 5 = 10\n",
      "2 X 6 = 12\n",
      "2 X 7 = 14\n",
      "2 X 8 = 16\n",
      "2 X 9 = 18\n",
      "### 3단 ###\n",
      "3 X 1 =  3\n",
      "3 X 2 =  6\n",
      "3 X 3 =  9\n",
      "3 X 4 = 12\n",
      "3 X 5 = 15\n",
      "3 X 6 = 18\n",
      "3 X 7 = 21\n",
      "3 X 8 = 24\n",
      "3 X 9 = 27\n",
      "### 4단 ###\n",
      "4 X 1 =  4\n",
      "4 X 2 =  8\n",
      "4 X 3 = 12\n",
      "4 X 4 = 16\n",
      "4 X 5 = 20\n",
      "4 X 6 = 24\n",
      "4 X 7 = 28\n",
      "4 X 8 = 32\n",
      "4 X 9 = 36\n",
      "### 5단 ###\n",
      "5 X 1 =  5\n",
      "5 X 2 = 10\n",
      "5 X 3 = 15\n",
      "5 X 4 = 20\n",
      "5 X 5 = 25\n",
      "5 X 6 = 30\n",
      "5 X 7 = 35\n",
      "5 X 8 = 40\n",
      "5 X 9 = 45\n",
      "### 6단 ###\n",
      "6 X 1 =  6\n",
      "6 X 2 = 12\n",
      "6 X 3 = 18\n",
      "6 X 4 = 24\n",
      "6 X 5 = 30\n",
      "6 X 6 = 36\n",
      "6 X 7 = 42\n",
      "6 X 8 = 48\n",
      "6 X 9 = 54\n",
      "### 7단 ###\n",
      "7 X 1 =  7\n",
      "7 X 2 = 14\n",
      "7 X 3 = 21\n",
      "7 X 4 = 28\n",
      "7 X 5 = 35\n",
      "7 X 6 = 42\n",
      "7 X 7 = 49\n",
      "7 X 8 = 56\n",
      "7 X 9 = 63\n",
      "### 8단 ###\n",
      "8 X 1 =  8\n",
      "8 X 2 = 16\n",
      "8 X 3 = 24\n",
      "8 X 4 = 32\n",
      "8 X 5 = 40\n",
      "8 X 6 = 48\n",
      "8 X 7 = 56\n",
      "8 X 8 = 64\n",
      "8 X 9 = 72\n",
      "### 9단 ###\n",
      "9 X 1 =  9\n",
      "9 X 2 = 18\n",
      "9 X 3 = 27\n",
      "9 X 4 = 36\n",
      "9 X 5 = 45\n",
      "9 X 6 = 54\n",
      "9 X 7 = 63\n",
      "9 X 8 = 72\n",
      "9 X 9 = 81\n"
     ]
    }
   ],
   "source": [
    "#6-3 self study\n",
    "for i in range(2,10):\n",
    "    print(f'### {i}단 ###')\n",
    "    for j in range(1,10):\n",
    "        print(f'{i} X {j} = {i*j:2}')"
   ]
  },
  {
   "cell_type": "code",
   "execution_count": 23,
   "id": "2286c8ce-c24d-460d-ac8d-17cd2830eef5",
   "metadata": {
    "tags": []
   },
   "outputs": [
    {
     "name": "stdout",
     "output_type": "stream",
     "text": [
      " #  2단  # #  3단  # #  4단  # #  5단  # #  6단  # #  7단  # #  8단  # #  9단  #\n",
      " 2X  1=  2 3X  1=  3 4X  1=  4 5X  1=  5 6X  1=  6 7X  1=  7 8X  1=  8 9X  1=  9\n",
      " 2X  2=  4 3X  2=  6 4X  2=  8 5X  2= 10 6X  2= 12 7X  2= 14 8X  2= 16 9X  2= 18\n",
      " 2X  3=  6 3X  3=  9 4X  3= 12 5X  3= 15 6X  3= 18 7X  3= 21 8X  3= 24 9X  3= 27\n",
      " 2X  4=  8 3X  4= 12 4X  4= 16 5X  4= 20 6X  4= 24 7X  4= 28 8X  4= 32 9X  4= 36\n",
      " 2X  5= 10 3X  5= 15 4X  5= 20 5X  5= 25 6X  5= 30 7X  5= 35 8X  5= 40 9X  5= 45\n",
      " 2X  6= 12 3X  6= 18 4X  6= 24 5X  6= 30 6X  6= 36 7X  6= 42 8X  6= 48 9X  6= 54\n",
      " 2X  7= 14 3X  7= 21 4X  7= 28 5X  7= 35 6X  7= 42 7X  7= 49 8X  7= 56 9X  7= 63\n",
      " 2X  8= 16 3X  8= 24 4X  8= 32 5X  8= 40 6X  8= 48 7X  8= 56 8X  8= 64 9X  8= 72\n",
      " 2X  9= 18 3X  9= 27 4X  9= 36 5X  9= 45 6X  9= 54 7X  9= 63 8X  9= 72 9X  9= 81\n"
     ]
    }
   ],
   "source": [
    "#20\n",
    "i, k, guguLine = 0, 0, \"\"\n",
    "\n",
    "for i in range(2, 10) :\n",
    "     guguLine = guguLine + (\" #  %d단  #\" % i)\n",
    "\n",
    "print(guguLine)\n",
    "\n",
    "for i in range(1, 10) :\n",
    "    guguLine = \"\"\n",
    "    for k in range(2, 10) :\n",
    "        guguLine = guguLine + str(\"%2dX %2d= %2d\" % (k, i, k*i))\n",
    "    print(guguLine)\n"
   ]
  },
  {
   "cell_type": "code",
   "execution_count": 24,
   "id": "0aa01288-8941-44a0-b38b-45e521ca3e99",
   "metadata": {
    "tags": []
   },
   "outputs": [
    {
     "name": "stdout",
     "output_type": "stream",
     "text": [
      "#   2단   # #   3단   # #   4단   # #   5단   # #   6단   # #   7단   # #   8단   # #   9단   # \n",
      "9 X 9 = 81 8 X 9 = 72 7 X 9 = 63 6 X 9 = 54 5 X 9 = 45 4 X 9 = 36 3 X 9 = 27 2 X 9 = 18 \n",
      "9 X 8 = 72 8 X 8 = 64 7 X 8 = 56 6 X 8 = 48 5 X 8 = 40 4 X 8 = 32 3 X 8 = 24 2 X 8 = 16 \n",
      "9 X 7 = 63 8 X 7 = 56 7 X 7 = 49 6 X 7 = 42 5 X 7 = 35 4 X 7 = 28 3 X 7 = 21 2 X 7 = 14 \n",
      "9 X 6 = 54 8 X 6 = 48 7 X 6 = 42 6 X 6 = 36 5 X 6 = 30 4 X 6 = 24 3 X 6 = 18 2 X 6 = 12 \n",
      "9 X 5 = 45 8 X 5 = 40 7 X 5 = 35 6 X 5 = 30 5 X 5 = 25 4 X 5 = 20 3 X 5 = 15 2 X 5 = 10 \n",
      "9 X 4 = 36 8 X 4 = 32 7 X 4 = 28 6 X 4 = 24 5 X 4 = 20 4 X 4 = 16 3 X 4 = 12 2 X 4 =  8 \n",
      "9 X 3 = 27 8 X 3 = 24 7 X 3 = 21 6 X 3 = 18 5 X 3 = 15 4 X 3 = 12 3 X 3 =  9 2 X 3 =  6 \n",
      "9 X 2 = 18 8 X 2 = 16 7 X 2 = 14 6 X 2 = 12 5 X 2 = 10 4 X 2 =  8 3 X 2 =  6 2 X 2 =  4 \n",
      "9 X 1 =  9 8 X 1 =  8 7 X 1 =  7 6 X 1 =  6 5 X 1 =  5 4 X 1 =  4 3 X 1 =  3 2 X 1 =  2 \n"
     ]
    }
   ],
   "source": [
    "#6-4 self study\n",
    "for i in range(2,10):\n",
    "    print(f'#   {i}단   # ', end = '')\n",
    "print()\n",
    "for i in range(9,0,-1):\n",
    "    for j in range(9,1,-1):\n",
    "        print(f'{j} X {i} = {i*j:2} ',end = '')\n",
    "    print()"
   ]
  },
  {
   "cell_type": "code",
   "execution_count": 27,
   "id": "363fee9a-e5a0-4214-b745-e9916ed439dc",
   "metadata": {
    "tags": []
   },
   "outputs": [
    {
     "name": "stdout",
     "output_type": "stream",
     "text": [
      "1에서 10까지의 합계 : 55\n"
     ]
    }
   ],
   "source": [
    "#21\n",
    "i, hap = 0, 0\n",
    "i = 1\n",
    "while i < 11 :\n",
    "    hap = hap + i\n",
    "    i = i + 1\n",
    "print(\"1에서 10까지의 합계 : %d\" % hap)"
   ]
  },
  {
   "cell_type": "code",
   "execution_count": 28,
   "id": "2bad1a22-570a-44f8-be93-4ed6ac341017",
   "metadata": {
    "collapsed": true,
    "jupyter": {
     "outputs_hidden": true
    },
    "tags": []
   },
   "outputs": [
    {
     "name": "stdin",
     "output_type": "stream",
     "text": [
      "더할 첫 번째 수를 입력하세요 :  22\n",
      "더할 두 번째 수를 입력하세요 :  55\n"
     ]
    },
    {
     "name": "stdout",
     "output_type": "stream",
     "text": [
      "22 + 55 = 77\n"
     ]
    },
    {
     "ename": "KeyboardInterrupt",
     "evalue": "Interrupted by user",
     "output_type": "error",
     "traceback": [
      "\u001b[0;31m---------------------------------------------------------------------------\u001b[0m",
      "\u001b[0;31mKeyboardInterrupt\u001b[0m                         Traceback (most recent call last)",
      "Cell \u001b[0;32mIn[28], line 6\u001b[0m\n\u001b[1;32m      3\u001b[0m a, b \u001b[38;5;241m=\u001b[39m \u001b[38;5;241m0\u001b[39m, \u001b[38;5;241m0\u001b[39m\n\u001b[1;32m      5\u001b[0m \u001b[38;5;28;01mwhile\u001b[39;00m \u001b[38;5;28;01mTrue\u001b[39;00m :\n\u001b[0;32m----> 6\u001b[0m     a \u001b[38;5;241m=\u001b[39m \u001b[38;5;28mint\u001b[39m(\u001b[38;5;28;43minput\u001b[39;49m\u001b[43m(\u001b[49m\u001b[38;5;124;43m\"\u001b[39;49m\u001b[38;5;124;43m더할 첫 번째 수를 입력하세요 : \u001b[39;49m\u001b[38;5;124;43m\"\u001b[39;49m\u001b[43m)\u001b[49m)\n\u001b[1;32m      7\u001b[0m     b \u001b[38;5;241m=\u001b[39m \u001b[38;5;28mint\u001b[39m(\u001b[38;5;28minput\u001b[39m(\u001b[38;5;124m\"\u001b[39m\u001b[38;5;124m더할 두 번째 수를 입력하세요 : \u001b[39m\u001b[38;5;124m\"\u001b[39m))\n\u001b[1;32m      8\u001b[0m     hap \u001b[38;5;241m=\u001b[39m a \u001b[38;5;241m+\u001b[39m b\n",
      "File \u001b[0;32m~/Desktop/대학교/gytest/lib/python3.11/site-packages/ipykernel/kernelbase.py:1191\u001b[0m, in \u001b[0;36mKernel.raw_input\u001b[0;34m(self, prompt)\u001b[0m\n\u001b[1;32m   1189\u001b[0m     msg \u001b[38;5;241m=\u001b[39m \u001b[38;5;124m\"\u001b[39m\u001b[38;5;124mraw_input was called, but this frontend does not support input requests.\u001b[39m\u001b[38;5;124m\"\u001b[39m\n\u001b[1;32m   1190\u001b[0m     \u001b[38;5;28;01mraise\u001b[39;00m StdinNotImplementedError(msg)\n\u001b[0;32m-> 1191\u001b[0m \u001b[38;5;28;01mreturn\u001b[39;00m \u001b[38;5;28;43mself\u001b[39;49m\u001b[38;5;241;43m.\u001b[39;49m\u001b[43m_input_request\u001b[49m\u001b[43m(\u001b[49m\n\u001b[1;32m   1192\u001b[0m \u001b[43m    \u001b[49m\u001b[38;5;28;43mstr\u001b[39;49m\u001b[43m(\u001b[49m\u001b[43mprompt\u001b[49m\u001b[43m)\u001b[49m\u001b[43m,\u001b[49m\n\u001b[1;32m   1193\u001b[0m \u001b[43m    \u001b[49m\u001b[38;5;28;43mself\u001b[39;49m\u001b[38;5;241;43m.\u001b[39;49m\u001b[43m_parent_ident\u001b[49m\u001b[43m[\u001b[49m\u001b[38;5;124;43m\"\u001b[39;49m\u001b[38;5;124;43mshell\u001b[39;49m\u001b[38;5;124;43m\"\u001b[39;49m\u001b[43m]\u001b[49m\u001b[43m,\u001b[49m\n\u001b[1;32m   1194\u001b[0m \u001b[43m    \u001b[49m\u001b[38;5;28;43mself\u001b[39;49m\u001b[38;5;241;43m.\u001b[39;49m\u001b[43mget_parent\u001b[49m\u001b[43m(\u001b[49m\u001b[38;5;124;43m\"\u001b[39;49m\u001b[38;5;124;43mshell\u001b[39;49m\u001b[38;5;124;43m\"\u001b[39;49m\u001b[43m)\u001b[49m\u001b[43m,\u001b[49m\n\u001b[1;32m   1195\u001b[0m \u001b[43m    \u001b[49m\u001b[43mpassword\u001b[49m\u001b[38;5;241;43m=\u001b[39;49m\u001b[38;5;28;43;01mFalse\u001b[39;49;00m\u001b[43m,\u001b[49m\n\u001b[1;32m   1196\u001b[0m \u001b[43m\u001b[49m\u001b[43m)\u001b[49m\n",
      "File \u001b[0;32m~/Desktop/대학교/gytest/lib/python3.11/site-packages/ipykernel/kernelbase.py:1234\u001b[0m, in \u001b[0;36mKernel._input_request\u001b[0;34m(self, prompt, ident, parent, password)\u001b[0m\n\u001b[1;32m   1231\u001b[0m \u001b[38;5;28;01mexcept\u001b[39;00m \u001b[38;5;167;01mKeyboardInterrupt\u001b[39;00m:\n\u001b[1;32m   1232\u001b[0m     \u001b[38;5;66;03m# re-raise KeyboardInterrupt, to truncate traceback\u001b[39;00m\n\u001b[1;32m   1233\u001b[0m     msg \u001b[38;5;241m=\u001b[39m \u001b[38;5;124m\"\u001b[39m\u001b[38;5;124mInterrupted by user\u001b[39m\u001b[38;5;124m\"\u001b[39m\n\u001b[0;32m-> 1234\u001b[0m     \u001b[38;5;28;01mraise\u001b[39;00m \u001b[38;5;167;01mKeyboardInterrupt\u001b[39;00m(msg) \u001b[38;5;28;01mfrom\u001b[39;00m \u001b[38;5;28mNone\u001b[39m\n\u001b[1;32m   1235\u001b[0m \u001b[38;5;28;01mexcept\u001b[39;00m \u001b[38;5;167;01mException\u001b[39;00m:\n\u001b[1;32m   1236\u001b[0m     \u001b[38;5;28mself\u001b[39m\u001b[38;5;241m.\u001b[39mlog\u001b[38;5;241m.\u001b[39mwarning(\u001b[38;5;124m\"\u001b[39m\u001b[38;5;124mInvalid Message:\u001b[39m\u001b[38;5;124m\"\u001b[39m, exc_info\u001b[38;5;241m=\u001b[39m\u001b[38;5;28;01mTrue\u001b[39;00m)\n",
      "\u001b[0;31mKeyboardInterrupt\u001b[0m: Interrupted by user"
     ]
    }
   ],
   "source": [
    "#22\n",
    "hap = 0\n",
    "a, b = 0, 0\n",
    "\n",
    "while True :\n",
    "    a = int(input(\"더할 첫 번째 수를 입력하세요 : \"))\n",
    "    b = int(input(\"더할 두 번째 수를 입력하세요 : \"))\n",
    "    hap = a + b\n",
    "    print(\"%d + %d = %d\" % (a, b, hap))"
   ]
  },
  {
   "cell_type": "code",
   "execution_count": 29,
   "id": "87729178-8c29-47a8-ad04-463b3b1629ee",
   "metadata": {
    "collapsed": true,
    "jupyter": {
     "outputs_hidden": true
    },
    "tags": []
   },
   "outputs": [
    {
     "name": "stdin",
     "output_type": "stream",
     "text": [
      "계산할 첫 번째 수를 입력하세요 :  22\n",
      "계산할 두 번째 수를 입력하세요 :  33\n",
      "계산할 연산자를 입력하세요 :  *\n"
     ]
    },
    {
     "name": "stdout",
     "output_type": "stream",
     "text": [
      "22 * 33 = 726\n"
     ]
    },
    {
     "ename": "KeyboardInterrupt",
     "evalue": "Interrupted by user",
     "output_type": "error",
     "traceback": [
      "\u001b[0;31m---------------------------------------------------------------------------\u001b[0m",
      "\u001b[0;31mKeyboardInterrupt\u001b[0m                         Traceback (most recent call last)",
      "Cell \u001b[0;32mIn[29], line 5\u001b[0m\n\u001b[1;32m      2\u001b[0m a, b \u001b[38;5;241m=\u001b[39m \u001b[38;5;241m0\u001b[39m, \u001b[38;5;241m0\u001b[39m\n\u001b[1;32m      4\u001b[0m \u001b[38;5;28;01mwhile\u001b[39;00m \u001b[38;5;28;01mTrue\u001b[39;00m :\n\u001b[0;32m----> 5\u001b[0m         a \u001b[38;5;241m=\u001b[39m \u001b[38;5;28mint\u001b[39m(\u001b[38;5;28;43minput\u001b[39;49m\u001b[43m(\u001b[49m\u001b[38;5;124;43m\"\u001b[39;49m\u001b[38;5;124;43m계산할 첫 번째 수를 입력하세요 : \u001b[39;49m\u001b[38;5;124;43m\"\u001b[39;49m\u001b[43m)\u001b[49m)\n\u001b[1;32m      6\u001b[0m         b \u001b[38;5;241m=\u001b[39m \u001b[38;5;28mint\u001b[39m(\u001b[38;5;28minput\u001b[39m(\u001b[38;5;124m\"\u001b[39m\u001b[38;5;124m계산할 두 번째 수를 입력하세요 : \u001b[39m\u001b[38;5;124m\"\u001b[39m))\n\u001b[1;32m      7\u001b[0m         ch \u001b[38;5;241m=\u001b[39m \u001b[38;5;28minput\u001b[39m(\u001b[38;5;124m\"\u001b[39m\u001b[38;5;124m계산할 연산자를 입력하세요 : \u001b[39m\u001b[38;5;124m\"\u001b[39m)\n",
      "File \u001b[0;32m~/Desktop/대학교/gytest/lib/python3.11/site-packages/ipykernel/kernelbase.py:1191\u001b[0m, in \u001b[0;36mKernel.raw_input\u001b[0;34m(self, prompt)\u001b[0m\n\u001b[1;32m   1189\u001b[0m     msg \u001b[38;5;241m=\u001b[39m \u001b[38;5;124m\"\u001b[39m\u001b[38;5;124mraw_input was called, but this frontend does not support input requests.\u001b[39m\u001b[38;5;124m\"\u001b[39m\n\u001b[1;32m   1190\u001b[0m     \u001b[38;5;28;01mraise\u001b[39;00m StdinNotImplementedError(msg)\n\u001b[0;32m-> 1191\u001b[0m \u001b[38;5;28;01mreturn\u001b[39;00m \u001b[38;5;28;43mself\u001b[39;49m\u001b[38;5;241;43m.\u001b[39;49m\u001b[43m_input_request\u001b[49m\u001b[43m(\u001b[49m\n\u001b[1;32m   1192\u001b[0m \u001b[43m    \u001b[49m\u001b[38;5;28;43mstr\u001b[39;49m\u001b[43m(\u001b[49m\u001b[43mprompt\u001b[49m\u001b[43m)\u001b[49m\u001b[43m,\u001b[49m\n\u001b[1;32m   1193\u001b[0m \u001b[43m    \u001b[49m\u001b[38;5;28;43mself\u001b[39;49m\u001b[38;5;241;43m.\u001b[39;49m\u001b[43m_parent_ident\u001b[49m\u001b[43m[\u001b[49m\u001b[38;5;124;43m\"\u001b[39;49m\u001b[38;5;124;43mshell\u001b[39;49m\u001b[38;5;124;43m\"\u001b[39;49m\u001b[43m]\u001b[49m\u001b[43m,\u001b[49m\n\u001b[1;32m   1194\u001b[0m \u001b[43m    \u001b[49m\u001b[38;5;28;43mself\u001b[39;49m\u001b[38;5;241;43m.\u001b[39;49m\u001b[43mget_parent\u001b[49m\u001b[43m(\u001b[49m\u001b[38;5;124;43m\"\u001b[39;49m\u001b[38;5;124;43mshell\u001b[39;49m\u001b[38;5;124;43m\"\u001b[39;49m\u001b[43m)\u001b[49m\u001b[43m,\u001b[49m\n\u001b[1;32m   1195\u001b[0m \u001b[43m    \u001b[49m\u001b[43mpassword\u001b[49m\u001b[38;5;241;43m=\u001b[39;49m\u001b[38;5;28;43;01mFalse\u001b[39;49;00m\u001b[43m,\u001b[49m\n\u001b[1;32m   1196\u001b[0m \u001b[43m\u001b[49m\u001b[43m)\u001b[49m\n",
      "File \u001b[0;32m~/Desktop/대학교/gytest/lib/python3.11/site-packages/ipykernel/kernelbase.py:1234\u001b[0m, in \u001b[0;36mKernel._input_request\u001b[0;34m(self, prompt, ident, parent, password)\u001b[0m\n\u001b[1;32m   1231\u001b[0m \u001b[38;5;28;01mexcept\u001b[39;00m \u001b[38;5;167;01mKeyboardInterrupt\u001b[39;00m:\n\u001b[1;32m   1232\u001b[0m     \u001b[38;5;66;03m# re-raise KeyboardInterrupt, to truncate traceback\u001b[39;00m\n\u001b[1;32m   1233\u001b[0m     msg \u001b[38;5;241m=\u001b[39m \u001b[38;5;124m\"\u001b[39m\u001b[38;5;124mInterrupted by user\u001b[39m\u001b[38;5;124m\"\u001b[39m\n\u001b[0;32m-> 1234\u001b[0m     \u001b[38;5;28;01mraise\u001b[39;00m \u001b[38;5;167;01mKeyboardInterrupt\u001b[39;00m(msg) \u001b[38;5;28;01mfrom\u001b[39;00m \u001b[38;5;28mNone\u001b[39m\n\u001b[1;32m   1235\u001b[0m \u001b[38;5;28;01mexcept\u001b[39;00m \u001b[38;5;167;01mException\u001b[39;00m:\n\u001b[1;32m   1236\u001b[0m     \u001b[38;5;28mself\u001b[39m\u001b[38;5;241m.\u001b[39mlog\u001b[38;5;241m.\u001b[39mwarning(\u001b[38;5;124m\"\u001b[39m\u001b[38;5;124mInvalid Message:\u001b[39m\u001b[38;5;124m\"\u001b[39m, exc_info\u001b[38;5;241m=\u001b[39m\u001b[38;5;28;01mTrue\u001b[39;00m)\n",
      "\u001b[0;31mKeyboardInterrupt\u001b[0m: Interrupted by user"
     ]
    }
   ],
   "source": [
    "#23\n",
    "ch = \"\"\n",
    "a, b = 0, 0\n",
    "\n",
    "while True :\n",
    "        a = int(input(\"계산할 첫 번째 수를 입력하세요 : \"))\n",
    "        b = int(input(\"계산할 두 번째 수를 입력하세요 : \"))\n",
    "        ch = input(\"계산할 연산자를 입력하세요 : \")\n",
    "\n",
    "        if (ch == \"+\") :\n",
    "                print(\"%d + %d = %d\" % (a, b, a + b))\n",
    "        elif (ch == \"-\") :\n",
    "                print(\"%d - %d = %d\" % (a, b, a - b))\n",
    "        elif (ch == \"*\") :\n",
    "                print(\"%d * %d = %d\" % (a, b, a * b))\n",
    "        elif (ch == \"/\") :\n",
    "                print(\"%d / %d = %5.2f\" % (a, b, a / b))\n",
    "        elif (ch == \"%\") :\n",
    "                print(\"%d %% %d = %d\" % (a, b, a % b))\n",
    "        elif (ch == \"//\") :\n",
    "                print(\"%d // %d = %d\" % (a, b, a // b))\n",
    "        elif (ch == \"**\") :\n",
    "                print(\"%d ** %d = %d\" % (a, b, a ** b))\n",
    "        else :\n",
    "                print(\"연산자를 잘못 입력했습니다\")\n"
   ]
  },
  {
   "cell_type": "code",
   "execution_count": 30,
   "id": "30ae1cd2-ca24-467b-b514-ea3b429bbcb9",
   "metadata": {
    "tags": []
   },
   "outputs": [
    {
     "name": "stdin",
     "output_type": "stream",
     "text": [
      "더할 첫 번째 수를 입력하세요 :  55\n",
      "더할 두 번째 수를 입력하세요 :  22\n"
     ]
    },
    {
     "name": "stdout",
     "output_type": "stream",
     "text": [
      "55 + 22 = 77\n"
     ]
    },
    {
     "name": "stdin",
     "output_type": "stream",
     "text": [
      "더할 첫 번째 수를 입력하세요 :  0\n"
     ]
    },
    {
     "name": "stdout",
     "output_type": "stream",
     "text": [
      "0을 입력해 반복문을 탈출했습니다\n"
     ]
    }
   ],
   "source": [
    "#24\n",
    "hap = 0\n",
    "a, b = 0, 0\n",
    "while True :\n",
    "    a = int(input(\"더할 첫 번째 수를 입력하세요 : \"))\n",
    "    if a == 0 :\n",
    "         break\n",
    "    b = int(input(\"더할 두 번째 수를 입력하세요 : \"))\n",
    "    hap = a + b\n",
    "    print(\"%d + %d = %d\" % (a, b, hap))\n",
    "print(\"0을 입력해 반복문을 탈출했습니다\")"
   ]
  },
  {
   "cell_type": "code",
   "execution_count": 32,
   "id": "471b8437-08ee-4a4a-9537-3ca02c221bb1",
   "metadata": {
    "tags": []
   },
   "outputs": [
    {
     "name": "stdout",
     "output_type": "stream",
     "text": [
      "1~100의 합계를 최초로 1000이 넘게 하는 숫자 : 45\n"
     ]
    }
   ],
   "source": [
    "#25\n",
    "hap, i = 0,0\n",
    "for i in range(1,101) :\n",
    "    hap += i\n",
    "    if hap >= 1000 :\n",
    "         break\n",
    "print(\"1~100의 합계를 최초로 1000이 넘게 하는 숫자 : %d\" % i)"
   ]
  },
  {
   "cell_type": "code",
   "execution_count": 33,
   "id": "cbea8579-a71a-4092-8850-32b90efb9508",
   "metadata": {
    "tags": []
   },
   "outputs": [
    {
     "name": "stdout",
     "output_type": "stream",
     "text": [
      "1~100의 합계(3의 배수 제외) : 3367\n"
     ]
    }
   ],
   "source": [
    "#26\n",
    "hap, i = 0,0\n",
    "\n",
    "for i in range(1, 101) :\n",
    "    if i % 3 == 0 :\n",
    "        continue\n",
    "    hap += i\n",
    "print(\"1~100의 합계(3의 배수 제외) : %d\" % hap)"
   ]
  },
  {
   "cell_type": "code",
   "execution_count": 34,
   "id": "ff8cc21a-cb18-4e1d-a4c1-a840029080c4",
   "metadata": {
    "tags": []
   },
   "outputs": [
    {
     "name": "stdout",
     "output_type": "stream",
     "text": [
      "        ★\n",
      "      ★★★\n",
      "    ★★★★★\n",
      "  ★★★★★★★\n",
      "★★★★★★★★★\n",
      "  ★★★★★★★\n",
      "    ★★★★★\n",
      "      ★★★\n",
      "        ★\n"
     ]
    }
   ],
   "source": [
    "#27\n",
    "i, k = 0, 0\n",
    "i = 0\n",
    "while i < 9 :\n",
    "    if i<5 :\n",
    "        k = 0\n",
    "        while k < 4-i :\n",
    "            print('  ', end = '')\n",
    "            k += 1\n",
    "        k = 0\n",
    "        while k < i*2+1 :\n",
    "            print('\\u2605',  end = '')\n",
    "            k += 1\n",
    "    else :\n",
    "        k = 0\n",
    "        while k < i-4 :\n",
    "            print('  ', end = '')\n",
    "            k += 1\n",
    "        k = 0\n",
    "        while k < (9-i)*2-1 :\n",
    "            print('\\u2605',  end = '')\n",
    "            k += 1\n",
    "    print()\n",
    "    i += 1"
   ]
  },
  {
   "cell_type": "code",
   "execution_count": 37,
   "id": "13000514-210a-44fd-8efd-854c6dda6e93",
   "metadata": {
    "tags": []
   },
   "outputs": [
    {
     "name": "stdout",
     "output_type": "stream",
     "text": [
      "학생 그룹 점수의 합계와 평균을 구합니다.\n"
     ]
    },
    {
     "name": "stdin",
     "output_type": "stream",
     "text": [
      "1번 학생의 점수를 입력하세요.:  32\n",
      "2번 학생의 점수를 입력하세요.:  68\n",
      "3번 학생의 점수를 입력하세요.:  72\n",
      "4번 학생의 점수를 입력하세요.:  54\n",
      "5번 학생의 점수를 입력하세요.:  92\n"
     ]
    },
    {
     "name": "stdout",
     "output_type": "stream",
     "text": [
      "합계는 318점입니다.\n",
      "평균은 63.6점입니다.\n"
     ]
    }
   ],
   "source": [
    "#28\n",
    "print('학생 그룹 점수의 합계와 평균을 구합니다.')\n",
    "score1 = int(input('1번 학생의 점수를 입력하세요.: '))\n",
    "score2 = int(input('2번 학생의 점수를 입력하세요.: '))\n",
    "score3 = int(input('3번 학생의 점수를 입력하세요.: '))\n",
    "score4 = int(input('4번 학생의 점수를 입력하세요.: '))\n",
    "score5 = int(input('5번 학생의 점수를 입력하세요.: '))\n",
    "total = 0\n",
    "total += score1\n",
    "total += score2\n",
    "total += score3\n",
    "total += score4\n",
    "total += score5\n",
    "print(f'합계는 {total}점입니다.')\n",
    "print(f'평균은 {total / 5}점입니다.')"
   ]
  },
  {
   "cell_type": "code",
   "execution_count": 38,
   "id": "c3e50a52-dc7a-4775-a865-8a0d5cfb8eca",
   "metadata": {
    "tags": []
   },
   "outputs": [
    {
     "name": "stdout",
     "output_type": "stream",
     "text": [
      "배열의 최댓값을 구합니다.\n"
     ]
    },
    {
     "name": "stdin",
     "output_type": "stream",
     "text": [
      "원소 수를 입력하세요 :  5\n",
      "x[0]를 입력하세요.:  172\n",
      "x[1]를 입력하세요.:  192\n",
      "x[2]를 입력하세요.:  140\n",
      "x[3]를 입력하세요.:  165\n",
      "x[4]를 입력하세요.:  153\n"
     ]
    },
    {
     "name": "stdout",
     "output_type": "stream",
     "text": [
      "최댓값은 192입니다.\n"
     ]
    }
   ],
   "source": [
    "#29\\\n",
    "from typing import Any, Sequence\n",
    "def max_of(a: Sequence) -> Any:\n",
    "    maximum = a[0]\n",
    "    for i in range(1, len(a)):\n",
    "         if a[i] > maximum: \n",
    "            maximum = a[i]\n",
    "    return maximum\n",
    "if __name__ == '__main__':\n",
    "    print('배열의 최댓값을 구합니다.')\n",
    "    num = int(input('원소 수를 입력하세요 : '))\n",
    "    x = [None] * num    \n",
    "    for i in range(num):\n",
    "        x[i] = int(input(f'x[{i}]를 입력하세요.: '))\n",
    "    print(f'최댓값은 {max_of(x)}입니다.')"
   ]
  },
  {
   "cell_type": "code",
   "execution_count": null,
   "id": "871377fd-88c0-4a40-bdf3-fb31d79b88c6",
   "metadata": {},
   "outputs": [],
   "source": []
  },
  {
   "cell_type": "code",
   "execution_count": null,
   "id": "008fe721-f4d2-4b07-aeaf-9e4e60997417",
   "metadata": {},
   "outputs": [],
   "source": []
  },
  {
   "cell_type": "code",
   "execution_count": 4,
   "id": "e88b8fde-6975-4a85-ae49-8a026706bf33",
   "metadata": {
    "collapsed": true,
    "jupyter": {
     "outputs_hidden": true
    },
    "tags": []
   },
   "outputs": [
    {
     "name": "stdout",
     "output_type": "stream",
     "text": [
      "Collecting pyramid_beaker\n",
      "  Using cached pyramid_beaker-0.8.tar.gz (21 kB)\n",
      "  Preparing metadata (setup.py) ... \u001b[?25ldone\n",
      "\u001b[?25hRequirement already satisfied: pyramid in /Users/goodyoung/Desktop/대학교/gytest/lib/python3.11/site-packages (from pyramid_beaker) (2.0.1)\n",
      "Requirement already satisfied: beaker in /Users/goodyoung/Desktop/대학교/gytest/lib/python3.11/site-packages (from pyramid_beaker) (1.12.1)\n",
      "Requirement already satisfied: hupper>=1.5 in /Users/goodyoung/Desktop/대학교/gytest/lib/python3.11/site-packages (from pyramid->pyramid_beaker) (1.11)\n",
      "Requirement already satisfied: plaster in /Users/goodyoung/Desktop/대학교/gytest/lib/python3.11/site-packages (from pyramid->pyramid_beaker) (1.1.2)\n",
      "Requirement already satisfied: plaster-pastedeploy in /Users/goodyoung/Desktop/대학교/gytest/lib/python3.11/site-packages (from pyramid->pyramid_beaker) (1.0.1)\n",
      "Requirement already satisfied: setuptools in /Users/goodyoung/Desktop/대학교/gytest/lib/python3.11/site-packages (from pyramid->pyramid_beaker) (65.6.3)\n",
      "Requirement already satisfied: translationstring>=0.4 in /Users/goodyoung/Desktop/대학교/gytest/lib/python3.11/site-packages (from pyramid->pyramid_beaker) (1.4)\n",
      "Requirement already satisfied: venusian>=1.0 in /Users/goodyoung/Desktop/대학교/gytest/lib/python3.11/site-packages (from pyramid->pyramid_beaker) (3.0.0)\n",
      "Requirement already satisfied: webob>=1.8.3 in /Users/goodyoung/Desktop/대학교/gytest/lib/python3.11/site-packages (from pyramid->pyramid_beaker) (1.8.7)\n",
      "Requirement already satisfied: zope.deprecation>=3.5.0 in /Users/goodyoung/Desktop/대학교/gytest/lib/python3.11/site-packages (from pyramid->pyramid_beaker) (4.4.0)\n",
      "Requirement already satisfied: zope.interface>=3.8.0 in /Users/goodyoung/Desktop/대학교/gytest/lib/python3.11/site-packages (from pyramid->pyramid_beaker) (6.0)\n",
      "Requirement already satisfied: PasteDeploy>=2.0 in /Users/goodyoung/Desktop/대학교/gytest/lib/python3.11/site-packages (from plaster-pastedeploy->pyramid->pyramid_beaker) (3.0.1)\n",
      "Installing collected packages: pyramid_beaker\n",
      "\u001b[33m  DEPRECATION: pyramid_beaker is being installed using the legacy 'setup.py install' method, because it does not have a 'pyproject.toml' and the 'wheel' package is not installed. pip 23.1 will enforce this behaviour change. A possible replacement is to enable the '--use-pep517' option. Discussion can be found at https://github.com/pypa/pip/issues/8559\u001b[0m\u001b[33m\n",
      "\u001b[0m  Running setup.py install for pyramid_beaker ... \u001b[?25ldone\n",
      "\u001b[?25hSuccessfully installed pyramid_beaker-0.8\n"
     ]
    }
   ],
   "source": [
    "!pip3 install pyramid_beaker"
   ]
  },
  {
   "cell_type": "code",
   "execution_count": 2,
   "id": "9a84cf92-0490-49d8-bbff-5368021e7ea3",
   "metadata": {
    "collapsed": true,
    "jupyter": {
     "outputs_hidden": true
    },
    "tags": []
   },
   "outputs": [
    {
     "name": "stdout",
     "output_type": "stream",
     "text": [
      "Collecting max\n",
      "  Using cached max-4.0.26.zip (2.1 MB)\n",
      "  Preparing metadata (setup.py) ... \u001b[?25ldone\n",
      "\u001b[?25hRequirement already satisfied: setuptools in /Users/goodyoung/Desktop/대학교/gytest/lib/python3.11/site-packages (from max) (65.6.3)\n",
      "Requirement already satisfied: pyramid in /Users/goodyoung/Desktop/대학교/gytest/lib/python3.11/site-packages (from max) (2.0.1)\n",
      "Requirement already satisfied: pyramid_tm in /Users/goodyoung/Desktop/대학교/gytest/lib/python3.11/site-packages (from max) (2.5)\n",
      "Requirement already satisfied: pyramid_debugtoolbar in /Users/goodyoung/Desktop/대학교/gytest/lib/python3.11/site-packages (from max) (4.10)\n",
      "Collecting pyramid_beaker\n",
      "  Using cached pyramid_beaker-0.8.tar.gz (21 kB)\n",
      "  Preparing metadata (setup.py) ... \u001b[?25ldone\n",
      "\u001b[?25hRequirement already satisfied: pymongo in /Users/goodyoung/Desktop/대학교/gytest/lib/python3.11/site-packages (from max) (4.3.3)\n",
      "Requirement already satisfied: rfc3339 in /Users/goodyoung/Desktop/대학교/gytest/lib/python3.11/site-packages (from max) (6.2)\n",
      "Requirement already satisfied: requests in /Users/goodyoung/Desktop/대학교/gytest/lib/python3.11/site-packages (from max) (2.28.2)\n",
      "Requirement already satisfied: tweepy in /Users/goodyoung/Desktop/대학교/gytest/lib/python3.11/site-packages (from max) (4.13.0)\n",
      "Requirement already satisfied: waitress in /Users/goodyoung/Desktop/대학교/gytest/lib/python3.11/site-packages (from max) (2.1.2)\n",
      "Requirement already satisfied: Paste in /Users/goodyoung/Desktop/대학교/gytest/lib/python3.11/site-packages (from max) (3.5.2)\n",
      "Requirement already satisfied: bleach in /Users/goodyoung/Desktop/대학교/gytest/lib/python3.11/site-packages (from max) (6.0.0)\n",
      "Requirement already satisfied: pika in /Users/goodyoung/Desktop/대학교/gytest/lib/python3.11/site-packages (from max) (1.3.1)\n",
      "Requirement already satisfied: Pillow in /Users/goodyoung/Desktop/대학교/gytest/lib/python3.11/site-packages (from max) (9.4.0)\n",
      "Collecting max\n",
      "  Using cached max-3.6.zip (2.0 MB)\n",
      "  Preparing metadata (setup.py) ... \u001b[?25ldone\n",
      "\u001b[?25hRequirement already satisfied: osiris in /Users/goodyoung/Desktop/대학교/gytest/lib/python3.11/site-packages (from max) (1.4)\n",
      "Requirement already satisfied: beaker in /Users/goodyoung/Desktop/대학교/gytest/lib/python3.11/site-packages (from max) (1.12.1)\n",
      "Requirement already satisfied: six>=1.9.0 in /Users/goodyoung/Desktop/대학교/gytest/lib/python3.11/site-packages (from bleach->max) (1.16.0)\n",
      "Requirement already satisfied: webencodings in /Users/goodyoung/Desktop/대학교/gytest/lib/python3.11/site-packages (from bleach->max) (0.5.1)\n",
      "Requirement already satisfied: pyramid_who in /Users/goodyoung/Desktop/대학교/gytest/lib/python3.11/site-packages (from osiris->max) (0.3)\n",
      "Requirement already satisfied: dnspython<3.0.0,>=1.16.0 in /Users/goodyoung/Desktop/대학교/gytest/lib/python3.11/site-packages (from pymongo->max) (2.3.0)\n",
      "Requirement already satisfied: hupper>=1.5 in /Users/goodyoung/Desktop/대학교/gytest/lib/python3.11/site-packages (from pyramid->max) (1.11)\n",
      "Requirement already satisfied: plaster in /Users/goodyoung/Desktop/대학교/gytest/lib/python3.11/site-packages (from pyramid->max) (1.1.2)\n",
      "Requirement already satisfied: plaster-pastedeploy in /Users/goodyoung/Desktop/대학교/gytest/lib/python3.11/site-packages (from pyramid->max) (1.0.1)\n",
      "Requirement already satisfied: translationstring>=0.4 in /Users/goodyoung/Desktop/대학교/gytest/lib/python3.11/site-packages (from pyramid->max) (1.4)\n",
      "Requirement already satisfied: venusian>=1.0 in /Users/goodyoung/Desktop/대학교/gytest/lib/python3.11/site-packages (from pyramid->max) (3.0.0)\n",
      "Requirement already satisfied: webob>=1.8.3 in /Users/goodyoung/Desktop/대학교/gytest/lib/python3.11/site-packages (from pyramid->max) (1.8.7)\n",
      "Requirement already satisfied: zope.deprecation>=3.5.0 in /Users/goodyoung/Desktop/대학교/gytest/lib/python3.11/site-packages (from pyramid->max) (4.4.0)\n",
      "Requirement already satisfied: zope.interface>=3.8.0 in /Users/goodyoung/Desktop/대학교/gytest/lib/python3.11/site-packages (from pyramid->max) (6.0)\n",
      "Requirement already satisfied: pyramid-mako>=0.3.1 in /Users/goodyoung/Desktop/대학교/gytest/lib/python3.11/site-packages (from pyramid_debugtoolbar->max) (1.1.0)\n",
      "Requirement already satisfied: Pygments in /Users/goodyoung/Desktop/대학교/gytest/lib/python3.11/site-packages (from pyramid_debugtoolbar->max) (2.14.0)\n",
      "Requirement already satisfied: transaction>=2.0 in /Users/goodyoung/Desktop/대학교/gytest/lib/python3.11/site-packages (from pyramid_tm->max) (3.1.0)\n",
      "Requirement already satisfied: charset-normalizer<4,>=2 in /Users/goodyoung/Desktop/대학교/gytest/lib/python3.11/site-packages (from requests->max) (3.1.0)\n",
      "Requirement already satisfied: idna<4,>=2.5 in /Users/goodyoung/Desktop/대학교/gytest/lib/python3.11/site-packages (from requests->max) (3.4)\n",
      "Requirement already satisfied: urllib3<1.27,>=1.21.1 in /Users/goodyoung/Desktop/대학교/gytest/lib/python3.11/site-packages (from requests->max) (1.26.14)\n",
      "Requirement already satisfied: certifi>=2017.4.17 in /Users/goodyoung/Desktop/대학교/gytest/lib/python3.11/site-packages (from requests->max) (2022.12.7)\n",
      "Requirement already satisfied: oauthlib<4,>=3.2.0 in /Users/goodyoung/Desktop/대학교/gytest/lib/python3.11/site-packages (from tweepy->max) (3.2.2)\n",
      "Requirement already satisfied: requests-oauthlib<2,>=1.2.0 in /Users/goodyoung/Desktop/대학교/gytest/lib/python3.11/site-packages (from tweepy->max) (1.3.1)\n",
      "Requirement already satisfied: Mako>=1.1.0 in /Users/goodyoung/Desktop/대학교/gytest/lib/python3.11/site-packages (from pyramid-mako>=0.3.1->pyramid_debugtoolbar->max) (1.2.4)\n",
      "Requirement already satisfied: PasteDeploy>=2.0 in /Users/goodyoung/Desktop/대학교/gytest/lib/python3.11/site-packages (from plaster-pastedeploy->pyramid->max) (3.0.1)\n",
      "Requirement already satisfied: repoze.who in /Users/goodyoung/Desktop/대학교/gytest/lib/python3.11/site-packages (from pyramid_who->osiris->max) (3.0.0)\n",
      "Requirement already satisfied: MarkupSafe>=0.9.2 in /Users/goodyoung/Desktop/대학교/gytest/lib/python3.11/site-packages (from Mako>=1.1.0->pyramid-mako>=0.3.1->pyramid_debugtoolbar->max) (2.1.2)\n",
      "Installing collected packages: max\n",
      "\u001b[33m  DEPRECATION: max is being installed using the legacy 'setup.py install' method, because it does not have a 'pyproject.toml' and the 'wheel' package is not installed. pip 23.1 will enforce this behaviour change. A possible replacement is to enable the '--use-pep517' option. Discussion can be found at https://github.com/pypa/pip/issues/8559\u001b[0m\u001b[33m\n",
      "\u001b[0m  Running setup.py install for max ... \u001b[?25ldone\n",
      "\u001b[?25hSuccessfully installed max-3.6\n"
     ]
    }
   ],
   "source": [
    "!pip3 install max"
   ]
  },
  {
   "cell_type": "code",
   "execution_count": 3,
   "id": "7076f318-904c-4623-911f-8152822803c1",
   "metadata": {
    "tags": []
   },
   "outputs": [
    {
     "name": "stdout",
     "output_type": "stream",
     "text": [
      "배열의 최댓값을 구합니다.\n",
      "주의: \"End\"를 입력하면 종료합니다.\n"
     ]
    },
    {
     "name": "stdin",
     "output_type": "stream",
     "text": [
      "x[0]를 입력하세요.:  15\n",
      "x[1]를 입력하세요.:  72\n",
      "x[2]를 입력하세요.:  64\n",
      "x[3]를 입력하세요.:  7\n",
      "x[4]를 입력하세요.:  End\n"
     ]
    },
    {
     "name": "stdout",
     "output_type": "stream",
     "text": [
      "4개를 입력했습니다.\n",
      "최댓값은 72입니다.\n"
     ]
    }
   ],
   "source": [
    "#30\n",
    "# from max import max_of\n",
    "print('배열의 최댓값을 구합니다.')\n",
    "print('주의: \"End\"를 입력하면 종료합니다.')\n",
    "number = 0\n",
    "x = []                  \n",
    "while True:\n",
    "    s = input(f'x[{number}]를 입력하세요.: ')\n",
    "    if s == 'End':\n",
    "        break\n",
    "    x.append(int(s))    \n",
    "    number += 1\n",
    "print(f'{number}개를 입력했습니다.')\n",
    "print(f'최댓값은 {max(x)}입니다.')"
   ]
  },
  {
   "cell_type": "code",
   "execution_count": 5,
   "id": "e2032eed-64d3-4481-9b66-7ac273f7abd5",
   "metadata": {
    "tags": []
   },
   "outputs": [
    {
     "name": "stdout",
     "output_type": "stream",
     "text": [
      "난수의 최댓값을 구합니다.\n"
     ]
    },
    {
     "name": "stdin",
     "output_type": "stream",
     "text": [
      "난수의 개수를 입력하세요.:  5\n",
      "난수의 최솟값을 입력하세요.:  10\n",
      "난수의 최댓값을 입력하세요.:  88\n"
     ]
    },
    {
     "name": "stdout",
     "output_type": "stream",
     "text": [
      "[63, 47, 70, 47, 46]\n",
      "이 가운데 최댓값은 70입니다.\n"
     ]
    }
   ],
   "source": [
    "#31\n",
    "import random\n",
    "# from max import max_of\n",
    "print('난수의 최댓값을 구합니다.')\n",
    "num = int(input('난수의 개수를 입력하세요.: '))\n",
    "lo = int(input('난수의 최솟값을 입력하세요.: '))\n",
    "hi = int(input('난수의 최댓값을 입력하세요.: '))\n",
    "x = [None] * num        \n",
    "for i in range(num):\n",
    "    x[i] = random.randint(lo, hi)\n",
    "print(f'{(x)}')\n",
    "print(f'이 가운데 최댓값은 {max(x)}입니다.')"
   ]
  },
  {
   "cell_type": "code",
   "execution_count": 8,
   "id": "d8ecdf21-1a87-4d43-ab65-53a89c0e6558",
   "metadata": {
    "tags": []
   },
   "outputs": [
    {
     "name": "stdout",
     "output_type": "stream",
     "text": [
      "(4, 7, 5.6, 2, 3.14, 1)의 최댓값은 7입니다.\n",
      "string의 최댓값은 t입니다.\n",
      "['DTS', 'AAC', 'FLAC']의 최댓값은 FLAC입니다.\n"
     ]
    }
   ],
   "source": [
    "#32\n",
    "t = (4, 7, 5.6, 2, 3.14, 1)\n",
    "s = 'string'\n",
    "a = ['DTS', 'AAC', 'FLAC']\n",
    "print(f'{t}의 최댓값은 {max(t)}입니다.')\n",
    "print(f'{s}의 최댓값은 {max(s)}입니다.')\n",
    "print(f'{a}의 최댓값은 {max(a)}입니다.')"
   ]
  },
  {
   "cell_type": "code",
   "execution_count": 9,
   "id": "f1e9207a-2fbd-4fd2-a69f-22e5688604e8",
   "metadata": {
    "tags": []
   },
   "outputs": [
    {
     "name": "stdout",
     "output_type": "stream",
     "text": [
      "배열 원소를 역순으로 정렬합니다.\n"
     ]
    },
    {
     "name": "stdin",
     "output_type": "stream",
     "text": [
      "원소 수를 입력하세요.:  7\n",
      "x[0] :  2\n",
      "x[1] :  5\n",
      "x[2] :  1\n",
      "x[3] :  3\n",
      "x[4] :  9\n",
      "x[5] :  6\n",
      "x[6] :  7\n"
     ]
    },
    {
     "name": "stdout",
     "output_type": "stream",
     "text": [
      "배열 원소를 역순으로 정렬했습니다.\n",
      "x[0] = 7\n",
      "x[1] = 6\n",
      "x[2] = 9\n",
      "x[3] = 3\n",
      "x[4] = 1\n",
      "x[5] = 5\n",
      "x[6] = 2\n"
     ]
    }
   ],
   "source": [
    "#33\n",
    "from typing import Any, MutableSequence\n",
    "def reverse_array(a: MutableSequence) -> None:\n",
    "    n = len(a)\n",
    "    for i in range(n // 2):\n",
    "         a[i], a[n - i - 1] = a[n - i - 1], a[i]\n",
    "if __name__ == '__main__':\n",
    "    print('배열 원소를 역순으로 정렬합니다.')\n",
    "    nx = int(input('원소 수를 입력하세요.: '))\n",
    "    x = [None] * nx  \n",
    "    for i in range(nx):\n",
    "        x[i] = int(input(f'x[{i}] : '))\n",
    "    reverse_array(x)  \n",
    "    print('배열 원소를 역순으로 정렬했습니다.')\n",
    "    for i in range(nx):\n",
    "        print(f'x[{i}] = {x[i]}')"
   ]
  },
  {
   "cell_type": "code",
   "execution_count": 10,
   "id": "b9f2e1bf-f4ff-414f-9363-66ac73c3b1d1",
   "metadata": {
    "tags": []
   },
   "outputs": [],
   "source": [
    "#34\n",
    "def card_conv(x: int, r: int) -> str:\n",
    "    d = ''\n",
    "    dchar = '0123456789ABCDEFGHIJKLMNOPQRSTUVWXYZ'\n",
    "    while x > 0:\n",
    "        d += dchar [x % r]  \n",
    "        x //= r\n",
    "    return d[::-1]          "
   ]
  },
  {
   "cell_type": "code",
   "execution_count": 11,
   "id": "7b5271c7-d04d-4da3-a6ef-c7935dea187e",
   "metadata": {
    "tags": []
   },
   "outputs": [
    {
     "name": "stdout",
     "output_type": "stream",
     "text": [
      "10진수를 n진수로 변환합니다.\n"
     ]
    },
    {
     "name": "stdin",
     "output_type": "stream",
     "text": [
      "변환할 값으로 음이 아닌 정수를 입력하세요.:  29\n",
      "어떤 진수로 변환할까요?:  2\n"
     ]
    },
    {
     "name": "stdout",
     "output_type": "stream",
     "text": [
      "2진수로는 11101입니다.\n"
     ]
    },
    {
     "name": "stdin",
     "output_type": "stream",
     "text": [
      "한 번 더 변환할까요?(Y ... 예/N ... 아니오):  N\n"
     ]
    }
   ],
   "source": [
    "#35\n",
    "if __name__ == '__main__':\n",
    "    print('10진수를 n진수로 변환합니다.')\n",
    "    while True:\n",
    "        while True :\n",
    "            no = int(input('변환할 값으로 음이 아닌 정수를 입력하세요.: '))\n",
    "            if no > 0:\n",
    "                break\n",
    "        while True :\n",
    "            cd = int(input('어떤 진수로 변환할까요?: '))\n",
    "            if 2 <=  cd <=  36:\n",
    "                break\n",
    "        print(f'{cd}진수로는 {card_conv(no, cd)}입니다.')\n",
    "        retry = input( \"한 번 더 변환할까요?(Y ... 예/N ... 아니오): \")\n",
    "        if retry in {'N', 'n'}:\n",
    "            break"
   ]
  },
  {
   "cell_type": "code",
   "execution_count": 15,
   "id": "235ef470-bbec-4b72-aebb-63c99065d280",
   "metadata": {
    "tags": []
   },
   "outputs": [
    {
     "name": "stdout",
     "output_type": "stream",
     "text": [
      "10진수를 n진수로 변환합니다.\n"
     ]
    },
    {
     "name": "stdin",
     "output_type": "stream",
     "text": [
      "변환할 값으로 음이 아닌 정수를 입력하세요.:  29\n",
      "어떤 진수로 변환할까요?:  2\n"
     ]
    },
    {
     "name": "stdout",
     "output_type": "stream",
     "text": [
      " 2 | 29\n",
      "   +----\n",
      " 2 | 14 … 1\n",
      "   +----\n",
      " 2 |  7 … 0\n",
      "   +----\n",
      " 2 |  3 … 1\n",
      "   +----\n",
      " 2 |  1 … 1\n",
      "   +----\n",
      "      0 … 1\n",
      "2진수로는 11101입니다.\n"
     ]
    },
    {
     "name": "stdin",
     "output_type": "stream",
     "text": [
      "한 번 더 변환할까요?(Y ... 예/N ... 아니오):  N\n"
     ]
    }
   ],
   "source": [
    "#36\n",
    "def card_conv(x: int, r: int) -> str:\n",
    "    d =  '' \n",
    "    dchar = '0123456789ABCDEFGHIJKLMNOPQRSTUVWXYZ'\n",
    "    n = len(str(x))  \n",
    "    print(f'{r:2} | {x:{n}d}')\n",
    "    while x > 0:\n",
    "        print('   +' + (n + 2) * '-')\n",
    "        if x // r:\n",
    "            print(f'{r:2} | {x // r:{n}d} … {x % r}')\n",
    "        else:\n",
    "            print(f'     {x // r:{n}d} … {x % r}')\n",
    "        d += dchar [x % r]  \n",
    "        x //= r\n",
    "    return d[::-1]\n",
    "if __name__ == '__main__':\n",
    "    print('10진수를 n진수로 변환합니다.')\n",
    "    while True:\n",
    "        while True :\n",
    "            no = int(input('변환할 값으로 음이 아닌 정수를 입력하세요.: '))\n",
    "            if no > 0:\n",
    "                break\n",
    "        while True :\n",
    "            cd = int(input('어떤 진수로 변환할까요?: '))\n",
    "            if 2 <=  cd <=  36:\n",
    "                break\n",
    "        print(f'{cd}진수로는 {card_conv(no, cd)}입니다.')\n",
    "        retry = input( \"한 번 더 변환할까요?(Y ... 예/N ... 아니오): \")\n",
    "        if retry in {'N', 'n'}:\n",
    "            break"
   ]
  },
  {
   "cell_type": "code",
   "execution_count": 16,
   "id": "37e57fbd-2fdc-407e-8a10-dd6820341621",
   "metadata": {
    "tags": []
   },
   "outputs": [
    {
     "name": "stdout",
     "output_type": "stream",
     "text": [
      "2\n",
      "3\n",
      "5\n",
      "7\n",
      "11\n",
      "13\n",
      "17\n",
      "19\n",
      "23\n",
      "29\n",
      "31\n",
      "37\n",
      "41\n",
      "43\n",
      "47\n",
      "53\n",
      "59\n",
      "61\n",
      "67\n",
      "71\n",
      "73\n",
      "79\n",
      "83\n",
      "89\n",
      "97\n",
      "101\n",
      "103\n",
      "107\n",
      "109\n",
      "113\n",
      "127\n",
      "131\n",
      "137\n",
      "139\n",
      "149\n",
      "151\n",
      "157\n",
      "163\n",
      "167\n",
      "173\n",
      "179\n",
      "181\n",
      "191\n",
      "193\n",
      "197\n",
      "199\n",
      "211\n",
      "223\n",
      "227\n",
      "229\n",
      "233\n",
      "239\n",
      "241\n",
      "251\n",
      "257\n",
      "263\n",
      "269\n",
      "271\n",
      "277\n",
      "281\n",
      "283\n",
      "293\n",
      "307\n",
      "311\n",
      "313\n",
      "317\n",
      "331\n",
      "337\n",
      "347\n",
      "349\n",
      "353\n",
      "359\n",
      "367\n",
      "373\n",
      "379\n",
      "383\n",
      "389\n",
      "397\n",
      "401\n",
      "409\n",
      "419\n",
      "421\n",
      "431\n",
      "433\n",
      "439\n",
      "443\n",
      "449\n",
      "457\n",
      "461\n",
      "463\n",
      "467\n",
      "479\n",
      "487\n",
      "491\n",
      "499\n",
      "503\n",
      "509\n",
      "521\n",
      "523\n",
      "541\n",
      "547\n",
      "557\n",
      "563\n",
      "569\n",
      "571\n",
      "577\n",
      "587\n",
      "593\n",
      "599\n",
      "601\n",
      "607\n",
      "613\n",
      "617\n",
      "619\n",
      "631\n",
      "641\n",
      "643\n",
      "647\n",
      "653\n",
      "659\n",
      "661\n",
      "673\n",
      "677\n",
      "683\n",
      "691\n",
      "701\n",
      "709\n",
      "719\n",
      "727\n",
      "733\n",
      "739\n",
      "743\n",
      "751\n",
      "757\n",
      "761\n",
      "769\n",
      "773\n",
      "787\n",
      "797\n",
      "809\n",
      "811\n",
      "821\n",
      "823\n",
      "827\n",
      "829\n",
      "839\n",
      "853\n",
      "857\n",
      "859\n",
      "863\n",
      "877\n",
      "881\n",
      "883\n",
      "887\n",
      "907\n",
      "911\n",
      "919\n",
      "929\n",
      "937\n",
      "941\n",
      "947\n",
      "953\n",
      "967\n",
      "971\n",
      "977\n",
      "983\n",
      "991\n",
      "997\n",
      "나눗셈을 실행한 횟수: 78022\n"
     ]
    }
   ],
   "source": [
    "#37\n",
    "counter = 0  # 나눗셈 횟수\n",
    "\n",
    "for n in range(2, 1001):\n",
    "    for i in range(2, n):\n",
    "        counter += 1\n",
    "        if n % i == 0 :     \n",
    "            break           \n",
    "    else:                   \n",
    "        print(n)\n",
    "print(f'나눗셈을 실행한 횟수: {counter}')"
   ]
  },
  {
   "cell_type": "code",
   "execution_count": 17,
   "id": "a82b5224-b004-4c7c-bbc0-12e3d18c65f7",
   "metadata": {
    "tags": []
   },
   "outputs": [
    {
     "name": "stdout",
     "output_type": "stream",
     "text": [
      "2\n",
      "3\n",
      "5\n",
      "7\n",
      "11\n",
      "13\n",
      "17\n",
      "19\n",
      "23\n",
      "29\n",
      "31\n",
      "37\n",
      "41\n",
      "43\n",
      "47\n",
      "53\n",
      "59\n",
      "61\n",
      "67\n",
      "71\n",
      "73\n",
      "79\n",
      "83\n",
      "89\n",
      "97\n",
      "101\n",
      "103\n",
      "107\n",
      "109\n",
      "113\n",
      "127\n",
      "131\n",
      "137\n",
      "139\n",
      "149\n",
      "151\n",
      "157\n",
      "163\n",
      "167\n",
      "173\n",
      "179\n",
      "181\n",
      "191\n",
      "193\n",
      "197\n",
      "199\n",
      "211\n",
      "223\n",
      "227\n",
      "229\n",
      "233\n",
      "239\n",
      "241\n",
      "251\n",
      "257\n",
      "263\n",
      "269\n",
      "271\n",
      "277\n",
      "281\n",
      "283\n",
      "293\n",
      "307\n",
      "311\n",
      "313\n",
      "317\n",
      "331\n",
      "337\n",
      "347\n",
      "349\n",
      "353\n",
      "359\n",
      "367\n",
      "373\n",
      "379\n",
      "383\n",
      "389\n",
      "397\n",
      "401\n",
      "409\n",
      "419\n",
      "421\n",
      "431\n",
      "433\n",
      "439\n",
      "443\n",
      "449\n",
      "457\n",
      "461\n",
      "463\n",
      "467\n",
      "479\n",
      "487\n",
      "491\n",
      "499\n",
      "503\n",
      "509\n",
      "521\n",
      "523\n",
      "541\n",
      "547\n",
      "557\n",
      "563\n",
      "569\n",
      "571\n",
      "577\n",
      "587\n",
      "593\n",
      "599\n",
      "601\n",
      "607\n",
      "613\n",
      "617\n",
      "619\n",
      "631\n",
      "641\n",
      "643\n",
      "647\n",
      "653\n",
      "659\n",
      "661\n",
      "673\n",
      "677\n",
      "683\n",
      "691\n",
      "701\n",
      "709\n",
      "719\n",
      "727\n",
      "733\n",
      "739\n",
      "743\n",
      "751\n",
      "757\n",
      "761\n",
      "769\n",
      "773\n",
      "787\n",
      "797\n",
      "809\n",
      "811\n",
      "821\n",
      "823\n",
      "827\n",
      "829\n",
      "839\n",
      "853\n",
      "857\n",
      "859\n",
      "863\n",
      "877\n",
      "881\n",
      "883\n",
      "887\n",
      "907\n",
      "911\n",
      "919\n",
      "929\n",
      "937\n",
      "941\n",
      "947\n",
      "953\n",
      "967\n",
      "971\n",
      "977\n",
      "983\n",
      "991\n",
      "997\n",
      "나눗셈을 실행한 횟수: 14622\n"
     ]
    }
   ],
   "source": [
    "#38\n",
    "counter = 0           \n",
    "ptr = 0               \n",
    "prime = [None] * 500  \n",
    "prime[ptr] = 2        \n",
    "ptr += 1\n",
    "\n",
    "for n in range(3, 1001, 2):  \n",
    "    for i in range(1, ptr):  \n",
    "        counter += 1\n",
    "        if n % prime[i] == 0:  \n",
    "            break              \n",
    "    else:                      \n",
    "        prime[ptr] = n         \n",
    "        ptr += 1\n",
    "\n",
    "for i in range(ptr):  \n",
    "    print(prime[i])\n",
    "print(f'나눗셈을 실행한 횟수: {counter}')"
   ]
  },
  {
   "cell_type": "code",
   "execution_count": 18,
   "id": "4f708d7f-f46c-4a44-9340-3adc2703ee76",
   "metadata": {
    "tags": []
   },
   "outputs": [
    {
     "name": "stdout",
     "output_type": "stream",
     "text": [
      "2\n",
      "3\n",
      "5\n",
      "7\n",
      "11\n",
      "13\n",
      "17\n",
      "19\n",
      "23\n",
      "29\n",
      "31\n",
      "37\n",
      "41\n",
      "43\n",
      "47\n",
      "53\n",
      "59\n",
      "61\n",
      "67\n",
      "71\n",
      "73\n",
      "79\n",
      "83\n",
      "89\n",
      "97\n",
      "101\n",
      "103\n",
      "107\n",
      "109\n",
      "113\n",
      "127\n",
      "131\n",
      "137\n",
      "139\n",
      "149\n",
      "151\n",
      "157\n",
      "163\n",
      "167\n",
      "173\n",
      "179\n",
      "181\n",
      "191\n",
      "193\n",
      "197\n",
      "199\n",
      "211\n",
      "223\n",
      "227\n",
      "229\n",
      "233\n",
      "239\n",
      "241\n",
      "251\n",
      "257\n",
      "263\n",
      "269\n",
      "271\n",
      "277\n",
      "281\n",
      "283\n",
      "293\n",
      "307\n",
      "311\n",
      "313\n",
      "317\n",
      "331\n",
      "337\n",
      "347\n",
      "349\n",
      "353\n",
      "359\n",
      "367\n",
      "373\n",
      "379\n",
      "383\n",
      "389\n",
      "397\n",
      "401\n",
      "409\n",
      "419\n",
      "421\n",
      "431\n",
      "433\n",
      "439\n",
      "443\n",
      "449\n",
      "457\n",
      "461\n",
      "463\n",
      "467\n",
      "479\n",
      "487\n",
      "491\n",
      "499\n",
      "503\n",
      "509\n",
      "521\n",
      "523\n",
      "541\n",
      "547\n",
      "557\n",
      "563\n",
      "569\n",
      "571\n",
      "577\n",
      "587\n",
      "593\n",
      "599\n",
      "601\n",
      "607\n",
      "613\n",
      "617\n",
      "619\n",
      "631\n",
      "641\n",
      "643\n",
      "647\n",
      "653\n",
      "659\n",
      "661\n",
      "673\n",
      "677\n",
      "683\n",
      "691\n",
      "701\n",
      "709\n",
      "719\n",
      "727\n",
      "733\n",
      "739\n",
      "743\n",
      "751\n",
      "757\n",
      "761\n",
      "769\n",
      "773\n",
      "787\n",
      "797\n",
      "809\n",
      "811\n",
      "821\n",
      "823\n",
      "827\n",
      "829\n",
      "839\n",
      "853\n",
      "857\n",
      "859\n",
      "863\n",
      "877\n",
      "881\n",
      "883\n",
      "887\n",
      "907\n",
      "911\n",
      "919\n",
      "929\n",
      "937\n",
      "941\n",
      "947\n",
      "953\n",
      "967\n",
      "971\n",
      "977\n",
      "983\n",
      "991\n",
      "997\n",
      "곱셈과 나눗셈을 실행한 횟수: 3774\n"
     ]
    }
   ],
   "source": [
    "#39\n",
    "counter = 0           \n",
    "ptr = 0               \n",
    "prime = [None] * 500  \n",
    "\n",
    "prime[ptr] = 2  \n",
    "ptr += 1\n",
    "\n",
    "prime[ptr] = 3  \n",
    "ptr += 1\n",
    "\n",
    "for n in range(5, 1001, 2):    \n",
    "    i = 1\n",
    "    while prime[i] * prime[i] <=  n:\n",
    "        counter += 2\n",
    "        if n % prime[i] == 0:  \n",
    "            break              \n",
    "        i += 1\n",
    "    else:                      \n",
    "        prime[ptr] = n         \n",
    "        ptr += 1\n",
    "        counter += 1\n",
    "\n",
    "for i in range(ptr):  \n",
    "    print(prime[i])\n",
    "print(f'곱셈과 나눗셈을 실행한 횟수: {counter}')"
   ]
  }
 ],
 "metadata": {
  "kernelspec": {
   "display_name": "Python 3 (ipykernel)",
   "language": "python",
   "name": "python3"
  },
  "language_info": {
   "codemirror_mode": {
    "name": "ipython",
    "version": 3
   },
   "file_extension": ".py",
   "mimetype": "text/x-python",
   "name": "python",
   "nbconvert_exporter": "python",
   "pygments_lexer": "ipython3",
   "version": "3.11.2"
  }
 },
 "nbformat": 4,
 "nbformat_minor": 5
}
